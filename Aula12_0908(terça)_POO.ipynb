{
  "nbformat": 4,
  "nbformat_minor": 0,
  "metadata": {
    "colab": {
      "name": "Aula12_0908(terça)_POO.ipynb",
      "provenance": [],
      "collapsed_sections": [],
      "authorship_tag": "ABX9TyNCXHf/JKp6yWiTR48Ek6uD",
      "include_colab_link": true
    },
    "kernelspec": {
      "name": "python3",
      "display_name": "Python 3"
    },
    "language_info": {
      "name": "python"
    }
  },
  "cells": [
    {
      "cell_type": "markdown",
      "metadata": {
        "id": "view-in-github",
        "colab_type": "text"
      },
      "source": [
        "<a href=\"https://colab.research.google.com/github/fernandonakagawa/Python_TCS_100h/blob/main/Aula12_0908(ter%C3%A7a)_POO.ipynb\" target=\"_parent\"><img src=\"https://colab.research.google.com/assets/colab-badge.svg\" alt=\"Open In Colab\"/></a>"
      ]
    },
    {
      "cell_type": "markdown",
      "source": [
        "Atividade 10"
      ],
      "metadata": {
        "id": "QiYOGvzARh45"
      }
    },
    {
      "cell_type": "markdown",
      "source": [
        "A medida de eficiência de um carro é medida em km/l (quantos km o\n",
        "carro anda com 1 litro de combustível). Faça um algoritmo que\n",
        "calcule a eficiência de um carro tendo como entrada a distância\n",
        "percorrida e a quantidade de combustível gasta em litros.\n",
        "\n",
        "Exemplo:\n",
        "\n",
        "distância percorrida = 300km\n",
        "\n",
        "quantidade gasta = 20 litros\n",
        "\n",
        "eficiência: 15km/l"
      ],
      "metadata": {
        "id": "lo9vX2EmTjUq"
      }
    },
    {
      "cell_type": "code",
      "execution_count": 1,
      "metadata": {
        "colab": {
          "base_uri": "https://localhost:8080/"
        },
        "id": "zgZs0aseRXdL",
        "outputId": "450249ce-4a36-4e37-b75c-e9905649ae0f"
      },
      "outputs": [
        {
          "output_type": "execute_result",
          "data": {
            "text/plain": [
              "15.0"
            ]
          },
          "metadata": {},
          "execution_count": 1
        }
      ],
      "source": [
        "def eficiencia(distancia, quantidade):\n",
        "  return distancia/quantidade\n",
        "\n",
        "eficiencia_carro = eficiencia(300,20)\n",
        "eficiencia_carro"
      ]
    },
    {
      "cell_type": "markdown",
      "source": [
        "Escreva na tela “Boa Madrugada”, “Bom dia”, “Boa tarde” ou “Boa\n",
        "noite” dependendo da hora do dia que o usuário digitar no\n",
        "teclado. Caso a hora seja inválida mostre: “Erro. Hora inválida”."
      ],
      "metadata": {
        "id": "KJh8BR6oUJO5"
      }
    },
    {
      "cell_type": "code",
      "source": [
        "def cumprimentar(hora):\n",
        "  if hora >= 0 and hora < 6: return \"Boa madrugada.\"\n",
        "  elif hora >= 6 and hora < 12: return \"Bom dia.\"\n",
        "  elif hora >= 12 and hora < 18: return \"Boa tarde.\"\n",
        "  elif hora >= 18 and hora < 24: return \"Boa noite.\"\n",
        "  #else: return \"Erro. Hora inválida.\"\n",
        "  else: raise Exception(\"Erro. Hora inválida\")\n",
        "\n",
        "cumprimentar(int(input(\"Digite a hora do dia: \")))\n"
      ],
      "metadata": {
        "colab": {
          "base_uri": "https://localhost:8080/",
          "height": 53
        },
        "id": "MXWfU8-aT6T6",
        "outputId": "365bca04-670e-431d-9a3e-daf7a2eb7bc3"
      },
      "execution_count": 5,
      "outputs": [
        {
          "name": "stdout",
          "output_type": "stream",
          "text": [
            "Digite a hora do dia: 12\n"
          ]
        },
        {
          "output_type": "execute_result",
          "data": {
            "text/plain": [
              "'Boa tarde.'"
            ],
            "application/vnd.google.colaboratory.intrinsic+json": {
              "type": "string"
            }
          },
          "metadata": {},
          "execution_count": 5
        }
      ]
    },
    {
      "cell_type": "markdown",
      "source": [
        "Mostrar na tela somente números primos de 2 à 100;"
      ],
      "metadata": {
        "id": "u9bi6J2oVGDz"
      }
    },
    {
      "cell_type": "code",
      "source": [
        "def calcular_primos(inicio, fim):\n",
        "  primos = []\n",
        "  if inicio < 2: inicio = 2\n",
        "  if fim < 2: raise Exception(\"Erro. O fim deve ser maior ou igual a 2.\")\n",
        "  for i in range(inicio, fim):\n",
        "    isPrimo = True\n",
        "    for a in range(2, i):\n",
        "      if i % a == 0:\n",
        "        isPrimo = False\n",
        "        break\n",
        "    if isPrimo: primos.append(i)\n",
        "  return primos\n",
        "\n",
        "primos = calcular_primos(2,100)\n",
        "primos"
      ],
      "metadata": {
        "colab": {
          "base_uri": "https://localhost:8080/"
        },
        "id": "T-j1tjwGVEpd",
        "outputId": "f7b74d34-2f0e-4846-a482-e7000e77f8cf"
      },
      "execution_count": 9,
      "outputs": [
        {
          "output_type": "execute_result",
          "data": {
            "text/plain": [
              "[2,\n",
              " 3,\n",
              " 5,\n",
              " 7,\n",
              " 11,\n",
              " 13,\n",
              " 17,\n",
              " 19,\n",
              " 23,\n",
              " 29,\n",
              " 31,\n",
              " 37,\n",
              " 41,\n",
              " 43,\n",
              " 47,\n",
              " 53,\n",
              " 59,\n",
              " 61,\n",
              " 67,\n",
              " 71,\n",
              " 73,\n",
              " 79,\n",
              " 83,\n",
              " 89,\n",
              " 97]"
            ]
          },
          "metadata": {},
          "execution_count": 9
        }
      ]
    },
    {
      "cell_type": "markdown",
      "source": [
        "Crie uma lista de string vetI e atribua a cada um de seus\n",
        "elementos um nome com dados vindos do teclado.\n",
        "Por exemplo:\n",
        "\n",
        "vetI[0] =&gt; &quot;Maria&quot;;\n",
        "\n",
        "vetI[1] =&gt; &quot;Joao&quot;;\n",
        "\n",
        "vetI[2] =&gt; &quot;Marcelo&quot;;\n",
        "\n",
        "vetI[3] =&gt; &quot;Antonia&quot;;\n",
        "\n",
        "Atribua à uma string sBusca um nome com dados vindos do teclado.\n",
        "Mostre na tela os valores dos índices que contém sBusca.\n",
        "\n",
        "sBusca =&gt; &quot;Marcelo&quot;\n",
        "\n",
        "saída: 2"
      ],
      "metadata": {
        "id": "ZGXBUJsmW5iQ"
      }
    },
    {
      "cell_type": "code",
      "source": [
        "def ler_nomes(quantidade):\n",
        "  nomes = []\n",
        "  for i in range(quantidade):\n",
        "    nomes.append(input(f\"Digite o nome {i+1}: \"))\n",
        "  return nomes\n",
        "\n",
        "def buscar_nomes(nomes):\n",
        "  nomes_encontrados = [] \n",
        "  s_busca = input(\"Digite o termo de busca: \")\n",
        "  for i, nome in enumerate(nomes):\n",
        "    if s_busca == nome: nomes_encontrados.append(i)\n",
        "  return nomes_encontrados\n",
        "\n",
        "buscar_nomes(ler_nomes(4))"
      ],
      "metadata": {
        "colab": {
          "base_uri": "https://localhost:8080/"
        },
        "id": "qb-LfAzyWOaq",
        "outputId": "583a2eac-f73a-4bec-d769-8f09e8db0082"
      },
      "execution_count": 11,
      "outputs": [
        {
          "name": "stdout",
          "output_type": "stream",
          "text": [
            "Digite o nome 1: Jhon\n",
            "Digite o nome 2: Daniel\n",
            "Digite o nome 3: Ivan\n",
            "Digite o nome 4: Jhon\n",
            "Digite o termo de busca: Jhon\n"
          ]
        },
        {
          "output_type": "execute_result",
          "data": {
            "text/plain": [
              "[0, 3]"
            ]
          },
          "metadata": {},
          "execution_count": 11
        }
      ]
    },
    {
      "cell_type": "markdown",
      "source": [
        "receba um inteiro e retorne se ele é primo ou não."
      ],
      "metadata": {
        "id": "LEUF4RO-YElh"
      }
    },
    {
      "cell_type": "code",
      "source": [
        "def isPrimo(i):\n",
        "  for a in range(2, i):\n",
        "    if i % a == 0: return False\n",
        "  return True\n",
        "\n",
        "print(isPrimo(7))\n",
        "\n",
        "def calcular_primos(inicio, fim):\n",
        "  primos = []\n",
        "  if inicio < 2: inicio = 2\n",
        "  if fim < 2: raise Exception(\"Erro. O fim deve ser maior ou igual a 2.\")\n",
        "  for i in range(inicio, fim):\n",
        "    if isPrimo(i): primos.append(i)\n",
        "  return primos"
      ],
      "metadata": {
        "colab": {
          "base_uri": "https://localhost:8080/"
        },
        "id": "ngYtzO7qXrFE",
        "outputId": "c6879e81-adb0-42c7-e290-a57583690691"
      },
      "execution_count": 14,
      "outputs": [
        {
          "output_type": "stream",
          "name": "stdout",
          "text": [
            "True\n"
          ]
        }
      ]
    },
    {
      "cell_type": "markdown",
      "source": [
        "Que calcule juros compostos depositados numa conta de poupança.\n",
        "Receba dois floats e um inteiro. O primeiro parâmetro é o valor\n",
        "depositado (float), o segundo deve ser o valor dos juros (float e\n",
        "o terceiro deve ser a quantidade de meses que o dinheiro ficará\n",
        "na poupança (int). Calcule os juros compostos e retorne o valor\n",
        "atualizado."
      ],
      "metadata": {
        "id": "ZGn6Tc-LZB0w"
      }
    },
    {
      "cell_type": "code",
      "source": [
        "def calcular_juros_compostos(valor, juros, meses):\n",
        "  for i in range(meses):\n",
        "    valor += valor * juros\n",
        "  return valor\n",
        "\n",
        "calcular_juros_compostos(1000, 0.01, 3)"
      ],
      "metadata": {
        "colab": {
          "base_uri": "https://localhost:8080/"
        },
        "id": "V9ujeCZuYoiw",
        "outputId": "1076852e-0c8f-4dff-824c-a74fe8298f31"
      },
      "execution_count": 15,
      "outputs": [
        {
          "output_type": "execute_result",
          "data": {
            "text/plain": [
              "1030.301"
            ]
          },
          "metadata": {},
          "execution_count": 15
        }
      ]
    },
    {
      "cell_type": "markdown",
      "source": [
        "receba por parâmetro uma String e mostre no console a mensagem\n",
        "com uma moldura. A moldura deve acompanhar o tamanho do texto.\n",
        "ex:\n",
        "\n",
        "\\*--------------------*\n",
        "\n",
        "\\* mensagem *\n",
        "\n",
        "\\*--------------------*"
      ],
      "metadata": {
        "id": "k6LYeAaPZlkv"
      }
    },
    {
      "cell_type": "code",
      "source": [
        "def imprimir_linha(tamanho):\n",
        "  print(\"* \", end=\"\")\n",
        "  for i in range(tamanho):\n",
        "    print(\"-\", end=\"\")\n",
        "  print(\" *\", end=\"\")\n",
        "def criar_mensagem_moldura(mensagem):\n",
        "  imprimir_linha(len(mensagem))\n",
        "  print(f\"\\n* {mensagem} *\")\n",
        "  imprimir_linha(len(mensagem))\n",
        "  print()\n",
        "\n",
        "criar_mensagem_moldura(\"Bom dia\")\n",
        "criar_mensagem_moldura(\"Tenha um dia abençoado !!!!!!!!!!!\")"
      ],
      "metadata": {
        "colab": {
          "base_uri": "https://localhost:8080/"
        },
        "id": "3N6xV1wQZbyd",
        "outputId": "f68a07f0-b873-4936-e798-60aac869cb42"
      },
      "execution_count": 22,
      "outputs": [
        {
          "output_type": "stream",
          "name": "stdout",
          "text": [
            "* ------- *\n",
            "* Bom dia *\n",
            "* ------- *\n",
            "* ---------------------------------- *\n",
            "* Tenha um dia abençoado !!!!!!!!!!! *\n",
            "* ---------------------------------- *\n"
          ]
        }
      ]
    },
    {
      "cell_type": "markdown",
      "source": [
        "receba dois vetores e retorne um vetor com a sua concatenação"
      ],
      "metadata": {
        "id": "b_ptn910a0NL"
      }
    },
    {
      "cell_type": "code",
      "source": [
        "def concatenar(v1, v2):\n",
        "  #return v1+v2\n",
        "  #vet = v1.extend(v2)\n",
        "  vet = [*v1, *v2]\n",
        "  #v1.extend(v2)\n",
        "  #return v1\n",
        "  return vet\n",
        "\n",
        "vetA = [1,2,3]\n",
        "vetB = [4,5,6]\n",
        "print(concatenar(vetA, vetB))"
      ],
      "metadata": {
        "colab": {
          "base_uri": "https://localhost:8080/"
        },
        "id": "7lZllyH6aHfe",
        "outputId": "6fa5a2d2-35c3-4db5-caf3-17e7567a50e7"
      },
      "execution_count": 4,
      "outputs": [
        {
          "output_type": "stream",
          "name": "stdout",
          "text": [
            "[1, 2, 3, 4, 5, 6]\n"
          ]
        }
      ]
    },
    {
      "cell_type": "code",
      "source": [
        "import numpy as np\n",
        "vetC = np.array([1,2,3])\n",
        "vetD = np.array([4,5,6])\n",
        "concatenar(vetC, vetD)"
      ],
      "metadata": {
        "colab": {
          "base_uri": "https://localhost:8080/"
        },
        "id": "UpZIOu5ubDPt",
        "outputId": "55f47de6-894f-43d9-e342-5e08d876c60a"
      },
      "execution_count": 5,
      "outputs": [
        {
          "output_type": "execute_result",
          "data": {
            "text/plain": [
              "[1, 2, 3, 4, 5, 6]"
            ]
          },
          "metadata": {},
          "execution_count": 5
        }
      ]
    },
    {
      "cell_type": "code",
      "source": [
        "a = [1,2,3]\n",
        "b = [4,5,6]\n",
        "a.extend(b)\n",
        "a"
      ],
      "metadata": {
        "colab": {
          "base_uri": "https://localhost:8080/"
        },
        "id": "eAZi5hqmbjir",
        "outputId": "a2df8829-746d-4b97-f5af-6d451d03cb16"
      },
      "execution_count": 31,
      "outputs": [
        {
          "output_type": "execute_result",
          "data": {
            "text/plain": [
              "[1, 2, 3, 4, 5, 6]"
            ]
          },
          "metadata": {},
          "execution_count": 31
        }
      ]
    },
    {
      "cell_type": "markdown",
      "source": [
        "Descreva em classe, atributos e métodos os seguintes objetos do mundo\n",
        "real abstraídos em um sistema com os seguintes contextos:\n",
        "\n",
        "Gato\n",
        "\n",
        "- sistema de um hospital veterinário.\n",
        "\n",
        "Classe: Gato\n",
        "\n",
        "Atributos: nome, cor, peso, raça, data de nascimento, dono, tipo sanguíneo, comorbidades, prontuários\n",
        "\n",
        "Métodos: ser consultado, ser internado, receber medicação\n",
        "\n",
        "- sistema de um hotel pet.\n",
        "\n",
        "Classe: Gato\n",
        "\n",
        "Atributos: nome, cor, porte, raça, data de nascimento, dono, cuidados, alimentação\n",
        "\n",
        "Métodos: ser hospedado, ser liberado, receber cuidados, receber comida\n",
        "\n"
      ],
      "metadata": {
        "id": "ZScmHZVQdsR5"
      }
    },
    {
      "cell_type": "markdown",
      "source": [
        "Carro\n",
        "- sistema de uma concessionária.\n",
        "\n",
        "Classe: Carro\n",
        "\n",
        "Atributos: modelo, marca, cor, versão, ano, chassi, número de portas..., valor\n",
        "\n",
        "Métodos: ingressar, ser vendido, ser financiado, ser revisado\n",
        "\n",
        "\n",
        "- sistema de venda de carros usados.\n",
        "\n",
        "Classe: Carro\n",
        "\n",
        "Atributos: modelo, marca, cor, versão, ano, chassi, dono, placa, à venda desde de, valor\n",
        "\n",
        "Métodos: ser consignado, ser vendido, ser financiado, receber manutenção\n",
        "\n",
        "- sistema de uma indústria montadora.\n",
        "\n",
        "Classe: Carro\n",
        "\n",
        "Atributos: modelo, marca, cor, versão, ano, chassi, valor, data e hora de início de fabricação, data e hora do fim da fabricação, lote\n",
        "\n",
        "Métodos: ser montado, receber peça, receber pintura, ser despachado, ser verificado"
      ],
      "metadata": {
        "id": "QloweAxzf_mt"
      }
    },
    {
      "cell_type": "code",
      "source": [
        ""
      ],
      "metadata": {
        "id": "aVRJNimhceoX"
      },
      "execution_count": null,
      "outputs": []
    },
    {
      "cell_type": "markdown",
      "source": [
        "Aula 12"
      ],
      "metadata": {
        "id": "gsFaIQorlci2"
      }
    },
    {
      "cell_type": "code",
      "source": [
        "class Cachorro():\n",
        "  def __init__(self, nome, cor, ano_nasc):\n",
        "    self.__nome = nome\n",
        "    self.__cor = cor\n",
        "    self.__ano_nasc = ano_nasc\n",
        "  def __str__(self):\n",
        "    return f\"{id(self)} - {self.__nome} tem cor {self.__cor} e \\\n",
        "    nasceu em {self.ano_nasc}.\"\n",
        "  def latir(self):\n",
        "    return \"Au\"\n",
        "  \n",
        "  @property\n",
        "  def nome(self):\n",
        "    return self.__nome\n",
        "\n",
        "  @nome.setter\n",
        "  def nome(self, nome):\n",
        "    if len(nome) <= 1: self.__nome = \"Sem nome\"\n",
        "    else: self.__nome = nome\n",
        "\n",
        "  @property\n",
        "  def ano_nasc(self): return self.__ano_nasc\n",
        "  @ano_nasc.setter\n",
        "  def ano_nasc(self, ano):\n",
        "    if ano < 1990: self.__ano_nasc = 2000\n",
        "    else: self.__ano_nasc = ano"
      ],
      "metadata": {
        "id": "dqojVLePld1E"
      },
      "execution_count": 42,
      "outputs": []
    },
    {
      "cell_type": "code",
      "source": [
        "c = Cachorro(\"Totó\", \"Caramelo\", 2015)\n",
        "print(c)\n",
        "c2 = Cachorro(\"Belinha\", \"Branca\", 2012)\n",
        "print(c2)\n",
        "c3 = c\n",
        "print(c3)\n",
        "#print(c.__nome)\n",
        "c.__nome = \"Totozinho\" #cuidado\n",
        "c.ano_nasc = 2020\n",
        "c.nome = \"Totozinho\"\n",
        "c.nome = \"X\"\n",
        "c.ano_nasc = 1991\n",
        "print(c)\n",
        "print(c.nome)\n"
      ],
      "metadata": {
        "colab": {
          "base_uri": "https://localhost:8080/"
        },
        "id": "dYOz08HkqWgH",
        "outputId": "bd354d51-7149-46b5-fb9a-029bab84a28a"
      },
      "execution_count": 44,
      "outputs": [
        {
          "output_type": "stream",
          "name": "stdout",
          "text": [
            "140142891072976 - Totó tem cor Caramelo e     nasceu em 2015.\n",
            "140142884249936 - Belinha tem cor Branca e     nasceu em 2012.\n",
            "140142891072976 - Totó tem cor Caramelo e     nasceu em 2015.\n",
            "140142891072976 - Sem nome tem cor Caramelo e     nasceu em 1991.\n",
            "Sem nome\n"
          ]
        }
      ]
    },
    {
      "cell_type": "code",
      "source": [
        "class Animal:\n",
        "  \"\"\"\n",
        "  Classe que define o que é um animal\n",
        "\n",
        "  Parâmetros:\n",
        "  nome: string contendo nome\n",
        "  cor: string contendo cor\n",
        "  ano_nasc: int contendo o ano de nascimento, devendo ser maior que 1990\n",
        "  \"\"\"\n",
        "  populacao = 0\n",
        "  def __init__(self, nome: str, cor: str, ano_nasc: int):\n",
        "    self.__nome = nome\n",
        "    self.__cor = cor\n",
        "    self.__ano_nasc = ano_nasc\n",
        "    Animal.populacao += 1\n",
        "  def __str__(self):\n",
        "    return f\"{id(self)} - {self.__nome} tem cor {self.__cor} e \\\n",
        "    nasceu em {self.ano_nasc}.\"\n",
        "\n",
        "  @property\n",
        "  def nome(self):\n",
        "    return self.__nome\n",
        "\n",
        "  @nome.setter\n",
        "  def nome(self, nome):\n",
        "    if len(nome) <= 1: self.__nome = \"Sem nome\"\n",
        "    else: self.__nome = nome\n",
        "\n",
        "  @property\n",
        "  def ano_nasc(self): return self.__ano_nasc\n",
        "  @ano_nasc.setter\n",
        "  def ano_nasc(self, ano):\n",
        "    if ano < 1990: self.__ano_nasc = 2000\n",
        "    else: self.__ano_nasc = ano\n"
      ],
      "metadata": {
        "id": "ZEdslOGkspJF"
      },
      "execution_count": 160,
      "outputs": []
    },
    {
      "cell_type": "code",
      "source": [
        ""
      ],
      "metadata": {
        "id": "naRksmppC_UA"
      },
      "execution_count": 160,
      "outputs": []
    },
    {
      "cell_type": "code",
      "source": [
        "class Gato(Animal):\n",
        "  def miar(self):\n",
        "    print(\"Miau\")\n",
        "\n",
        "g = Gato(\"Mingau\", \"Branca\", 2020)\n",
        "g.miar()\n",
        "a = Animal(\"Mel\", \"Marrom\", 2019)\n",
        "print(a)\n",
        "#a.miar()\n",
        "type(g)\n",
        "\n",
        "#g2 = a.Gato()\n",
        "#print(g2)\n",
        "#g2.miar()\n",
        "#Animal g = new Gato();\n",
        "\n",
        "#Gato g = new Gato();\n",
        "#public void registrar(Animal a){ ... }\n",
        "#registrar(g)"
      ],
      "metadata": {
        "colab": {
          "base_uri": "https://localhost:8080/"
        },
        "id": "kzF4dH2B1ySf",
        "outputId": "6c709f9b-b427-41c8-a319-c688a182a4d2"
      },
      "execution_count": 161,
      "outputs": [
        {
          "output_type": "stream",
          "name": "stdout",
          "text": [
            "Miau\n",
            "140142794134096 - Mel tem cor Marrom e     nasceu em 2019.\n"
          ]
        },
        {
          "output_type": "execute_result",
          "data": {
            "text/plain": [
              "__main__.Gato"
            ]
          },
          "metadata": {},
          "execution_count": 161
        }
      ]
    },
    {
      "cell_type": "code",
      "source": [
        "class Gato(Animal):\n",
        "  def __init__(self, nome: str, cor: str, ano_nasc: int, miado):\n",
        "    super().__init__(nome, cor, ano_nasc)\n",
        "    self.__miado = miado\n",
        "  def miar(self):\n",
        "    print(self.__miado)\n",
        "\n",
        "  @property\n",
        "  def miado(self): return self.__miado\n",
        "  @miado.setter\n",
        "  def miado(self, valor): self.__miado = valor"
      ],
      "metadata": {
        "id": "BXWR5-CwxJ0W"
      },
      "execution_count": 162,
      "outputs": []
    },
    {
      "cell_type": "code",
      "source": [
        "g = Gato(\"Mingau\", \"Branca\", 2020, \"Mirrr\")\n",
        "print(g)\n",
        "g.miar()"
      ],
      "metadata": {
        "colab": {
          "base_uri": "https://localhost:8080/"
        },
        "id": "FYagWZMSxeai",
        "outputId": "c940145f-637a-4d5d-d910-3052785c4d75"
      },
      "execution_count": 163,
      "outputs": [
        {
          "output_type": "stream",
          "name": "stdout",
          "text": [
            "140142792726352 - Mingau tem cor Branca e     nasceu em 2020.\n",
            "Mirrr\n"
          ]
        }
      ]
    },
    {
      "cell_type": "code",
      "source": [
        "class Cachorro(Animal):\n",
        "  def __init__(self, nome: str, cor: str, ano_nasc: int, latido):\n",
        "    super().__init__(nome, cor, ano_nasc)\n",
        "    self.__latido = latido\n",
        "  def latir(self):\n",
        "    for i in range(len(self.nome)):\n",
        "      print(self.latido, end = \" \")\n",
        "\n",
        "\n",
        "  @property\n",
        "  def latido(self): return self.__latido\n",
        "  @latido.setter\n",
        "  def latido(self, valor): self.__latido = valor"
      ],
      "metadata": {
        "id": "kb84NIcJxjkk"
      },
      "execution_count": 164,
      "outputs": []
    },
    {
      "cell_type": "code",
      "source": [
        "c = Cachorro(\"Totó\", \"Caramelo\", \"2010\", \"Wow\")\n",
        "c.latir()"
      ],
      "metadata": {
        "colab": {
          "base_uri": "https://localhost:8080/"
        },
        "id": "ZtuPzUr05CzW",
        "outputId": "3be7af7c-261c-4ef2-df97-ac5161e87fdc"
      },
      "execution_count": 165,
      "outputs": [
        {
          "output_type": "stream",
          "name": "stdout",
          "text": [
            "Wow Wow Wow Wow "
          ]
        }
      ]
    },
    {
      "cell_type": "code",
      "source": [
        "Animal.populacao"
      ],
      "metadata": {
        "colab": {
          "base_uri": "https://localhost:8080/"
        },
        "id": "VqvlvpIm5Kth",
        "outputId": "c5dd7fef-958c-4de4-efcd-1a071ddedc7a"
      },
      "execution_count": 166,
      "outputs": [
        {
          "output_type": "execute_result",
          "data": {
            "text/plain": [
              "4"
            ]
          },
          "metadata": {},
          "execution_count": 166
        }
      ]
    },
    {
      "cell_type": "code",
      "source": [
        "import datetime as dt\n",
        "date = dt.datetime.now()\n",
        "date"
      ],
      "metadata": {
        "colab": {
          "base_uri": "https://localhost:8080/"
        },
        "id": "my9WduCK6Z4H",
        "outputId": "ec8c9bc6-f48f-499b-ac77-cfece69ddfd1"
      },
      "execution_count": 120,
      "outputs": [
        {
          "output_type": "execute_result",
          "data": {
            "text/plain": [
              "datetime.datetime(2022, 8, 9, 14, 9, 51, 861648)"
            ]
          },
          "metadata": {},
          "execution_count": 120
        }
      ]
    },
    {
      "cell_type": "code",
      "source": [
        "data = dt.datetime(2020,8, 2)\n",
        "print(data.strftime(\"%d/%m/%Y\"))"
      ],
      "metadata": {
        "colab": {
          "base_uri": "https://localhost:8080/"
        },
        "id": "TkuA6TRA66OD",
        "outputId": "8f90972c-ac69-4e85-b3ac-12380a476160"
      },
      "execution_count": 125,
      "outputs": [
        {
          "output_type": "stream",
          "name": "stdout",
          "text": [
            "02/08/2020\n"
          ]
        }
      ]
    },
    {
      "cell_type": "code",
      "source": [
        ""
      ],
      "metadata": {
        "id": "gBRipzb28U2T"
      },
      "execution_count": null,
      "outputs": []
    }
  ]
}