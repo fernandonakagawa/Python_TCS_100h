{
  "nbformat": 4,
  "nbformat_minor": 0,
  "metadata": {
    "colab": {
      "name": "Aula05_2207.ipynb",
      "provenance": [],
      "collapsed_sections": [],
      "authorship_tag": "ABX9TyPIihQsL9EwLMQulqYit1ZU",
      "include_colab_link": true
    },
    "kernelspec": {
      "name": "python3",
      "display_name": "Python 3"
    },
    "language_info": {
      "name": "python"
    }
  },
  "cells": [
    {
      "cell_type": "markdown",
      "metadata": {
        "id": "view-in-github",
        "colab_type": "text"
      },
      "source": [
        "<a href=\"https://colab.research.google.com/github/fernandonakagawa/Python_TCS_100h/blob/main/Aula05_2207.ipynb\" target=\"_parent\"><img src=\"https://colab.research.google.com/assets/colab-badge.svg\" alt=\"Open In Colab\"/></a>"
      ]
    },
    {
      "cell_type": "markdown",
      "source": [
        "#Atividade 04\n",
        "\n",
        "Um computador costuma apitar quando é ligado. Tais apitos são\n",
        "apitos de diagnóstico, indicando se há algum problema ou não. Se\n",
        "houver um problema, o apito é diferente. Para cada fabricante de\n",
        "BIOS, há uma codificação diferente. Veja a tabela a seguir de um\n",
        "modelo:\n",
        "\n",
        "AMI BIOS Tone POST Codes\n",
        "\n",
        "Apito Condição de Erro\n",
        "\n",
        "1 curto Atualização de DRAM\n",
        "\n",
        "2 curtos Circuito de Paridade\n",
        "\n",
        "3 curtos Memória Base 64K RAM\n",
        "\n",
        "4 curtos Timer do Sistema\n",
        "\n",
        "5 curtos Processador\n",
        "\n",
        "(fonte: https://www.boadica.com.br/dica/165/entenda-os-bips-da-sua-bios)\n",
        "Utilizando essa tabela, crie um programa que indique qual é o erro gerado\n",
        "para ajudar usuários. A entrada do programa é o número de apitos. De acordo\n",
        "com o número de apitos fornecido pelo usuário, mostre qual é o erro deste\n",
        "suposto computador."
      ],
      "metadata": {
        "id": "mhvQsip1lwgA"
      }
    },
    {
      "cell_type": "code",
      "execution_count": 4,
      "metadata": {
        "colab": {
          "base_uri": "https://localhost:8080/"
        },
        "id": "hBx1RFZm3rSf",
        "outputId": "3f679abf-be3d-4da5-dc97-76f1504ea628"
      },
      "outputs": [
        {
          "output_type": "stream",
          "name": "stdout",
          "text": [
            "Digite o número de apitos: 4\n",
            "Timer do Sistema\n"
          ]
        }
      ],
      "source": [
        "num_apitos = int(input(\"Digite o número de apitos: \"))\n",
        "s = \"\"\n",
        "if num_apitos == 1:\n",
        "  s = \"Atualização de DRAM\"\n",
        "elif num_apitos == 2:\n",
        "  s = \"Circuito de Paridade\"\n",
        "elif num_apitos == 3:\n",
        "  s = \"Memória Base 64K RAM\"\n",
        "elif num_apitos == 4:\n",
        "  s = \"Timer do Sistema\"\n",
        "elif num_apitos == 5:\n",
        "  s = \"Processador\"\n",
        "else:\n",
        "  s = \"Erro não listado.\"\n",
        "print(s)"
      ]
    },
    {
      "cell_type": "markdown",
      "source": [
        "leia uma nota de um aluno, de 0 à 10 e mostre na tela o seu\n",
        "conceito. Considere: \n",
        "\n",
        "nota >= 9,0 -> Excelente\n",
        "\n",
        "\\>= 7,0 e < 9,0 -> Bom\n",
        "\n",
        "\\>= 5,0 e < 7,0 -> Razoável\n",
        "\n",
        "< 5,0 -> Fraco"
      ],
      "metadata": {
        "id": "jf3omZZfm1Gp"
      }
    },
    {
      "cell_type": "code",
      "source": [
        "nota = float(input(\"Digite a nota aluno:\"))\n",
        "desempenho = \"\"\n",
        "if nota >= 9 and nota <= 10:\n",
        "  desempenho = \"Excelente\"\n",
        "elif nota >= 7 and nota < 9:\n",
        "  desempenho = \"Bom\"\n",
        "elif nota >= 5 and nota < 7:\n",
        "  desempenho = \"Razoável\"\n",
        "elif nota >= 0 and nota < 5:\n",
        "  desempenho = \"Fraco\"\n",
        "else:\n",
        "  desemepenho = \"Nota inválida.\"\n",
        "print(desempenho)"
      ],
      "metadata": {
        "colab": {
          "base_uri": "https://localhost:8080/"
        },
        "id": "Z1Oj9SsYmrar",
        "outputId": "9f42461c-0488-4c98-abae-c1914cfd58fd"
      },
      "execution_count": 11,
      "outputs": [
        {
          "output_type": "stream",
          "name": "stdout",
          "text": [
            "Digite a nota aluno:9.5\n",
            "Excelente\n"
          ]
        }
      ]
    },
    {
      "cell_type": "markdown",
      "source": [
        "leia do teclado as dimensões de um retângulo (base e\n",
        "altura), calcular e escrever a área do retângulo. (Valores\n",
        "inválidos: 0 e números negativos)."
      ],
      "metadata": {
        "id": "5AGKv2YZoUU8"
      }
    },
    {
      "cell_type": "code",
      "source": [
        "base = 0\n",
        "altura = 0\n",
        "\n",
        "while base <= 0 or altura <= 0:\n",
        "  base = float(input(\"Digite o valor da base: \"))\n",
        "  altura = float(input(\"Digite o valor da altura: \"))\n",
        "  if base <= 0 or altura <= 0:\n",
        "    print(\"Valores inválidos.\")\n",
        "  else:\n",
        "    area = base * altura\n",
        "    print(f\"A área do retângulo é de {area}\")\n"
      ],
      "metadata": {
        "colab": {
          "base_uri": "https://localhost:8080/"
        },
        "id": "6wc7BUeuoD5I",
        "outputId": "d4f5d020-d46d-48d2-a21a-4df9ea418952"
      },
      "execution_count": 12,
      "outputs": [
        {
          "output_type": "stream",
          "name": "stdout",
          "text": [
            "Digite o valor da base: 0\n",
            "Digite o valor da altura: 0\n",
            "Valores inválidos.\n",
            "Digite o valor da base: 10\n",
            "Digite o valor da altura: -1\n",
            "Valores inválidos.\n",
            "Digite o valor da base: 2\n",
            "Digite o valor da altura: 3\n",
            "A área do retângulo é de 6.0\n"
          ]
        }
      ]
    },
    {
      "cell_type": "markdown",
      "source": [
        "Leia 2 números e mostre o maior e o menor. (Valores\n",
        "inválidos: números menores que -99 e maiores que 99)."
      ],
      "metadata": {
        "id": "iJgj5x0Xpvrx"
      }
    },
    {
      "cell_type": "code",
      "source": [
        "n1 = 100\n",
        "n2 = 100\n",
        "while n1 < -99 or n1 > 99:\n",
        "  n1 = int(input(\"Digite o primeiro número: \"))\n",
        "  if n1 < -99 or n1 > 99: print(\"Valor inválido. Digite novamente.\")\n",
        "while n2 < -99 or n2 > 99:\n",
        "  n2 = int(input(\"Digite o segundo número: \"))\n",
        "  if n2 < -99 or n2 > 99: print(\"Valor inválido. Digite novamente.\")\n",
        "if n1 > n2:\n",
        "  print(f\"O maior número é {n1} e o menor número é {n2}.\")\n",
        "else:\n",
        "  print(f\"O maior número é {n2} e o menor número é {n1}.\")\n"
      ],
      "metadata": {
        "colab": {
          "base_uri": "https://localhost:8080/"
        },
        "id": "Ii7iedR7phNA",
        "outputId": "c0598389-5083-4ab6-abdc-555984514f7c"
      },
      "execution_count": 15,
      "outputs": [
        {
          "output_type": "stream",
          "name": "stdout",
          "text": [
            "Digite o primeiro número: -100\n",
            "Valor inválido. Digite novamente.\n",
            "Digite o primeiro número: 100\n",
            "Valor inválido. Digite novamente.\n",
            "Digite o primeiro número: 3\n",
            "Digite o segundo número: -100\n",
            "Valor inválido. Digite novamente.\n",
            "Digite o segundo número: 100\n",
            "Valor inválido. Digite novamente.\n",
            "Digite o segundo número: 43\n",
            "O maior número é 43 e o menor número é 3.\n"
          ]
        }
      ]
    },
    {
      "cell_type": "markdown",
      "source": [
        "leia do teclado uma distância em quilômetros e mostre na\n",
        "tela o seu valor convertido em metros. (Valores inválidos:\n",
        "números negativos)."
      ],
      "metadata": {
        "id": "XPgtRQRlrf2S"
      }
    },
    {
      "cell_type": "code",
      "source": [
        "while True:\n",
        "  dist_km = float(input(\"Digite o valor da distância em km: \"))\n",
        "  if dist_km < 0:\n",
        "    print(\"Valor inválido.\")\n",
        "  else:\n",
        "    print(f\"O valor em metros é de {dist_km * 1000}.\")\n",
        "    break"
      ],
      "metadata": {
        "colab": {
          "base_uri": "https://localhost:8080/"
        },
        "id": "iK1veGQVq2Y-",
        "outputId": "c1ba8f8b-504b-49d1-9d4c-39531f765391"
      },
      "execution_count": 18,
      "outputs": [
        {
          "output_type": "stream",
          "name": "stdout",
          "text": [
            "Digite o valor da distância em km: -3\n",
            "Valor inválido.\n",
            "Digite o valor da distância em km: 3.1\n",
            "O valor em metros é de 3100.0.\n"
          ]
        }
      ]
    },
    {
      "cell_type": "markdown",
      "source": [
        "leia do teclado uma distância em metros e mostre na tela o\n",
        "seu valor convertido em quilômetros.(Valores inválidos:\n",
        "números negativos)."
      ],
      "metadata": {
        "id": "3h59g5Vgsi6l"
      }
    },
    {
      "cell_type": "code",
      "source": [
        "dist_m = float(input(\"Digite o valor da distância em metros: \"))\n",
        "while dist_m < 0:\n",
        "  dist_m = float(input(\"Valor inválido. Digite novamente o valor da distância em metros: \"))\n",
        "print(f\"O valor em km é de {dist_m/1000}.\")"
      ],
      "metadata": {
        "colab": {
          "base_uri": "https://localhost:8080/"
        },
        "id": "bDJ7wxx5sVCK",
        "outputId": "8837256c-e553-4fb8-a89a-a9a9adecb9bd"
      },
      "execution_count": 19,
      "outputs": [
        {
          "output_type": "stream",
          "name": "stdout",
          "text": [
            "Digite o valor da distância em metros: -1\n",
            "Valor inválido. Digite novamente o valor da distância em metros: 120\n",
            "O valor em km é de 0.12.\n"
          ]
        }
      ]
    },
    {
      "cell_type": "code",
      "source": [
        "dist_m = float(input(\"Digite o valor da distância em metros: \"))\n",
        "while dist_m < 0:\n",
        "  dist_m = float(input(\"Valor inválido. Digite novamente o valor da distância em metros: \"))\n",
        "print(f\"O valor em km é de {dist_m/1000}.\")"
      ],
      "metadata": {
        "id": "hOQhLZ1JtFaJ"
      },
      "execution_count": null,
      "outputs": []
    },
    {
      "cell_type": "markdown",
      "source": [
        "# Aula 05"
      ],
      "metadata": {
        "id": "u_swh0i3wCvH"
      }
    },
    {
      "cell_type": "code",
      "source": [
        "a = 0\n",
        "while a < 5:\n",
        "  a += 1\n",
        "  if a % 2 == 0:\n",
        "    continue\n",
        "  print(a)"
      ],
      "metadata": {
        "colab": {
          "base_uri": "https://localhost:8080/"
        },
        "id": "xw1E2nlWvdQd",
        "outputId": "8694bf68-f8ed-4f1e-b281-1ca7ca256678"
      },
      "execution_count": 21,
      "outputs": [
        {
          "output_type": "stream",
          "name": "stdout",
          "text": [
            "1\n",
            "3\n",
            "5\n"
          ]
        }
      ]
    },
    {
      "cell_type": "code",
      "source": [
        "for x in range(5):\n",
        "  print(x)"
      ],
      "metadata": {
        "colab": {
          "base_uri": "https://localhost:8080/"
        },
        "id": "VG9JvuMpvneP",
        "outputId": "3bba2421-473f-4b06-b046-cc902e90834e"
      },
      "execution_count": 22,
      "outputs": [
        {
          "output_type": "stream",
          "name": "stdout",
          "text": [
            "0\n",
            "1\n",
            "2\n",
            "3\n",
            "4\n"
          ]
        }
      ]
    },
    {
      "cell_type": "code",
      "source": [
        "for x in range(3, 8):\n",
        "  print(x)"
      ],
      "metadata": {
        "colab": {
          "base_uri": "https://localhost:8080/"
        },
        "id": "eWd6rsXtwLzn",
        "outputId": "dd73be34-2dbc-4e32-9169-b1a7dcd33bad"
      },
      "execution_count": 23,
      "outputs": [
        {
          "output_type": "stream",
          "name": "stdout",
          "text": [
            "3\n",
            "4\n",
            "5\n",
            "6\n",
            "7\n"
          ]
        }
      ]
    },
    {
      "cell_type": "code",
      "source": [
        "for x in range(0, 20, 3):\n",
        "  print(x)"
      ],
      "metadata": {
        "colab": {
          "base_uri": "https://localhost:8080/"
        },
        "id": "J2YVDxbnwX34",
        "outputId": "93221bd3-7e73-4a7d-d51e-b98f7ac8d059"
      },
      "execution_count": 24,
      "outputs": [
        {
          "output_type": "stream",
          "name": "stdout",
          "text": [
            "0\n",
            "3\n",
            "6\n",
            "9\n",
            "12\n",
            "15\n",
            "18\n"
          ]
        }
      ]
    },
    {
      "cell_type": "code",
      "source": [
        "nome = \"Fernando\"\n",
        "for letra in nome:\n",
        "  print(letra)"
      ],
      "metadata": {
        "colab": {
          "base_uri": "https://localhost:8080/"
        },
        "id": "VTGtDUxQwi5K",
        "outputId": "2e793e44-f655-409c-ab45-6590f8e18906"
      },
      "execution_count": 25,
      "outputs": [
        {
          "output_type": "stream",
          "name": "stdout",
          "text": [
            "F\n",
            "e\n",
            "r\n",
            "n\n",
            "a\n",
            "n\n",
            "d\n",
            "o\n"
          ]
        }
      ]
    },
    {
      "cell_type": "code",
      "source": [
        "lista = [20,30,40,50]\n",
        "for numero in lista:\n",
        "  print(numero)"
      ],
      "metadata": {
        "colab": {
          "base_uri": "https://localhost:8080/"
        },
        "id": "1-mFOyvGwrL5",
        "outputId": "5d4af6f2-3359-4d3f-fe4a-11a4a196ca09"
      },
      "execution_count": 26,
      "outputs": [
        {
          "output_type": "stream",
          "name": "stdout",
          "text": [
            "20\n",
            "30\n",
            "40\n",
            "50\n"
          ]
        }
      ]
    },
    {
      "cell_type": "code",
      "source": [
        "lista = [20,30,40,50]\n",
        "for i in range( len(lista) ):\n",
        "  print(lista[i])"
      ],
      "metadata": {
        "colab": {
          "base_uri": "https://localhost:8080/"
        },
        "id": "_UwRBswIw3mS",
        "outputId": "5d9b8dde-2449-4030-dbd5-b49b41511f17"
      },
      "execution_count": 27,
      "outputs": [
        {
          "output_type": "stream",
          "name": "stdout",
          "text": [
            "20\n",
            "30\n",
            "40\n",
            "50\n"
          ]
        }
      ]
    },
    {
      "cell_type": "code",
      "source": [
        "lista = [10, 20, \"Fernando\", True, 3.14]\n",
        "for x in lista:\n",
        "  print(x)"
      ],
      "metadata": {
        "colab": {
          "base_uri": "https://localhost:8080/"
        },
        "id": "uqW_Au-HxD2d",
        "outputId": "7418e768-c37a-4734-99a2-cc89d0908b71"
      },
      "execution_count": 29,
      "outputs": [
        {
          "output_type": "stream",
          "name": "stdout",
          "text": [
            "10\n",
            "20\n",
            "Fernando\n",
            "True\n",
            "3.14\n"
          ]
        }
      ]
    },
    {
      "cell_type": "code",
      "source": [
        "lista = [10, 20, \"Fernando\", True, 3.14]\n",
        "for x in lista:\n",
        "  if type(x) == str:\n",
        "    for letra in x:\n",
        "      print(letra)\n",
        "  else:\n",
        "    print(x)"
      ],
      "metadata": {
        "colab": {
          "base_uri": "https://localhost:8080/"
        },
        "id": "W-h9zwyVxQIy",
        "outputId": "dd8b1f8a-6e22-40be-a3d3-8e6e7a3bc7df"
      },
      "execution_count": 30,
      "outputs": [
        {
          "output_type": "stream",
          "name": "stdout",
          "text": [
            "10\n",
            "20\n",
            "F\n",
            "e\n",
            "r\n",
            "n\n",
            "a\n",
            "n\n",
            "d\n",
            "o\n",
            "True\n",
            "3.14\n"
          ]
        }
      ]
    },
    {
      "cell_type": "code",
      "source": [
        "for x in range(5):\n",
        "  for y in range(4):\n",
        "    print(x,y)"
      ],
      "metadata": {
        "colab": {
          "base_uri": "https://localhost:8080/"
        },
        "id": "WR80fSc1xqVh",
        "outputId": "55315001-5bd8-406e-ac4f-49c2a60a4d23"
      },
      "execution_count": 31,
      "outputs": [
        {
          "output_type": "stream",
          "name": "stdout",
          "text": [
            "0 0\n",
            "0 1\n",
            "0 2\n",
            "0 3\n",
            "1 0\n",
            "1 1\n",
            "1 2\n",
            "1 3\n",
            "2 0\n",
            "2 1\n",
            "2 2\n",
            "2 3\n",
            "3 0\n",
            "3 1\n",
            "3 2\n",
            "3 3\n",
            "4 0\n",
            "4 1\n",
            "4 2\n",
            "4 3\n"
          ]
        }
      ]
    },
    {
      "cell_type": "code",
      "source": [
        "for x in range(5):\n",
        "  linha = \"\"\n",
        "  for y in range(4):\n",
        "    linha += str(f\"({x},{y}) \")  \n",
        "  print(linha)"
      ],
      "metadata": {
        "colab": {
          "base_uri": "https://localhost:8080/"
        },
        "id": "eyawRBJrx7I0",
        "outputId": "51199763-18b1-4c97-a51f-95d0a69e6f76"
      },
      "execution_count": 33,
      "outputs": [
        {
          "output_type": "stream",
          "name": "stdout",
          "text": [
            "(0,0) (0,1) (0,2) (0,3) \n",
            "(1,0) (1,1) (1,2) (1,3) \n",
            "(2,0) (2,1) (2,2) (2,3) \n",
            "(3,0) (3,1) (3,2) (3,3) \n",
            "(4,0) (4,1) (4,2) (4,3) \n"
          ]
        }
      ]
    },
    {
      "cell_type": "code",
      "source": [
        "type(lista)"
      ],
      "metadata": {
        "colab": {
          "base_uri": "https://localhost:8080/"
        },
        "id": "ZfKYMUfhyW8E",
        "outputId": "5cf5ca7d-197b-4081-b1bd-c72b78c1a88f"
      },
      "execution_count": 34,
      "outputs": [
        {
          "output_type": "execute_result",
          "data": {
            "text/plain": [
              "list"
            ]
          },
          "metadata": {},
          "execution_count": 34
        }
      ]
    },
    {
      "cell_type": "code",
      "source": [
        ""
      ],
      "metadata": {
        "id": "WkUrkFUKzDUz"
      },
      "execution_count": null,
      "outputs": []
    }
  ]
}