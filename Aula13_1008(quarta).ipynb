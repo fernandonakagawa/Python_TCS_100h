{
  "nbformat": 4,
  "nbformat_minor": 0,
  "metadata": {
    "colab": {
      "name": "Aula13_1008(quarta).ipynb",
      "provenance": [],
      "authorship_tag": "ABX9TyPzbgjebRBGeKLH+ZAbL4OA",
      "include_colab_link": true
    },
    "kernelspec": {
      "name": "python3",
      "display_name": "Python 3"
    },
    "language_info": {
      "name": "python"
    }
  },
  "cells": [
    {
      "cell_type": "markdown",
      "metadata": {
        "id": "view-in-github",
        "colab_type": "text"
      },
      "source": [
        "<a href=\"https://colab.research.google.com/github/fernandonakagawa/Python_TCS_100h/blob/main/Aula13_1008(quarta).ipynb\" target=\"_parent\"><img src=\"https://colab.research.google.com/assets/colab-badge.svg\" alt=\"Open In Colab\"/></a>"
      ]
    },
    {
      "cell_type": "markdown",
      "source": [
        "# Atividade 12"
      ],
      "metadata": {
        "id": "sHrI5WeZYYBM"
      }
    },
    {
      "cell_type": "markdown",
      "source": [
        "Crie uma classe Pessoa que tenha atributos nome, altura, peso e data de\n",
        "nascimento (separar por dia, mês e ano). Faça um método para mostrar na\n",
        "tela o seu IMC e qual é a faixa de peso em que a pessoa se encontra."
      ],
      "metadata": {
        "id": "RuSWBs6hclHx"
      }
    },
    {
      "cell_type": "code",
      "execution_count": 53,
      "metadata": {
        "id": "oWL8xPNNWr-x"
      },
      "outputs": [],
      "source": [
        "class Pessoa:\n",
        "  def __init__(self, nome, altura, peso, data_nasc):\n",
        "    self.nome = nome\n",
        "    self.altura = altura\n",
        "    self.peso = peso\n",
        "    self.data_nasc = data_nasc\n",
        "\n",
        "  def __calcular_imc(self):\n",
        "    return self.peso/(self.altura ** 2)\n",
        "  \n",
        "  @staticmethod\n",
        "  def calcular_faixa_peso(pessoa):\n",
        "    imc = pessoa.__calcular_imc()\n",
        "    s = \"\"\n",
        "    if imc < 18.5: s = \"Baixo peso\"\n",
        "    elif imc >= 18.5 and imc < 25: s = \"Peso normal\"\n",
        "    else:\n",
        "      s = \"Sobrepeso - \"\n",
        "      if imc >= 25 and imc < 30: s += \"Pré-obeso\"\n",
        "      elif imc >= 30 and imc < 35: s += \"Obeso I\"\n",
        "      elif imc >= 35 and imc < 40: s += \"Obeso II\"\n",
        "      elif imc >= 40: s += \"Obeso III\"\n",
        "    return s\n"
      ]
    },
    {
      "cell_type": "code",
      "source": [
        "import datetime as dt\n",
        "p = Pessoa(\"Fernando\", 1.74, 70, dt.datetime(1986, 9, 27))\n",
        "p.__calcular_imc()"
      ],
      "metadata": {
        "colab": {
          "base_uri": "https://localhost:8080/",
          "height": 200
        },
        "id": "bVJIm57WdpPe",
        "outputId": "ad8cdcba-449b-4774-f72d-2694ddf0c6a5"
      },
      "execution_count": 51,
      "outputs": [
        {
          "output_type": "error",
          "ename": "AttributeError",
          "evalue": "ignored",
          "traceback": [
            "\u001b[0;31m---------------------------------------------------------------------------\u001b[0m",
            "\u001b[0;31mAttributeError\u001b[0m                            Traceback (most recent call last)",
            "\u001b[0;32m<ipython-input-51-27303a1aacb4>\u001b[0m in \u001b[0;36m<module>\u001b[0;34m()\u001b[0m\n\u001b[1;32m      1\u001b[0m \u001b[0;32mimport\u001b[0m \u001b[0mdatetime\u001b[0m \u001b[0;32mas\u001b[0m \u001b[0mdt\u001b[0m\u001b[0;34m\u001b[0m\u001b[0;34m\u001b[0m\u001b[0m\n\u001b[1;32m      2\u001b[0m \u001b[0mp\u001b[0m \u001b[0;34m=\u001b[0m \u001b[0mPessoa\u001b[0m\u001b[0;34m(\u001b[0m\u001b[0;34m\"Fernando\"\u001b[0m\u001b[0;34m,\u001b[0m \u001b[0;36m1.74\u001b[0m\u001b[0;34m,\u001b[0m \u001b[0;36m70\u001b[0m\u001b[0;34m,\u001b[0m \u001b[0mdt\u001b[0m\u001b[0;34m.\u001b[0m\u001b[0mdatetime\u001b[0m\u001b[0;34m(\u001b[0m\u001b[0;36m1986\u001b[0m\u001b[0;34m,\u001b[0m \u001b[0;36m9\u001b[0m\u001b[0;34m,\u001b[0m \u001b[0;36m27\u001b[0m\u001b[0;34m)\u001b[0m\u001b[0;34m)\u001b[0m\u001b[0;34m\u001b[0m\u001b[0;34m\u001b[0m\u001b[0m\n\u001b[0;32m----> 3\u001b[0;31m \u001b[0mp\u001b[0m\u001b[0;34m.\u001b[0m\u001b[0m__calcular_imc\u001b[0m\u001b[0;34m(\u001b[0m\u001b[0;34m)\u001b[0m\u001b[0;34m\u001b[0m\u001b[0;34m\u001b[0m\u001b[0m\n\u001b[0m",
            "\u001b[0;31mAttributeError\u001b[0m: 'Pessoa' object has no attribute '__calcular_imc'"
          ]
        }
      ]
    },
    {
      "cell_type": "code",
      "source": [
        "\n",
        "Pessoa.calcular_faixa_peso(p)"
      ],
      "metadata": {
        "colab": {
          "base_uri": "https://localhost:8080/",
          "height": 35
        },
        "id": "ATtDIN-yfsqq",
        "outputId": "fe005a1c-40af-491b-da5a-611f96e183e2"
      },
      "execution_count": 54,
      "outputs": [
        {
          "output_type": "execute_result",
          "data": {
            "text/plain": [
              "'Peso normal'"
            ],
            "application/vnd.google.colaboratory.intrinsic+json": {
              "type": "string"
            }
          },
          "metadata": {},
          "execution_count": 54
        }
      ]
    },
    {
      "cell_type": "code",
      "source": [
        "p2 = Pessoa(\"Fulano\", 1.80, 50, dt.datetime(2000, 2, 1))\n",
        "Pessoa.calcular_faixa_peso(p2)"
      ],
      "metadata": {
        "colab": {
          "base_uri": "https://localhost:8080/",
          "height": 35
        },
        "id": "vjyNcde3dpaF",
        "outputId": "025e3155-afe0-4f3b-d80f-4b62b3a79cb9"
      },
      "execution_count": 57,
      "outputs": [
        {
          "output_type": "execute_result",
          "data": {
            "text/plain": [
              "'Baixo peso'"
            ],
            "application/vnd.google.colaboratory.intrinsic+json": {
              "type": "string"
            }
          },
          "metadata": {},
          "execution_count": 57
        }
      ]
    },
    {
      "cell_type": "code",
      "source": [
        ""
      ],
      "metadata": {
        "id": "qXqwNivqdpku"
      },
      "execution_count": null,
      "outputs": []
    },
    {
      "cell_type": "markdown",
      "source": [
        "# Aula 13"
      ],
      "metadata": {
        "id": "sejkHgoMYXMp"
      }
    },
    {
      "cell_type": "markdown",
      "source": [
        "## Polimorfismo (sobrecarga e sobrescrita), classes abstratas"
      ],
      "metadata": {
        "id": "WQFsjdv7juKf"
      }
    },
    {
      "cell_type": "code",
      "source": [
        "from abc import ABC, abstractmethod\n",
        "class Animal(ABC):\n",
        "  populacao = 0\n",
        "  @abstractmethod\n",
        "  def __init__(self, nome: str, cor: str, ano_nasc: int):\n",
        "    self.__nome = nome\n",
        "    self.__cor = cor\n",
        "    self.__ano_nasc = ano_nasc\n",
        "    Animal.populacao += 1\n",
        "  def __str__(self):\n",
        "    return f\"{id(self)} - {self.__nome} tem cor {self.__cor} e \\\n",
        "    nasceu em {self.ano_nasc}.\"\n",
        "  @abstractmethod\n",
        "  def locomover(self):\n",
        "    return f\"Animal {self.nome} se locomoveu\"\n",
        "\n",
        "  @property\n",
        "  def nome(self):\n",
        "    return self.__nome\n",
        "\n",
        "  @nome.setter\n",
        "  def nome(self, nome):\n",
        "    if len(nome) <= 1: self.__nome = \"Sem nome\"\n",
        "    else: self.__nome = nome\n",
        "\n",
        "  @property\n",
        "  def ano_nasc(self): return self.__ano_nasc\n",
        "  @ano_nasc.setter\n",
        "  def ano_nasc(self, ano):\n",
        "    if ano < 1990: self.__ano_nasc = 2000\n",
        "    else: self.__ano_nasc = ano\n",
        "\n",
        "class Cachorro(Animal):\n",
        "  def __init__(self, nome: str, cor: str, ano_nasc: int, latido):\n",
        "    super().__init__(nome, cor, ano_nasc)\n",
        "    self.__latido = latido\n",
        "\n",
        "  def locomover(self):\n",
        "    return f\"Cachorro {self.nome} se locomoveu\"\n",
        "  def latir(self):\n",
        "    for i in range(len(self.nome)):\n",
        "      print(self.latido, end = \" \")\n",
        "  def latir(self, latido):\n",
        "    for i in range(len(self.nome)):\n",
        "      print(latido, end = \" \")\n",
        "# java - c.latir();\n",
        "# c.latir(\"Au\");\n",
        "#assinatura - nome do método com a ordem dos tipos dos parâmetros\n",
        "\n",
        "  @property\n",
        "  def latido(self): return self.__latido\n",
        "  @latido.setter\n",
        "  def latido(self, valor): self.__latido = valor\n",
        "\n",
        "class Gato(Animal):\n",
        "  def __init__(self, nome: str, cor: str, ano_nasc: int, miado):\n",
        "    super().__init__(nome, cor, ano_nasc)\n",
        "    self.__miado = miado\n",
        "  def miar(self):\n",
        "    print(self.__miado)\n",
        "\n",
        "  @property\n",
        "  def miado(self): return self.__miado\n",
        "  @miado.setter\n",
        "  def miado(self, valor): self.__miado = valor"
      ],
      "metadata": {
        "id": "UuwGPijVYZaC"
      },
      "execution_count": 79,
      "outputs": []
    },
    {
      "cell_type": "code",
      "source": [
        "c = Cachorro(\"Totó\", \"Caramelo\", 2020, \"Au\")\n",
        "c.latir()"
      ],
      "metadata": {
        "colab": {
          "base_uri": "https://localhost:8080/",
          "height": 183
        },
        "id": "uGPcdPkSYg7U",
        "outputId": "1071a7ab-aa55-40a8-f254-5e63725dca94"
      },
      "execution_count": 63,
      "outputs": [
        {
          "output_type": "error",
          "ename": "TypeError",
          "evalue": "ignored",
          "traceback": [
            "\u001b[0;31m---------------------------------------------------------------------------\u001b[0m",
            "\u001b[0;31mTypeError\u001b[0m                                 Traceback (most recent call last)",
            "\u001b[0;32m<ipython-input-63-dea3f459b3ad>\u001b[0m in \u001b[0;36m<module>\u001b[0;34m()\u001b[0m\n\u001b[1;32m      1\u001b[0m \u001b[0mc\u001b[0m \u001b[0;34m=\u001b[0m \u001b[0mCachorro\u001b[0m\u001b[0;34m(\u001b[0m\u001b[0;34m\"Totó\"\u001b[0m\u001b[0;34m,\u001b[0m \u001b[0;34m\"Caramelo\"\u001b[0m\u001b[0;34m,\u001b[0m \u001b[0;36m2020\u001b[0m\u001b[0;34m,\u001b[0m \u001b[0;34m\"Au\"\u001b[0m\u001b[0;34m)\u001b[0m\u001b[0;34m\u001b[0m\u001b[0;34m\u001b[0m\u001b[0m\n\u001b[0;32m----> 2\u001b[0;31m \u001b[0mc\u001b[0m\u001b[0;34m.\u001b[0m\u001b[0mlatir\u001b[0m\u001b[0;34m(\u001b[0m\u001b[0;34m)\u001b[0m\u001b[0;34m\u001b[0m\u001b[0;34m\u001b[0m\u001b[0m\n\u001b[0m",
            "\u001b[0;31mTypeError\u001b[0m: latir() missing 1 required positional argument: 'latido'"
          ]
        }
      ]
    },
    {
      "cell_type": "code",
      "source": [
        "c.latir(\"Wow\")"
      ],
      "metadata": {
        "colab": {
          "base_uri": "https://localhost:8080/"
        },
        "id": "2gDcc6WMloU3",
        "outputId": "df406dc7-05fd-4567-c10e-0a1f4f969f8b"
      },
      "execution_count": 64,
      "outputs": [
        {
          "output_type": "stream",
          "name": "stdout",
          "text": [
            "Wow Wow Wow Wow "
          ]
        }
      ]
    },
    {
      "cell_type": "code",
      "source": [
        "c.locomover()"
      ],
      "metadata": {
        "colab": {
          "base_uri": "https://localhost:8080/",
          "height": 35
        },
        "id": "qvdz-tRzY7lW",
        "outputId": "b592b543-52b5-46d3-d4a3-17a899322d77"
      },
      "execution_count": 68,
      "outputs": [
        {
          "output_type": "execute_result",
          "data": {
            "text/plain": [
              "'Cachorro Totó se locomoveu'"
            ],
            "application/vnd.google.colaboratory.intrinsic+json": {
              "type": "string"
            }
          },
          "metadata": {},
          "execution_count": 68
        }
      ]
    },
    {
      "cell_type": "code",
      "source": [
        "a = Animal(\"A\", \"cor\", 2020)\n",
        "a.locomover()"
      ],
      "metadata": {
        "colab": {
          "base_uri": "https://localhost:8080/",
          "height": 35
        },
        "id": "HEwCcRzeZdsH",
        "outputId": "eb4de6d3-91bd-42cb-8c42-7bfbbeb6dad0"
      },
      "execution_count": 66,
      "outputs": [
        {
          "output_type": "execute_result",
          "data": {
            "text/plain": [
              "'Animal A se locomoveu'"
            ],
            "application/vnd.google.colaboratory.intrinsic+json": {
              "type": "string"
            }
          },
          "metadata": {},
          "execution_count": 66
        }
      ]
    },
    {
      "cell_type": "code",
      "source": [
        "g = Gato(\"Mingau\", \"Azul\", 2019, \"Miau\")\n",
        "g.locomover()"
      ],
      "metadata": {
        "colab": {
          "base_uri": "https://localhost:8080/",
          "height": 35
        },
        "id": "Z2x1GdWxa86W",
        "outputId": "6ad8f749-9f14-4aa1-84f6-c08a2225ae9a"
      },
      "execution_count": 67,
      "outputs": [
        {
          "output_type": "execute_result",
          "data": {
            "text/plain": [
              "'Animal Mingau se locomoveu'"
            ],
            "application/vnd.google.colaboratory.intrinsic+json": {
              "type": "string"
            }
          },
          "metadata": {},
          "execution_count": 67
        }
      ]
    },
    {
      "cell_type": "code",
      "source": [
        "a2 = Animal(\"Animal 2\", \"Cor\", 2018)\n",
        "id(a2)"
      ],
      "metadata": {
        "colab": {
          "base_uri": "https://localhost:8080/",
          "height": 183
        },
        "id": "s8oHmJOObXHO",
        "outputId": "10cefec9-88a3-42d2-fe82-6598c8b1eb32"
      },
      "execution_count": 73,
      "outputs": [
        {
          "output_type": "error",
          "ename": "TypeError",
          "evalue": "ignored",
          "traceback": [
            "\u001b[0;31m---------------------------------------------------------------------------\u001b[0m",
            "\u001b[0;31mTypeError\u001b[0m                                 Traceback (most recent call last)",
            "\u001b[0;32m<ipython-input-73-9b7651b1203e>\u001b[0m in \u001b[0;36m<module>\u001b[0;34m()\u001b[0m\n\u001b[0;32m----> 1\u001b[0;31m \u001b[0ma2\u001b[0m \u001b[0;34m=\u001b[0m \u001b[0mAnimal\u001b[0m\u001b[0;34m(\u001b[0m\u001b[0;34m\"Animal 2\"\u001b[0m\u001b[0;34m,\u001b[0m \u001b[0;34m\"Cor\"\u001b[0m\u001b[0;34m,\u001b[0m \u001b[0;36m2018\u001b[0m\u001b[0;34m)\u001b[0m\u001b[0;34m\u001b[0m\u001b[0;34m\u001b[0m\u001b[0m\n\u001b[0m\u001b[1;32m      2\u001b[0m \u001b[0mid\u001b[0m\u001b[0;34m(\u001b[0m\u001b[0ma2\u001b[0m\u001b[0;34m)\u001b[0m\u001b[0;34m\u001b[0m\u001b[0;34m\u001b[0m\u001b[0m\n",
            "\u001b[0;31mTypeError\u001b[0m: Can't instantiate abstract class Animal with abstract methods __init__, locomover"
          ]
        }
      ]
    },
    {
      "cell_type": "code",
      "source": [
        "c2 = Cachorro(\"Mel\", \"Caramelo\", 2012, \"au\")\n",
        "c2.locomover()"
      ],
      "metadata": {
        "colab": {
          "base_uri": "https://localhost:8080/",
          "height": 35
        },
        "id": "oRqrOuPmprUp",
        "outputId": "2d310bdf-0f3c-4c1a-f17d-f3de20712546"
      },
      "execution_count": 80,
      "outputs": [
        {
          "output_type": "execute_result",
          "data": {
            "text/plain": [
              "'Cachorro Mel se locomoveu'"
            ],
            "application/vnd.google.colaboratory.intrinsic+json": {
              "type": "string"
            }
          },
          "metadata": {},
          "execution_count": 80
        }
      ]
    },
    {
      "cell_type": "code",
      "source": [
        "g2 = Gato(\"Nestor\", \"Cinza\", 2013, \"Miou\")\n",
        "g2.locomover()"
      ],
      "metadata": {
        "colab": {
          "base_uri": "https://localhost:8080/",
          "height": 183
        },
        "id": "V8Ozr1ZUqPwL",
        "outputId": "cc96a0f7-5446-4ccc-ddcf-45520441c68a"
      },
      "execution_count": 76,
      "outputs": [
        {
          "output_type": "error",
          "ename": "TypeError",
          "evalue": "ignored",
          "traceback": [
            "\u001b[0;31m---------------------------------------------------------------------------\u001b[0m",
            "\u001b[0;31mTypeError\u001b[0m                                 Traceback (most recent call last)",
            "\u001b[0;32m<ipython-input-76-86d4d4fb8e1d>\u001b[0m in \u001b[0;36m<module>\u001b[0;34m()\u001b[0m\n\u001b[0;32m----> 1\u001b[0;31m \u001b[0mg2\u001b[0m \u001b[0;34m=\u001b[0m \u001b[0mGato\u001b[0m\u001b[0;34m(\u001b[0m\u001b[0;34m\"Nestor\"\u001b[0m\u001b[0;34m,\u001b[0m \u001b[0;34m\"Cinza\"\u001b[0m\u001b[0;34m,\u001b[0m \u001b[0;36m2013\u001b[0m\u001b[0;34m,\u001b[0m \u001b[0;34m\"Miou\"\u001b[0m\u001b[0;34m)\u001b[0m\u001b[0;34m\u001b[0m\u001b[0;34m\u001b[0m\u001b[0m\n\u001b[0m\u001b[1;32m      2\u001b[0m \u001b[0mg2\u001b[0m\u001b[0;34m.\u001b[0m\u001b[0mlocomover\u001b[0m\u001b[0;34m(\u001b[0m\u001b[0;34m)\u001b[0m\u001b[0;34m\u001b[0m\u001b[0;34m\u001b[0m\u001b[0m\n",
            "\u001b[0;31mTypeError\u001b[0m: Can't instantiate abstract class Gato with abstract methods locomover"
          ]
        }
      ]
    },
    {
      "cell_type": "code",
      "source": [
        "c2.nome"
      ],
      "metadata": {
        "colab": {
          "base_uri": "https://localhost:8080/",
          "height": 35
        },
        "id": "ey5SNsjYqbs5",
        "outputId": "4a5c1743-6ca5-4c61-81a6-417fd6847faa"
      },
      "execution_count": 81,
      "outputs": [
        {
          "output_type": "execute_result",
          "data": {
            "text/plain": [
              "'Mel'"
            ],
            "application/vnd.google.colaboratory.intrinsic+json": {
              "type": "string"
            }
          },
          "metadata": {},
          "execution_count": 81
        }
      ]
    },
    {
      "cell_type": "code",
      "source": [
        ""
      ],
      "metadata": {
        "id": "BKvYhDxZrT-v"
      },
      "execution_count": null,
      "outputs": []
    }
  ]
}