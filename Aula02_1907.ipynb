{
  "nbformat": 4,
  "nbformat_minor": 0,
  "metadata": {
    "colab": {
      "name": "Aula02_1907.ipynb",
      "provenance": [],
      "authorship_tag": "ABX9TyOlOhLjvomc5KYCLdi4hkP6",
      "include_colab_link": true
    },
    "kernelspec": {
      "name": "python3",
      "display_name": "Python 3"
    },
    "language_info": {
      "name": "python"
    }
  },
  "cells": [
    {
      "cell_type": "markdown",
      "metadata": {
        "id": "view-in-github",
        "colab_type": "text"
      },
      "source": [
        "<a href=\"https://colab.research.google.com/github/fernandonakagawa/Python_TCS_100h/blob/main/Aula02_1907.ipynb\" target=\"_parent\"><img src=\"https://colab.research.google.com/assets/colab-badge.svg\" alt=\"Open In Colab\"/></a>"
      ]
    },
    {
      "cell_type": "markdown",
      "source": [
        "# Atividade 01 \n",
        "\n",
        "Elabore os códigos em Python dos problemas a seguir:\n",
        "\n",
        "a. tenha como entrada dois números e exiba a sua soma.\n",
        "\n",
        "b. tenha como entrada dois números e exiba a sua multiplicação.\n",
        "\n",
        "c. tenha como entrada um número e exiba o seu quadrado."
      ],
      "metadata": {
        "id": "Ue421ZOZQeoA"
      }
    },
    {
      "cell_type": "code",
      "execution_count": 1,
      "metadata": {
        "colab": {
          "base_uri": "https://localhost:8080/"
        },
        "id": "ED0H-mgnIy94",
        "outputId": "e703d380-a817-4265-e4da-f3298416d06e"
      },
      "outputs": [
        {
          "output_type": "stream",
          "name": "stdout",
          "text": [
            "Digite o primeiro número: 3\n",
            "Digite o segundo número: 4\n",
            "A soma dos dois números é 7.\n"
          ]
        }
      ],
      "source": [
        "#a\n",
        "num1 = int(input(\"Digite o primeiro número: \"))\n",
        "num2 = int(input(\"Digite o segundo número: \"))\n",
        "print(f\"A soma dos dois números é {num1 + num2}.\")"
      ]
    },
    {
      "cell_type": "code",
      "source": [
        "#b \n",
        "num1 = float(input(\"Digite o primeiro número: \"))\n",
        "num2 = float(input(\"Digite o segundo número: \"))\n",
        "print(f\"A multiplicação dos números é {num1 * num2}.\")"
      ],
      "metadata": {
        "colab": {
          "base_uri": "https://localhost:8080/"
        },
        "id": "QE5UVp9WQ3zh",
        "outputId": "5f7b3775-a927-44da-d13c-7ce87a2a3446"
      },
      "execution_count": 2,
      "outputs": [
        {
          "output_type": "stream",
          "name": "stdout",
          "text": [
            "Digite o primeiro número: 3\n",
            "Digite o segundo número: 4\n",
            "A multiplicação dos números é 12.0.\n"
          ]
        }
      ]
    },
    {
      "cell_type": "code",
      "source": [
        "#c\n",
        "num1 = int(input(\"Digite um número: \"))\n",
        "print(f\"O quadrado do número é {num1 ** 2}\")"
      ],
      "metadata": {
        "colab": {
          "base_uri": "https://localhost:8080/"
        },
        "id": "P4IeMSkxRTDG",
        "outputId": "f30c3570-5beb-4c82-e98d-ace0d5eff9fb"
      },
      "execution_count": 3,
      "outputs": [
        {
          "output_type": "stream",
          "name": "stdout",
          "text": [
            "Digite um número: 4\n",
            "O quadrado do número é 16\n"
          ]
        }
      ]
    },
    {
      "cell_type": "markdown",
      "source": [
        "# Aula 02"
      ],
      "metadata": {
        "id": "ZzgcwsL5RrqH"
      }
    },
    {
      "cell_type": "code",
      "source": [
        "import random\n",
        "a = random.randrange(1,10)\n",
        "print(a)\n",
        "#sortear um número de 1 a 9"
      ],
      "metadata": {
        "colab": {
          "base_uri": "https://localhost:8080/"
        },
        "id": "Z-hiVQF9RgLr",
        "outputId": "e4c30a08-9a5e-49ec-cc31-00f4f7defb91"
      },
      "execution_count": 8,
      "outputs": [
        {
          "output_type": "stream",
          "name": "stdout",
          "text": [
            "8\n"
          ]
        }
      ]
    },
    {
      "cell_type": "code",
      "source": [
        "a = random.randint(1,10)\n",
        "print(a)"
      ],
      "metadata": {
        "colab": {
          "base_uri": "https://localhost:8080/"
        },
        "id": "lBJy3ASlS1U_",
        "outputId": "2051cf68-645b-4fee-fbae-3a8f2ae14bf6"
      },
      "execution_count": 10,
      "outputs": [
        {
          "output_type": "stream",
          "name": "stdout",
          "text": [
            "8\n"
          ]
        }
      ]
    },
    {
      "cell_type": "code",
      "source": [
        "a = random.random()\n",
        "print(a)"
      ],
      "metadata": {
        "colab": {
          "base_uri": "https://localhost:8080/"
        },
        "id": "HeZEMRspTYFL",
        "outputId": "5fdbd316-1d13-492a-8d4c-520a278c6db1"
      },
      "execution_count": 14,
      "outputs": [
        {
          "output_type": "stream",
          "name": "stdout",
          "text": [
            "0.6446312334830419\n"
          ]
        }
      ]
    },
    {
      "cell_type": "code",
      "source": [
        "texto = \"Fernando\"\n",
        "print(texto[0])\n",
        "print(texto[7])\n",
        "#print(texto[8])\n",
        "print(texto[-1])\n",
        "print(texto[-4])"
      ],
      "metadata": {
        "colab": {
          "base_uri": "https://localhost:8080/"
        },
        "id": "ka6gidjqTcze",
        "outputId": "acd55a41-8c02-4a21-c712-529330a9e33b"
      },
      "execution_count": 19,
      "outputs": [
        {
          "output_type": "stream",
          "name": "stdout",
          "text": [
            "F\n",
            "o\n",
            "o\n",
            "a\n"
          ]
        }
      ]
    },
    {
      "cell_type": "code",
      "source": [
        "texto = \"Fernando\"\n",
        "print(texto[0:2]) #0,1\n",
        "print(texto[3:7]) #3,4,5,6\n",
        "print(texto[-6:-1]) #-6,-5,-4,-3,-2 ou 2,3,4,5,6\n",
        "print(texto[2:7])"
      ],
      "metadata": {
        "colab": {
          "base_uri": "https://localhost:8080/"
        },
        "id": "PSGWlpXlUxlU",
        "outputId": "66d04371-a94d-484d-b130-90b41d6a2221"
      },
      "execution_count": 23,
      "outputs": [
        {
          "output_type": "stream",
          "name": "stdout",
          "text": [
            "Fe\n",
            "nand\n",
            "rnand\n",
            "rnand\n"
          ]
        }
      ]
    },
    {
      "cell_type": "code",
      "source": [
        "print( len(texto) )"
      ],
      "metadata": {
        "colab": {
          "base_uri": "https://localhost:8080/"
        },
        "id": "WmxLjjxHWDSl",
        "outputId": "b8510614-2ade-4afe-eb38-a96b5d95ebb1"
      },
      "execution_count": 24,
      "outputs": [
        {
          "output_type": "stream",
          "name": "stdout",
          "text": [
            "8\n"
          ]
        }
      ]
    },
    {
      "cell_type": "code",
      "source": [
        "texto = \"      Mateus    \"\n",
        "print(texto)\n",
        "print(texto.strip())\n",
        "print(texto.lower())\n",
        "print(texto.upper())\n",
        "print(texto.strip().upper())"
      ],
      "metadata": {
        "colab": {
          "base_uri": "https://localhost:8080/"
        },
        "id": "XulBTL4wXGWx",
        "outputId": "764536aa-0bd8-469f-ce32-c8eb7049beb7"
      },
      "execution_count": 29,
      "outputs": [
        {
          "output_type": "stream",
          "name": "stdout",
          "text": [
            "      Mateus    \n",
            "Mateus\n",
            "      mateus    \n",
            "      MATEUS    \n",
            "MATEUS\n"
          ]
        }
      ]
    },
    {
      "cell_type": "code",
      "source": [
        "texto_alunos = \"Hugo,Isadora,Alex,Alexandre,Ana,Angélica,Camila\"\n",
        "print(texto_alunos)\n",
        "print( texto_alunos.split(\",\") )\n",
        "lista_alunos = texto_alunos.split(\",\")\n",
        "print(lista_alunos[2])\n",
        "print(texto_alunos[2])"
      ],
      "metadata": {
        "colab": {
          "base_uri": "https://localhost:8080/"
        },
        "id": "Tw_wqqI1XVue",
        "outputId": "0f45c46d-a632-4c3b-d98b-61497daecba1"
      },
      "execution_count": 35,
      "outputs": [
        {
          "output_type": "stream",
          "name": "stdout",
          "text": [
            "Hugo,Isadora,Alex,Alexandre,Ana,Angélica,Camila\n",
            "['Hugo', 'Isadora', 'Alex', 'Alexandre', 'Ana', 'Angélica', 'Camila']\n",
            "Alex\n",
            "g\n"
          ]
        }
      ]
    },
    {
      "cell_type": "code",
      "source": [
        "texto = \"Bom dia, Daniel. Você estudou hoje?\"\n",
        "lista_texto = texto.split(\" \")\n",
        "print(lista_texto)"
      ],
      "metadata": {
        "colab": {
          "base_uri": "https://localhost:8080/"
        },
        "id": "-gzH4B_zX8rR",
        "outputId": "a8cffc59-0973-4f85-f21a-49098cf4f551"
      },
      "execution_count": 36,
      "outputs": [
        {
          "output_type": "stream",
          "name": "stdout",
          "text": [
            "['Bom', 'dia,', 'Daniel.', 'Você', 'estudou', 'hoje?']\n"
          ]
        }
      ]
    },
    {
      "cell_type": "code",
      "source": [
        "resultado = \"Daniel\" in texto\n",
        "print(resultado)\n",
        "print( \"Daniele\" in texto )\n",
        "print( \"Ana\" in lista_alunos )\n",
        "print( \"Ana\" in texto_alunos )"
      ],
      "metadata": {
        "colab": {
          "base_uri": "https://localhost:8080/"
        },
        "id": "vbmM9KioY_Cu",
        "outputId": "11a1cc8f-e619-46eb-fa4a-525e7a9acf9f"
      },
      "execution_count": 40,
      "outputs": [
        {
          "output_type": "stream",
          "name": "stdout",
          "text": [
            "True\n",
            "False\n",
            "True\n",
            "True\n"
          ]
        }
      ]
    },
    {
      "cell_type": "code",
      "source": [
        "texto1 = \"Bom\"\n",
        "texto2 = \"dia\"\n",
        "txt = texto1 + texto2\n",
        "print(txt)\n"
      ],
      "metadata": {
        "colab": {
          "base_uri": "https://localhost:8080/"
        },
        "id": "79QVQs8UZRIL",
        "outputId": "edaa3d64-e14f-461e-8b01-135f6957970a"
      },
      "execution_count": 45,
      "outputs": [
        {
          "output_type": "stream",
          "name": "stdout",
          "text": [
            "Bomdia\n"
          ]
        }
      ]
    },
    {
      "cell_type": "code",
      "source": [
        "a = 10\n",
        "b = 3\n",
        "print ( a/b )\n",
        "print(a//b)\n",
        "print(a**b)\n",
        "print(a%b)"
      ],
      "metadata": {
        "colab": {
          "base_uri": "https://localhost:8080/"
        },
        "id": "rF7-gddiakn7",
        "outputId": "e8cb035d-4e6d-48d1-f388-63092fe37b10"
      },
      "execution_count": 49,
      "outputs": [
        {
          "output_type": "stream",
          "name": "stdout",
          "text": [
            "3.3333333333333335\n",
            "3\n",
            "1000\n",
            "1\n"
          ]
        }
      ]
    },
    {
      "cell_type": "code",
      "source": [
        "a = 10\n",
        "a += 1\n",
        "#a = a + 1\n",
        "print(a)\n",
        "a -= 3\n",
        "print(a)"
      ],
      "metadata": {
        "colab": {
          "base_uri": "https://localhost:8080/"
        },
        "id": "nFXht8vFbQUr",
        "outputId": "b50dbb09-cd73-4a6e-c0ab-3856de6e4302"
      },
      "execution_count": 51,
      "outputs": [
        {
          "output_type": "stream",
          "name": "stdout",
          "text": [
            "11\n",
            "8\n"
          ]
        }
      ]
    },
    {
      "cell_type": "code",
      "source": [
        "n = round(4.567891011, 2)\n",
        "print(n) "
      ],
      "metadata": {
        "colab": {
          "base_uri": "https://localhost:8080/"
        },
        "id": "DMGAo_4Wbka5",
        "outputId": "5b093bb2-204a-4903-b930-cbd4ae6f892c"
      },
      "execution_count": 57,
      "outputs": [
        {
          "output_type": "stream",
          "name": "stdout",
          "text": [
            "4.57\n"
          ]
        }
      ]
    },
    {
      "cell_type": "code",
      "source": [
        "n = 4.567891011\n",
        "print(\"%.2f\" % n) "
      ],
      "metadata": {
        "colab": {
          "base_uri": "https://localhost:8080/"
        },
        "id": "IigEpv3ZmocC",
        "outputId": "30faa1dc-af52-42f8-da56-a29a92dc0b76"
      },
      "execution_count": 58,
      "outputs": [
        {
          "output_type": "stream",
          "name": "stdout",
          "text": [
            "4.57\n"
          ]
        }
      ]
    },
    {
      "cell_type": "code",
      "source": [
        "nomes = [\"Maria\", \"Silva\", \"Santos\"]\n",
        "\n",
        "x = \" \".join(nomes)\n",
        "\n",
        "print(x)"
      ],
      "metadata": {
        "colab": {
          "base_uri": "https://localhost:8080/"
        },
        "id": "mF4T-HrNmti0",
        "outputId": "893667a3-eed5-4bbb-e55f-0e047ecef1e3"
      },
      "execution_count": 59,
      "outputs": [
        {
          "output_type": "stream",
          "name": "stdout",
          "text": [
            "Maria Silva Santos\n"
          ]
        }
      ]
    }
  ]
}