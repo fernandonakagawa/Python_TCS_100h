{
  "nbformat": 4,
  "nbformat_minor": 0,
  "metadata": {
    "colab": {
      "name": "Aula02_1907.ipynb",
      "provenance": [],
      "authorship_tag": "ABX9TyNtqPpaNZlJW9x797zMjp+Z",
      "include_colab_link": true
    },
    "kernelspec": {
      "name": "python3",
      "display_name": "Python 3"
    },
    "language_info": {
      "name": "python"
    }
  },
  "cells": [
    {
      "cell_type": "markdown",
      "metadata": {
        "id": "view-in-github",
        "colab_type": "text"
      },
      "source": [
        "<a href=\"https://colab.research.google.com/github/fernandonakagawa/Python_TCS_100h/blob/main/Aula02_1907.ipynb\" target=\"_parent\"><img src=\"https://colab.research.google.com/assets/colab-badge.svg\" alt=\"Open In Colab\"/></a>"
      ]
    },
    {
      "cell_type": "code",
      "execution_count": null,
      "metadata": {
        "id": "ED0H-mgnIy94"
      },
      "outputs": [],
      "source": [
        ""
      ]
    }
  ]
}