{
  "nbformat": 4,
  "nbformat_minor": 0,
  "metadata": {
    "colab": {
      "name": "Aula08_0308.ipynb",
      "provenance": [],
      "collapsed_sections": [],
      "authorship_tag": "ABX9TyM0kd3GsgIlsMirfDbtXd8w",
      "include_colab_link": true
    },
    "kernelspec": {
      "name": "python3",
      "display_name": "Python 3"
    },
    "language_info": {
      "name": "python"
    }
  },
  "cells": [
    {
      "cell_type": "markdown",
      "metadata": {
        "id": "view-in-github",
        "colab_type": "text"
      },
      "source": [
        "<a href=\"https://colab.research.google.com/github/fernandonakagawa/Python_TCS_100h/blob/main/Aula08_0308.ipynb\" target=\"_parent\"><img src=\"https://colab.research.google.com/assets/colab-badge.svg\" alt=\"Open In Colab\"/></a>"
      ]
    },
    {
      "cell_type": "markdown",
      "source": [
        "# Atividade 07"
      ],
      "metadata": {
        "id": "h3c2DyntWolO"
      }
    },
    {
      "cell_type": "markdown",
      "source": [
        "Mostrar na tela todos os números pares de 0 à 1000."
      ],
      "metadata": {
        "id": "3sXlc3uIZT0j"
      }
    },
    {
      "cell_type": "code",
      "execution_count": 2,
      "metadata": {
        "id": "EwGTMWICyMWR",
        "colab": {
          "base_uri": "https://localhost:8080/"
        },
        "outputId": "7c4dec8d-a861-4442-b961-302507987a5f"
      },
      "outputs": [
        {
          "output_type": "stream",
          "name": "stdout",
          "text": [
            "0,2,4,6,8,10,12,14,16,18,20,22,24,26,28,30,32,34,36,38,40,42,44,46,48,50,52,54,56,58,60,62,64,66,68,70,72,74,76,78,80,82,84,86,88,90,92,94,96,98,100,102,104,106,108,110,112,114,116,118,120,122,124,126,128,130,132,134,136,138,140,142,144,146,148,150,152,154,156,158,160,162,164,166,168,170,172,174,176,178,180,182,184,186,188,190,192,194,196,198,200,202,204,206,208,210,212,214,216,218,220,222,224,226,228,230,232,234,236,238,240,242,244,246,248,250,252,254,256,258,260,262,264,266,268,270,272,274,276,278,280,282,284,286,288,290,292,294,296,298,300,302,304,306,308,310,312,314,316,318,320,322,324,326,328,330,332,334,336,338,340,342,344,346,348,350,352,354,356,358,360,362,364,366,368,370,372,374,376,378,380,382,384,386,388,390,392,394,396,398,400,402,404,406,408,410,412,414,416,418,420,422,424,426,428,430,432,434,436,438,440,442,444,446,448,450,452,454,456,458,460,462,464,466,468,470,472,474,476,478,480,482,484,486,488,490,492,494,496,498,500,502,504,506,508,510,512,514,516,518,520,522,524,526,528,530,532,534,536,538,540,542,544,546,548,550,552,554,556,558,560,562,564,566,568,570,572,574,576,578,580,582,584,586,588,590,592,594,596,598,600,602,604,606,608,610,612,614,616,618,620,622,624,626,628,630,632,634,636,638,640,642,644,646,648,650,652,654,656,658,660,662,664,666,668,670,672,674,676,678,680,682,684,686,688,690,692,694,696,698,700,702,704,706,708,710,712,714,716,718,720,722,724,726,728,730,732,734,736,738,740,742,744,746,748,750,752,754,756,758,760,762,764,766,768,770,772,774,776,778,780,782,784,786,788,790,792,794,796,798,800,802,804,806,808,810,812,814,816,818,820,822,824,826,828,830,832,834,836,838,840,842,844,846,848,850,852,854,856,858,860,862,864,866,868,870,872,874,876,878,880,882,884,886,888,890,892,894,896,898,900,902,904,906,908,910,912,914,916,918,920,922,924,926,928,930,932,934,936,938,940,942,944,946,948,950,952,954,956,958,960,962,964,966,968,970,972,974,976,978,980,982,984,986,988,990,992,994,996,998,1000."
          ]
        }
      ],
      "source": [
        "for i in range(0,1001):\n",
        "  if i % 2 == 0:\n",
        "    if i < 1000:\n",
        "      print(i, end = \",\")\n",
        "    else:\n",
        "      print(i, end = \".\")"
      ]
    },
    {
      "cell_type": "markdown",
      "source": [
        "Mostrar na tela todos os números ímpares de 5 à 55"
      ],
      "metadata": {
        "id": "pSPyu5f5aQh3"
      }
    },
    {
      "cell_type": "code",
      "source": [
        "[x for x in range(5,56) if x%2 == 1]"
      ],
      "metadata": {
        "colab": {
          "base_uri": "https://localhost:8080/"
        },
        "id": "K3AkoSKDaVlh",
        "outputId": "7589e5d3-fb93-4a07-c6c2-f4cbbb1eaf06"
      },
      "execution_count": 4,
      "outputs": [
        {
          "output_type": "execute_result",
          "data": {
            "text/plain": [
              "[5,\n",
              " 7,\n",
              " 9,\n",
              " 11,\n",
              " 13,\n",
              " 15,\n",
              " 17,\n",
              " 19,\n",
              " 21,\n",
              " 23,\n",
              " 25,\n",
              " 27,\n",
              " 29,\n",
              " 31,\n",
              " 33,\n",
              " 35,\n",
              " 37,\n",
              " 39,\n",
              " 41,\n",
              " 43,\n",
              " 45,\n",
              " 47,\n",
              " 49,\n",
              " 51,\n",
              " 53,\n",
              " 55]"
            ]
          },
          "metadata": {},
          "execution_count": 4
        }
      ]
    },
    {
      "cell_type": "markdown",
      "source": [
        "Mostrar na tela somente números primos de 2 à 100."
      ],
      "metadata": {
        "id": "SSFUQJusavaZ"
      }
    },
    {
      "cell_type": "code",
      "source": [
        "for i in range(2,100):\n",
        "  primo = True\n",
        "  for k in range(2, i):\n",
        "    if i % k == 0: \n",
        "      primo = False\n",
        "      break\n",
        "  if primo: print(i, end = \" \")"
      ],
      "metadata": {
        "colab": {
          "base_uri": "https://localhost:8080/"
        },
        "id": "Uj1QNg0xa15v",
        "outputId": "de0625d8-66e0-4e37-ecd4-8e24afae5391"
      },
      "execution_count": 15,
      "outputs": [
        {
          "output_type": "stream",
          "name": "stdout",
          "text": [
            "2 3 5 7 11 13 17 19 23 29 31 37 41 43 47 53 59 61 67 71 73 79 83 89 97 "
          ]
        }
      ]
    },
    {
      "cell_type": "markdown",
      "source": [
        "Crie uma list de int vetB com tamanho 5, insira um inteiro com\n",
        "entrada do teclado para cada um dos elementos e mostre na tela os\n",
        "seus valores após a inserção dos elementos."
      ],
      "metadata": {
        "id": "MUUK8Lvceef6"
      }
    },
    {
      "cell_type": "code",
      "source": [
        "vetB = [int] * 5\n",
        "for i in range(5):\n",
        "  vetB[i] = int(input(f\"Digite o inteiro {i + 1}: \"))\n",
        "vetB"
      ],
      "metadata": {
        "colab": {
          "base_uri": "https://localhost:8080/"
        },
        "id": "LhMp-L4Mfk8J",
        "outputId": "cd6698df-32c3-4181-9276-ee8884c15c8c"
      },
      "execution_count": 17,
      "outputs": [
        {
          "name": "stdout",
          "output_type": "stream",
          "text": [
            "Digite o inteiro 0: 1\n",
            "Digite o inteiro 1: 3\n",
            "Digite o inteiro 2: 5\n",
            "Digite o inteiro 3: 7\n",
            "Digite o inteiro 4: 9\n"
          ]
        },
        {
          "output_type": "execute_result",
          "data": {
            "text/plain": [
              "[1, 3, 5, 7, 9]"
            ]
          },
          "metadata": {},
          "execution_count": 17
        }
      ]
    },
    {
      "cell_type": "code",
      "source": [
        "vetB = [i for i in range(5) i = int(input(f\"Digite o inteiro {i+1}\"))]\n",
        "vetB"
      ],
      "metadata": {
        "colab": {
          "base_uri": "https://localhost:8080/",
          "height": 131
        },
        "id": "yJRpDa0JgDt8",
        "outputId": "8e524281-3dd8-4062-bfa5-9a7890a3b0be"
      },
      "execution_count": 19,
      "outputs": [
        {
          "output_type": "error",
          "ename": "SyntaxError",
          "evalue": "ignored",
          "traceback": [
            "\u001b[0;36m  File \u001b[0;32m\"<ipython-input-19-a5f02c75108e>\"\u001b[0;36m, line \u001b[0;32m1\u001b[0m\n\u001b[0;31m    vetB = [i for i in range(5) i = int(input(f\"Digite o inteiro {i+1}\"))]\u001b[0m\n\u001b[0m                                ^\u001b[0m\n\u001b[0;31mSyntaxError\u001b[0m\u001b[0;31m:\u001b[0m invalid syntax\n"
          ]
        }
      ]
    },
    {
      "cell_type": "markdown",
      "source": [
        "Crie uma list de int vetD com tamanho 50, atribua ao conteúdo de\n",
        "cada um de seus elementos o valor de seu índice e mostre o valor\n",
        "de cada um dos elementos na tela multiplicados por 2."
      ],
      "metadata": {
        "id": "fl91cSoWgrLc"
      }
    },
    {
      "cell_type": "code",
      "source": [
        "vetD = [x*2 for x in range(50)]\n",
        "vetD"
      ],
      "metadata": {
        "colab": {
          "base_uri": "https://localhost:8080/"
        },
        "id": "5xIaic1qguK0",
        "outputId": "12264469-59d3-4fdb-8cbf-32a106a46fb6"
      },
      "execution_count": 24,
      "outputs": [
        {
          "output_type": "execute_result",
          "data": {
            "text/plain": [
              "[0,\n",
              " 2,\n",
              " 4,\n",
              " 6,\n",
              " 8,\n",
              " 10,\n",
              " 12,\n",
              " 14,\n",
              " 16,\n",
              " 18,\n",
              " 20,\n",
              " 22,\n",
              " 24,\n",
              " 26,\n",
              " 28,\n",
              " 30,\n",
              " 32,\n",
              " 34,\n",
              " 36,\n",
              " 38,\n",
              " 40,\n",
              " 42,\n",
              " 44,\n",
              " 46,\n",
              " 48,\n",
              " 50,\n",
              " 52,\n",
              " 54,\n",
              " 56,\n",
              " 58,\n",
              " 60,\n",
              " 62,\n",
              " 64,\n",
              " 66,\n",
              " 68,\n",
              " 70,\n",
              " 72,\n",
              " 74,\n",
              " 76,\n",
              " 78,\n",
              " 80,\n",
              " 82,\n",
              " 84,\n",
              " 86,\n",
              " 88,\n",
              " 90,\n",
              " 92,\n",
              " 94,\n",
              " 96,\n",
              " 98]"
            ]
          },
          "metadata": {},
          "execution_count": 24
        }
      ]
    },
    {
      "cell_type": "markdown",
      "source": [
        "Crie uma tupla contendo todos os meses do ano e mostre qual mês\n",
        "corresponde ao índice 8."
      ],
      "metadata": {
        "id": "EVIFC7qKhbA8"
      }
    },
    {
      "cell_type": "code",
      "source": [
        "meses = (\"jan\", \"fev\", \"mar\", \"abr\", \"mai\", \"jun\", \"jul\", \"ago\", \"set\", \"out\", \"nov\", \"dez\")\n",
        "meses[8]"
      ],
      "metadata": {
        "colab": {
          "base_uri": "https://localhost:8080/",
          "height": 35
        },
        "id": "Bjemyipkhfmp",
        "outputId": "ae9b4107-8ab2-4889-a8e1-a126a9b0f15d"
      },
      "execution_count": 25,
      "outputs": [
        {
          "output_type": "execute_result",
          "data": {
            "text/plain": [
              "'set'"
            ],
            "application/vnd.google.colaboratory.intrinsic+json": {
              "type": "string"
            }
          },
          "metadata": {},
          "execution_count": 25
        }
      ]
    },
    {
      "cell_type": "markdown",
      "source": [
        "Crie um set contendo as partes de um computador e depois adicione\n",
        "o item “memória RAM” e mostre o set na tela."
      ],
      "metadata": {
        "id": "Q0YgpytDh0VJ"
      }
    },
    {
      "cell_type": "code",
      "source": [
        "computador = {\"cpu\", \"monitor\", \"mouse\", \"teclado\", \"gpu\"}\n",
        "computador.add(\"memória RAM\")\n",
        "computador"
      ],
      "metadata": {
        "colab": {
          "base_uri": "https://localhost:8080/"
        },
        "id": "z-6VlJYJh2vZ",
        "outputId": "0d7eb858-f583-4a8b-f279-aae90a2c4256"
      },
      "execution_count": 30,
      "outputs": [
        {
          "output_type": "execute_result",
          "data": {
            "text/plain": [
              "{'cpu', 'gpu', 'memória RAM', 'monitor', 'mouse', 'teclado'}"
            ]
          },
          "metadata": {},
          "execution_count": 30
        }
      ]
    },
    {
      "cell_type": "markdown",
      "source": [
        "Crie um dicionário que guarde as informações de 5 conceitos de\n",
        "Python que você aprendeu até agora."
      ],
      "metadata": {
        "id": "Gvfc9cvgiW17"
      }
    },
    {
      "cell_type": "code",
      "source": [
        "curso_de_python = {\n",
        "    \"Aula 1\":\"Comandos condicionais\",\n",
        "    \"Aula 2\":\"Strings\",\n",
        "    \"Aula 3\":\"Laço while\",\n",
        "    \"Aula 4\":\"Laço for\",\n",
        "    \"Aula 5\":\"Lists\"\n",
        "}\n",
        "curso_de_python[\"Aula 2\"]"
      ],
      "metadata": {
        "colab": {
          "base_uri": "https://localhost:8080/",
          "height": 35
        },
        "id": "UR0oAj7xibDo",
        "outputId": "86655e54-5ea1-48bd-93eb-d033b84bb107"
      },
      "execution_count": 33,
      "outputs": [
        {
          "output_type": "execute_result",
          "data": {
            "text/plain": [
              "'Strings'"
            ],
            "application/vnd.google.colaboratory.intrinsic+json": {
              "type": "string"
            }
          },
          "metadata": {},
          "execution_count": 33
        }
      ]
    },
    {
      "cell_type": "markdown",
      "source": [
        "# Aula 08\n"
      ],
      "metadata": {
        "id": "TXQoPUXjiaSJ"
      }
    },
    {
      "cell_type": "markdown",
      "source": [
        "## List Comprehensions"
      ],
      "metadata": {
        "id": "5UIJSHJKmBgO"
      }
    },
    {
      "cell_type": "code",
      "source": [
        "squares = []\n",
        "for x in range(10):\n",
        "  squares.append(x**2)\n",
        "\n",
        "squares"
      ],
      "metadata": {
        "colab": {
          "base_uri": "https://localhost:8080/"
        },
        "id": "apUw6Yceyd73",
        "outputId": "71becc91-309a-486c-fe5a-2f30c5025e55"
      },
      "execution_count": null,
      "outputs": [
        {
          "output_type": "execute_result",
          "data": {
            "text/plain": [
              "[0, 1, 4, 9, 16, 25, 36, 49, 64, 81]"
            ]
          },
          "metadata": {},
          "execution_count": 1
        }
      ]
    },
    {
      "cell_type": "code",
      "source": [
        "squares = list(map(lambda x: x**2, range(10)))\n",
        "squares"
      ],
      "metadata": {
        "colab": {
          "base_uri": "https://localhost:8080/"
        },
        "id": "UUoFU0l2ykl2",
        "outputId": "a2d9ac41-cee8-4bcc-8e80-66edd099a2a1"
      },
      "execution_count": 34,
      "outputs": [
        {
          "output_type": "execute_result",
          "data": {
            "text/plain": [
              "[0, 1, 4, 9, 16, 25, 36, 49, 64, 81]"
            ]
          },
          "metadata": {},
          "execution_count": 34
        }
      ]
    },
    {
      "cell_type": "code",
      "source": [
        "squares = [x**2 for x in range(10)]\n",
        "squares"
      ],
      "metadata": {
        "colab": {
          "base_uri": "https://localhost:8080/"
        },
        "id": "iWA5g42_yocd",
        "outputId": "a53eb1cc-3f91-464a-bbf2-4bdd8d78f6ab"
      },
      "execution_count": null,
      "outputs": [
        {
          "output_type": "execute_result",
          "data": {
            "text/plain": [
              "[0, 1, 4, 9, 16, 25, 36, 49, 64, 81]"
            ]
          },
          "metadata": {},
          "execution_count": 3
        }
      ]
    },
    {
      "cell_type": "code",
      "source": [
        "combs = []\n",
        "for x in [1,2,3]:\n",
        "    for y in [3,1,4]:\n",
        "        if x != y:\n",
        "            combs.append((x, y))\n",
        "combs"
      ],
      "metadata": {
        "colab": {
          "base_uri": "https://localhost:8080/"
        },
        "id": "Z2Ik9cIozJ_B",
        "outputId": "5489160b-1020-4515-8365-773a6d6ec8ea"
      },
      "execution_count": null,
      "outputs": [
        {
          "output_type": "execute_result",
          "data": {
            "text/plain": [
              "[(1, 3), (1, 4), (2, 3), (2, 1), (2, 4), (3, 1), (3, 4)]"
            ]
          },
          "metadata": {},
          "execution_count": 5
        }
      ]
    },
    {
      "cell_type": "code",
      "source": [
        "[(x, y) for x in [1,2,3] for y in [3,1,4] if x != y]"
      ],
      "metadata": {
        "colab": {
          "base_uri": "https://localhost:8080/"
        },
        "id": "f-dvi5YJytWR",
        "outputId": "cd79d924-d8c9-492d-c193-14a1ec3eae3a"
      },
      "execution_count": null,
      "outputs": [
        {
          "output_type": "execute_result",
          "data": {
            "text/plain": [
              "[(1, 3), (1, 4), (2, 3), (2, 1), (2, 4), (3, 1), (3, 4)]"
            ]
          },
          "metadata": {},
          "execution_count": 4
        }
      ]
    },
    {
      "cell_type": "code",
      "source": [
        "vec = [-4, -2, 0, 2, 4]\n",
        "vec2 = [x*2 for x in vec]\n",
        "vec2"
      ],
      "metadata": {
        "colab": {
          "base_uri": "https://localhost:8080/"
        },
        "id": "SAqPSsu_y-RE",
        "outputId": "1de0900a-9bef-4b61-d7af-52acf561ae42"
      },
      "execution_count": 35,
      "outputs": [
        {
          "output_type": "execute_result",
          "data": {
            "text/plain": [
              "[-8, -4, 0, 4, 8]"
            ]
          },
          "metadata": {},
          "execution_count": 35
        }
      ]
    },
    {
      "cell_type": "code",
      "source": [
        "[x for x in vec if x >= 0]"
      ],
      "metadata": {
        "colab": {
          "base_uri": "https://localhost:8080/"
        },
        "id": "BFbe0a5XzVC6",
        "outputId": "0bb66d8e-8ea9-44a6-8958-f9ae3d7a23d2"
      },
      "execution_count": null,
      "outputs": [
        {
          "output_type": "execute_result",
          "data": {
            "text/plain": [
              "[0, 2, 4]"
            ]
          },
          "metadata": {},
          "execution_count": 9
        }
      ]
    },
    {
      "cell_type": "code",
      "source": [
        "[abs(x) for x in vec]"
      ],
      "metadata": {
        "colab": {
          "base_uri": "https://localhost:8080/"
        },
        "id": "xzJsZaMezaAk",
        "outputId": "45e4633d-65c1-45dd-d801-25e2097ab2ff"
      },
      "execution_count": null,
      "outputs": [
        {
          "output_type": "execute_result",
          "data": {
            "text/plain": [
              "[4, 2, 0, 2, 4]"
            ]
          },
          "metadata": {},
          "execution_count": 10
        }
      ]
    },
    {
      "cell_type": "code",
      "source": [
        "[abs(x*2) for x in vec]"
      ],
      "metadata": {
        "colab": {
          "base_uri": "https://localhost:8080/"
        },
        "id": "RkeQ5vCZze0Y",
        "outputId": "469e8ccf-8f30-49b6-82e9-a4e2bc3f91e4"
      },
      "execution_count": null,
      "outputs": [
        {
          "output_type": "execute_result",
          "data": {
            "text/plain": [
              "[8, 4, 0, 4, 8]"
            ]
          },
          "metadata": {},
          "execution_count": 11
        }
      ]
    },
    {
      "cell_type": "code",
      "source": [
        "freshfruit = ['  banana', '  loganberry ', 'passion fruit  ']\n",
        "[weapon.strip() for weapon in freshfruit]"
      ],
      "metadata": {
        "colab": {
          "base_uri": "https://localhost:8080/"
        },
        "id": "5EucS0ZNzhQ4",
        "outputId": "9d9a556c-28ad-411b-c872-f8aa677fa81c"
      },
      "execution_count": null,
      "outputs": [
        {
          "output_type": "execute_result",
          "data": {
            "text/plain": [
              "['banana', 'loganberry', 'passion fruit']"
            ]
          },
          "metadata": {},
          "execution_count": 12
        }
      ]
    },
    {
      "cell_type": "code",
      "source": [
        "[(x, x**2) for x in range(6)]"
      ],
      "metadata": {
        "colab": {
          "base_uri": "https://localhost:8080/"
        },
        "id": "YsIKuP3NzoPO",
        "outputId": "f852fcd2-3956-4ed9-fa9b-dc37cdcec969"
      },
      "execution_count": null,
      "outputs": [
        {
          "output_type": "execute_result",
          "data": {
            "text/plain": [
              "[(0, 0), (1, 1), (2, 4), (3, 9), (4, 16), (5, 25)]"
            ]
          },
          "metadata": {},
          "execution_count": 13
        }
      ]
    },
    {
      "cell_type": "code",
      "source": [
        "[x, x**2 for x in range(6)]"
      ],
      "metadata": {
        "colab": {
          "base_uri": "https://localhost:8080/",
          "height": 131
        },
        "id": "SJoLN5I0zsgF",
        "outputId": "7422646f-9982-4e37-f2a8-7ebeadad1bdc"
      },
      "execution_count": null,
      "outputs": [
        {
          "output_type": "error",
          "ename": "SyntaxError",
          "evalue": "ignored",
          "traceback": [
            "\u001b[0;36m  File \u001b[0;32m\"<ipython-input-14-a4841c5cdd7d>\"\u001b[0;36m, line \u001b[0;32m1\u001b[0m\n\u001b[0;31m    [x, x**2 for x in range(6)]\u001b[0m\n\u001b[0m               ^\u001b[0m\n\u001b[0;31mSyntaxError\u001b[0m\u001b[0;31m:\u001b[0m invalid syntax\n"
          ]
        }
      ]
    },
    {
      "cell_type": "code",
      "source": [
        "vec = [[1,2,3], [4,5,6], [7,8,9]]\n",
        "[num for elem in vec for num in elem]\n"
      ],
      "metadata": {
        "colab": {
          "base_uri": "https://localhost:8080/"
        },
        "id": "A5XThd8Rzydi",
        "outputId": "5f10814b-5952-45cd-d280-e27d30c6ea74"
      },
      "execution_count": 37,
      "outputs": [
        {
          "output_type": "execute_result",
          "data": {
            "text/plain": [
              "[1, 2, 3, 4, 5, 6, 7, 8, 9]"
            ]
          },
          "metadata": {},
          "execution_count": 37
        }
      ]
    },
    {
      "cell_type": "markdown",
      "source": [
        "## Funções"
      ],
      "metadata": {
        "id": "vWDcv4w5l5E-"
      }
    },
    {
      "cell_type": "code",
      "source": [
        "def falar_oi():\n",
        "  print(\"Oi\")\n",
        "\n",
        "falar_oi()\n",
        "falar_oi()"
      ],
      "metadata": {
        "id": "QXqe1Ojaz4A-",
        "colab": {
          "base_uri": "https://localhost:8080/"
        },
        "outputId": "454e661b-fd72-4905-e21c-b30cde008a43"
      },
      "execution_count": 40,
      "outputs": [
        {
          "output_type": "stream",
          "name": "stdout",
          "text": [
            "Oi\n",
            "Oi\n"
          ]
        }
      ]
    },
    {
      "cell_type": "code",
      "source": [
        "for i in range(5): falar_oi()"
      ],
      "metadata": {
        "colab": {
          "base_uri": "https://localhost:8080/"
        },
        "id": "EtM_DkI8mSV2",
        "outputId": "1f33080d-8a99-43cc-b5c2-5ed643b67a40"
      },
      "execution_count": 41,
      "outputs": [
        {
          "output_type": "stream",
          "name": "stdout",
          "text": [
            "Oi\n",
            "Oi\n",
            "Oi\n",
            "Oi\n",
            "Oi\n"
          ]
        }
      ]
    },
    {
      "cell_type": "code",
      "source": [
        "#Não recomendável\n",
        "a = 5\n",
        "b = 2\n",
        "def somar():\n",
        "  print(a+b)\n",
        "\n",
        "somar()"
      ],
      "metadata": {
        "colab": {
          "base_uri": "https://localhost:8080/"
        },
        "id": "sD_jt27ImcgP",
        "outputId": "8f0e0267-a95f-4643-c188-d278a6fb77cc"
      },
      "execution_count": 43,
      "outputs": [
        {
          "output_type": "stream",
          "name": "stdout",
          "text": [
            "7\n"
          ]
        }
      ]
    },
    {
      "cell_type": "code",
      "source": [
        "def multiplicar():\n",
        "  return a+b\n",
        "\n",
        "x = multiplicar()\n",
        "x"
      ],
      "metadata": {
        "colab": {
          "base_uri": "https://localhost:8080/"
        },
        "id": "KBF7JqEhmjF6",
        "outputId": "731b953b-e031-4176-f898-afece5340f6b"
      },
      "execution_count": 44,
      "outputs": [
        {
          "output_type": "execute_result",
          "data": {
            "text/plain": [
              "7"
            ]
          },
          "metadata": {},
          "execution_count": 44
        }
      ]
    },
    {
      "cell_type": "code",
      "source": [
        "def dividir(a, b):\n",
        "  print(a/b)\n",
        "\n",
        "dividir(4,3)"
      ],
      "metadata": {
        "colab": {
          "base_uri": "https://localhost:8080/"
        },
        "id": "G20GoByzm5wj",
        "outputId": "51f601f0-3d4f-4c9d-e9a1-79a21f4cc830"
      },
      "execution_count": 46,
      "outputs": [
        {
          "output_type": "stream",
          "name": "stdout",
          "text": [
            "1.3333333333333333\n"
          ]
        }
      ]
    },
    {
      "cell_type": "code",
      "source": [
        "def subtrair(a,b):\n",
        "  return a-b\n",
        "\n",
        "x = subtrair(6,4)\n",
        "x"
      ],
      "metadata": {
        "colab": {
          "base_uri": "https://localhost:8080/"
        },
        "id": "amEJ-n84nWap",
        "outputId": "ea84bd68-422c-40e8-e685-a3368080e998"
      },
      "execution_count": 47,
      "outputs": [
        {
          "output_type": "execute_result",
          "data": {
            "text/plain": [
              "2"
            ]
          },
          "metadata": {},
          "execution_count": 47
        }
      ]
    },
    {
      "cell_type": "code",
      "source": [
        "\"\"\"\n",
        "Função que calcula o quadrado\n",
        "\n",
        "\"\"\"\n",
        "def quadrado(a):\n",
        "  return a, a**2\n",
        "\n",
        "x, x2 = quadrado(5)\n",
        "print(x, x2)"
      ],
      "metadata": {
        "colab": {
          "base_uri": "https://localhost:8080/"
        },
        "id": "pEK8zUubnkIF",
        "outputId": "83eb985d-6547-4352-cbcd-05a68f21de7e"
      },
      "execution_count": 48,
      "outputs": [
        {
          "output_type": "stream",
          "name": "stdout",
          "text": [
            "5 25\n"
          ]
        }
      ]
    },
    {
      "cell_type": "markdown",
      "source": [
        "https://docs.python.org/3/tutorial/controlflow.html#function-annotations"
      ],
      "metadata": {
        "id": "4HO9OT2UqiVY"
      }
    },
    {
      "cell_type": "markdown",
      "source": [
        "https://peps.python.org/pep-0008/"
      ],
      "metadata": {
        "id": "_M8F2GHOqkB9"
      }
    },
    {
      "cell_type": "code",
      "source": [
        "def cumprimentar(nome):\n",
        "  nome = \"João\"\n",
        "  print(f\"Olá {nome}!\")\n",
        "\n",
        "#cumprimentar(\"Fernando\")\n",
        "#print(z)\n",
        "print(nome)"
      ],
      "metadata": {
        "colab": {
          "base_uri": "https://localhost:8080/",
          "height": 200
        },
        "id": "Jrp9YWaan0ZE",
        "outputId": "168e87dd-5e5c-4f66-ae9b-14ec47121bfa"
      },
      "execution_count": 52,
      "outputs": [
        {
          "output_type": "error",
          "ename": "NameError",
          "evalue": "ignored",
          "traceback": [
            "\u001b[0;31m---------------------------------------------------------------------------\u001b[0m",
            "\u001b[0;31mNameError\u001b[0m                                 Traceback (most recent call last)",
            "\u001b[0;32m<ipython-input-52-adb3a77f0c2a>\u001b[0m in \u001b[0;36m<module>\u001b[0;34m()\u001b[0m\n\u001b[1;32m      5\u001b[0m \u001b[0;31m#cumprimentar(\"Fernando\")\u001b[0m\u001b[0;34m\u001b[0m\u001b[0;34m\u001b[0m\u001b[0;34m\u001b[0m\u001b[0m\n\u001b[1;32m      6\u001b[0m \u001b[0;31m#print(z)\u001b[0m\u001b[0;34m\u001b[0m\u001b[0;34m\u001b[0m\u001b[0;34m\u001b[0m\u001b[0m\n\u001b[0;32m----> 7\u001b[0;31m \u001b[0mprint\u001b[0m\u001b[0;34m(\u001b[0m\u001b[0mnome\u001b[0m\u001b[0;34m)\u001b[0m\u001b[0;34m\u001b[0m\u001b[0;34m\u001b[0m\u001b[0m\n\u001b[0m",
            "\u001b[0;31mNameError\u001b[0m: name 'nome' is not defined"
          ]
        }
      ]
    },
    {
      "cell_type": "code",
      "source": [
        "a = 0\n",
        "while a < 5:\n",
        "  a += 1\n",
        "  u = a * 2\n",
        "  print(u)\n",
        "print(u)"
      ],
      "metadata": {
        "colab": {
          "base_uri": "https://localhost:8080/"
        },
        "id": "RBq2MwDms8BX",
        "outputId": "bad385b9-acda-4139-ab10-6fe177f697e8"
      },
      "execution_count": 54,
      "outputs": [
        {
          "output_type": "stream",
          "name": "stdout",
          "text": [
            "2\n",
            "4\n",
            "6\n",
            "8\n",
            "10\n",
            "10\n"
          ]
        }
      ]
    },
    {
      "cell_type": "code",
      "source": [
        "for i in range(5):\n",
        "  v = i * 2\n",
        "  print(v)\n",
        "v"
      ],
      "metadata": {
        "colab": {
          "base_uri": "https://localhost:8080/"
        },
        "id": "XJ-W5ZZ-uyd7",
        "outputId": "eac485c8-2ad0-43c2-bc46-69a1c6234a25"
      },
      "execution_count": 56,
      "outputs": [
        {
          "output_type": "stream",
          "name": "stdout",
          "text": [
            "0\n",
            "2\n",
            "4\n",
            "6\n",
            "8\n"
          ]
        },
        {
          "output_type": "execute_result",
          "data": {
            "text/plain": [
              "8"
            ]
          },
          "metadata": {},
          "execution_count": 56
        }
      ]
    },
    {
      "cell_type": "code",
      "source": [
        "for p in range(5):\n",
        "  print(p)\n",
        "p = None\n",
        "print(p)"
      ],
      "metadata": {
        "colab": {
          "base_uri": "https://localhost:8080/"
        },
        "id": "XXUfN32RvRI-",
        "outputId": "caed6605-e9c9-479d-fed0-91384588a3ff"
      },
      "execution_count": 61,
      "outputs": [
        {
          "output_type": "stream",
          "name": "stdout",
          "text": [
            "0\n",
            "1\n",
            "2\n",
            "3\n",
            "4\n",
            "None\n"
          ]
        }
      ]
    },
    {
      "cell_type": "code",
      "source": [
        "# tendo i não declarado\n",
        "# for(int i = 0; i < 10; i ++){ ... }\n",
        "\n",
        "#System.out.println(i); não funciona"
      ],
      "metadata": {
        "id": "5-HGynkIu9cx"
      },
      "execution_count": null,
      "outputs": []
    }
  ]
}