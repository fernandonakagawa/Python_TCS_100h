{
  "nbformat": 4,
  "nbformat_minor": 0,
  "metadata": {
    "colab": {
      "name": "Aula06_0108.ipynb",
      "provenance": [],
      "collapsed_sections": [],
      "authorship_tag": "ABX9TyORP7QXLFgMIUyLaqq9SFJp",
      "include_colab_link": true
    },
    "kernelspec": {
      "name": "python3",
      "display_name": "Python 3"
    },
    "language_info": {
      "name": "python"
    }
  },
  "cells": [
    {
      "cell_type": "markdown",
      "metadata": {
        "id": "view-in-github",
        "colab_type": "text"
      },
      "source": [
        "<a href=\"https://colab.research.google.com/github/fernandonakagawa/Python_TCS_100h/blob/main/Aula06_0108.ipynb\" target=\"_parent\"><img src=\"https://colab.research.google.com/assets/colab-badge.svg\" alt=\"Open In Colab\"/></a>"
      ]
    },
    {
      "cell_type": "markdown",
      "source": [
        "# Atividade 05"
      ],
      "metadata": {
        "id": "U_EmvCeTJazc"
      }
    },
    {
      "cell_type": "markdown",
      "source": [
        "\n",
        "Enquanto a1=0 for menor que 5, incrementando 1 a cada laço,\n",
        "mostre na tela o seu número.\n",
        "---\n",
        "\n"
      ],
      "metadata": {
        "id": "JH9TLQGGIp4W"
      }
    },
    {
      "cell_type": "code",
      "execution_count": 2,
      "metadata": {
        "id": "uDGpLcdECX_d",
        "colab": {
          "base_uri": "https://localhost:8080/"
        },
        "outputId": "555696e8-ed1d-4c76-bdf9-a162aadfc5b6"
      },
      "outputs": [
        {
          "output_type": "stream",
          "name": "stdout",
          "text": [
            "0\n",
            "1\n",
            "2\n",
            "3\n",
            "4\n",
            "0\n",
            "1\n",
            "2\n",
            "3\n",
            "4\n"
          ]
        }
      ],
      "source": [
        "a1 = 0\n",
        "while a1 < 5:\n",
        "  print(a1)\n",
        "  a1 += 1\n",
        "\n",
        "for a1 in range(5):\n",
        "  print(a1)"
      ]
    },
    {
      "cell_type": "markdown",
      "source": [
        "Enquanto a2=0 for menor que 3, incrementando 1 a cada laço,\n",
        "mostre na tela o seu número multiplicado por 10."
      ],
      "metadata": {
        "id": "9xKa-n_OJJcQ"
      }
    },
    {
      "cell_type": "code",
      "source": [
        "a2 = 0\n",
        "while a2 < 3:\n",
        "  print(a2*10)\n",
        "  a2 += 1\n",
        "\n",
        "for a2 in range(3):\n",
        "  print(a2 * 10)"
      ],
      "metadata": {
        "colab": {
          "base_uri": "https://localhost:8080/"
        },
        "id": "zCBRppsbJJHN",
        "outputId": "4673b41b-2c93-458c-d9c0-ff8f425d445e"
      },
      "execution_count": 4,
      "outputs": [
        {
          "output_type": "stream",
          "name": "stdout",
          "text": [
            "0\n",
            "10\n",
            "20\n",
            "0\n",
            "10\n",
            "20\n"
          ]
        }
      ]
    },
    {
      "cell_type": "markdown",
      "source": [
        ""
      ],
      "metadata": {
        "id": "GfJZvQkjJZAl"
      }
    },
    {
      "cell_type": "markdown",
      "source": [
        "Enquanto a3=20 for maior que 10, decrementando 1 a cada\n",
        "laço, mostre na tela o seu número."
      ],
      "metadata": {
        "id": "yIbH3fYnJeP1"
      }
    },
    {
      "cell_type": "code",
      "source": [
        "a3 = 20\n",
        "while a3 > 10:\n",
        "  print(a3)\n",
        "  a3 -= 1\n",
        "\n",
        "for a3 in range(20, 10, -1): print(a3)"
      ],
      "metadata": {
        "colab": {
          "base_uri": "https://localhost:8080/"
        },
        "id": "DwllZw8UJDqP",
        "outputId": "6405e475-45c1-4b64-bc26-31b3caec68e3"
      },
      "execution_count": 6,
      "outputs": [
        {
          "output_type": "stream",
          "name": "stdout",
          "text": [
            "20\n",
            "19\n",
            "18\n",
            "17\n",
            "16\n",
            "15\n",
            "14\n",
            "13\n",
            "12\n",
            "11\n",
            "20\n",
            "19\n",
            "18\n",
            "17\n",
            "16\n",
            "15\n",
            "14\n",
            "13\n",
            "12\n",
            "11\n"
          ]
        }
      ]
    },
    {
      "cell_type": "markdown",
      "source": [
        "Para a4=0 enquanto a4 menor que 10, incrementando 1, mostre\n",
        "na tela o seu número"
      ],
      "metadata": {
        "id": "hIka1NvrKF6r"
      }
    },
    {
      "cell_type": "code",
      "source": [
        "a4 = 0\n",
        "while a4 < 10:\n",
        "  print(a4)\n",
        "  a4 += 1\n",
        "\n",
        "for a4 in range(0, 10, 1): print(a4)"
      ],
      "metadata": {
        "colab": {
          "base_uri": "https://localhost:8080/"
        },
        "id": "ZR0bGFyrJ0RE",
        "outputId": "b66ec963-ee58-453e-bd1d-cbf3da0534fb"
      },
      "execution_count": 9,
      "outputs": [
        {
          "output_type": "stream",
          "name": "stdout",
          "text": [
            "0\n",
            "1\n",
            "2\n",
            "3\n",
            "4\n",
            "5\n",
            "6\n",
            "7\n",
            "8\n",
            "9\n",
            "0\n",
            "1\n",
            "2\n",
            "3\n",
            "4\n",
            "5\n",
            "6\n",
            "7\n",
            "8\n",
            "9\n"
          ]
        }
      ]
    },
    {
      "cell_type": "markdown",
      "source": [
        "Um trabalhador trabalha 40 horas por semana. Escreva um algoritmo\n",
        "que leia o número de horas trabalhadas em cada semana de um mês,\n",
        "o salário por hora e escreva o salário total do mês do\n",
        "funcionário (considere que o mês possua 4 semanas exatas).\n",
        "Considere que o trabalhador que trabalhar mais de 40 horas em uma\n",
        "semana, recebe hora extra de 50% nas horas que foram trabalhadas\n",
        "a mais. O número de horas por semana não pode ser negativo e não\n",
        "pode ultrapassar 50 horas por semana."
      ],
      "metadata": {
        "id": "LIpmaAABKieE"
      }
    },
    {
      "cell_type": "code",
      "source": [
        "horas = [-1, -1, -1, -1]\n",
        "salario_semana = [0,0,0,0]\n",
        "\n",
        "valor_hora = float(input(\"Digite o valor do salário por hora: \"))\n",
        "for n_semana in range(4):\n",
        "  while horas[n_semana] < 0 or horas[n_semana] > 50:\n",
        "    horas[n_semana] = int(input(f\"Digite a quantidade de horas trabalhadas na semana {n_semana + 1}:\"))\n",
        "    if horas[n_semana] < 0 or horas[n_semana] > 50: print(\"Quantidade de horas inválida. Digite novamente\")\n",
        "    else:\n",
        "      if horas[n_semana] <= 40: salario_semana[n_semana] = valor_hora * horas[n_semana]\n",
        "      else: \n",
        "        salario_semana[n_semana] = valor_hora * 40\n",
        "        salario_semana[n_semana] += (horas[n_semana] - 40) * (valor_hora + valor_hora * 0.5)\n",
        "\n",
        "salario_mes = 0\n",
        "for n_semana in range(4):\n",
        "  salario_mes += salario_semana[n_semana]\n",
        "print(f\"O salário do mês é de R$ {salario_mes}\")"
      ],
      "metadata": {
        "colab": {
          "base_uri": "https://localhost:8080/"
        },
        "id": "1GYfAgONKVce",
        "outputId": "5253ef9a-cea8-4321-cd9a-5b2f1364af4b"
      },
      "execution_count": 12,
      "outputs": [
        {
          "output_type": "stream",
          "name": "stdout",
          "text": [
            "Digite o valor do salário por hora: 100\n",
            "Digite a quantidade de horas trabalhadas na semana 1:40\n",
            "Digite a quantidade de horas trabalhadas na semana 2:40\n",
            "Digite a quantidade de horas trabalhadas na semana 3:40\n",
            "Digite a quantidade de horas trabalhadas na semana 4:50\n",
            "O salário do mês é de R$ 17500.0\n"
          ]
        }
      ]
    },
    {
      "cell_type": "markdown",
      "source": [
        "leia 3 valores (A, B e C) representando as medidas de um\n",
        "triângulo. Mostrar se tais medidas formam um triângulo ou\n",
        "não. Lembre-se que o valor de cada lado deve ser menor que a\n",
        "soma dos outros 2 lados e deve ser maior que o valor\n",
        "absoluto da diferença entre os outros 2 lados.\n",
        "\n",
        "| B - C | &lt; A &lt; B + C\n",
        "\n",
        "| A - C | &lt; B &lt; A + C\n",
        "\n",
        "| A - B | &lt; C &lt; A + B"
      ],
      "metadata": {
        "id": "b3qdyNlAOrhX"
      }
    },
    {
      "cell_type": "code",
      "source": [
        "A = float(input(\"Digite a medida do lado A:\"))\n",
        "B = float(input(\"Digite a medida do lado B:\"))\n",
        "C = float(input(\"Digite a medida do lado C:\"))\n",
        "\n",
        "if abs(B-C) < A and A < (B+C) and \\\n",
        "abs(A-C) < B and B < (A+C) and \\\n",
        "abs(A-B) < C and C < (A+B):\n",
        "  print(\"As medidas formam um triângulo.\")\n",
        "else:\n",
        "  print(\"As medidas não formam um triângulo.\")"
      ],
      "metadata": {
        "colab": {
          "base_uri": "https://localhost:8080/"
        },
        "id": "xEakFenFOuw_",
        "outputId": "a42bd038-34ed-4a0b-a30f-0811e5e27b1a"
      },
      "execution_count": 16,
      "outputs": [
        {
          "output_type": "stream",
          "name": "stdout",
          "text": [
            "Digite a medida do lado A:1\n",
            "Digite a medida do lado B:20\n",
            "Digite a medida do lado C:30\n",
            "As medidas não formam um triângulo.\n"
          ]
        }
      ]
    },
    {
      "cell_type": "markdown",
      "source": [
        "# Aula 06 - Lists"
      ],
      "metadata": {
        "id": "6dfFf2ZyRpzA"
      }
    },
    {
      "cell_type": "code",
      "source": [
        "lista = [0, 1, 2, 3.14, \"Fernando\", 0]\n",
        "lista[3] = 30\n",
        "lista"
      ],
      "metadata": {
        "colab": {
          "base_uri": "https://localhost:8080/"
        },
        "id": "AHxXd2QrPjsV",
        "outputId": "9a684107-9a9e-4c43-f213-f1852eaeb139"
      },
      "execution_count": 20,
      "outputs": [
        {
          "output_type": "execute_result",
          "data": {
            "text/plain": [
              "[0, 1, 2, 30, 'Fernando', 0]"
            ]
          },
          "metadata": {},
          "execution_count": 20
        }
      ]
    },
    {
      "cell_type": "code",
      "source": [
        "len(lista)"
      ],
      "metadata": {
        "colab": {
          "base_uri": "https://localhost:8080/"
        },
        "id": "GbDt6SRuRy1h",
        "outputId": "44e1329e-3748-4703-a7ad-21a742866f45"
      },
      "execution_count": 21,
      "outputs": [
        {
          "output_type": "execute_result",
          "data": {
            "text/plain": [
              "6"
            ]
          },
          "metadata": {},
          "execution_count": 21
        }
      ]
    },
    {
      "cell_type": "code",
      "source": [
        "type(lista)"
      ],
      "metadata": {
        "colab": {
          "base_uri": "https://localhost:8080/"
        },
        "id": "pwecd8b5SYkm",
        "outputId": "c3251263-3ee2-48fb-98cc-7e46c3535f28"
      },
      "execution_count": 22,
      "outputs": [
        {
          "output_type": "execute_result",
          "data": {
            "text/plain": [
              "list"
            ]
          },
          "metadata": {},
          "execution_count": 22
        }
      ]
    },
    {
      "cell_type": "code",
      "source": [
        "max(lista)"
      ],
      "metadata": {
        "colab": {
          "base_uri": "https://localhost:8080/",
          "height": 166
        },
        "id": "uHWTlbjpSb3l",
        "outputId": "2ec835bc-7108-4076-ca18-e252800c2db2"
      },
      "execution_count": 23,
      "outputs": [
        {
          "output_type": "error",
          "ename": "TypeError",
          "evalue": "ignored",
          "traceback": [
            "\u001b[0;31m---------------------------------------------------------------------------\u001b[0m",
            "\u001b[0;31mTypeError\u001b[0m                                 Traceback (most recent call last)",
            "\u001b[0;32m<ipython-input-23-df63f4ed2b5c>\u001b[0m in \u001b[0;36m<module>\u001b[0;34m()\u001b[0m\n\u001b[0;32m----> 1\u001b[0;31m \u001b[0mmax\u001b[0m\u001b[0;34m(\u001b[0m\u001b[0mlista\u001b[0m\u001b[0;34m)\u001b[0m\u001b[0;34m\u001b[0m\u001b[0;34m\u001b[0m\u001b[0m\n\u001b[0m",
            "\u001b[0;31mTypeError\u001b[0m: '>' not supported between instances of 'str' and 'int'"
          ]
        }
      ]
    },
    {
      "cell_type": "code",
      "source": [
        "lista_numerica = [10,1,6.2,2,3,4]\n",
        "min(lista_numerica)"
      ],
      "metadata": {
        "colab": {
          "base_uri": "https://localhost:8080/"
        },
        "id": "pC7XJ-0QSgk5",
        "outputId": "37c58f7b-23a0-4bc6-bff7-d430b6e14cda"
      },
      "execution_count": 25,
      "outputs": [
        {
          "output_type": "execute_result",
          "data": {
            "text/plain": [
              "1"
            ]
          },
          "metadata": {},
          "execution_count": 25
        }
      ]
    },
    {
      "cell_type": "code",
      "source": [
        "for x in lista_numerica:\n",
        "  print(x)"
      ],
      "metadata": {
        "colab": {
          "base_uri": "https://localhost:8080/"
        },
        "id": "Wnc81dYWS4Qe",
        "outputId": "cc1f9c7b-8970-4771-ca3d-aa12af05bcbb"
      },
      "execution_count": 26,
      "outputs": [
        {
          "output_type": "stream",
          "name": "stdout",
          "text": [
            "10\n",
            "1\n",
            "6.2\n",
            "2\n",
            "3\n",
            "4\n"
          ]
        }
      ]
    },
    {
      "cell_type": "code",
      "source": [
        "lista_numerica.append(50)\n",
        "lista_numerica"
      ],
      "metadata": {
        "colab": {
          "base_uri": "https://localhost:8080/"
        },
        "id": "hNEFfj5bTNa9",
        "outputId": "7ce4ba75-77b7-4ed6-b99c-14f13c864d6b"
      },
      "execution_count": 27,
      "outputs": [
        {
          "output_type": "execute_result",
          "data": {
            "text/plain": [
              "[10, 1, 6.2, 2, 3, 4, 50]"
            ]
          },
          "metadata": {},
          "execution_count": 27
        }
      ]
    },
    {
      "cell_type": "code",
      "source": [
        "lista_numerica.extend([100,200,300])\n",
        "lista_numerica"
      ],
      "metadata": {
        "colab": {
          "base_uri": "https://localhost:8080/"
        },
        "id": "UeGcSaazTYHA",
        "outputId": "0f440a3f-1242-4732-fe3a-2012c425852a"
      },
      "execution_count": 28,
      "outputs": [
        {
          "output_type": "execute_result",
          "data": {
            "text/plain": [
              "[10, 1, 6.2, 2, 3, 4, 50, 100, 200, 300]"
            ]
          },
          "metadata": {},
          "execution_count": 28
        }
      ]
    },
    {
      "cell_type": "code",
      "source": [
        "lista_numerica.clear()\n",
        "lista_numerica"
      ],
      "metadata": {
        "colab": {
          "base_uri": "https://localhost:8080/"
        },
        "id": "TjgRQE_rTjYA",
        "outputId": "e01c35c8-c816-443c-d0bc-cd71896dc9d3"
      },
      "execution_count": 30,
      "outputs": [
        {
          "output_type": "execute_result",
          "data": {
            "text/plain": [
              "[]"
            ]
          },
          "metadata": {},
          "execution_count": 30
        }
      ]
    },
    {
      "cell_type": "code",
      "source": [
        "lista.remove(0)\n"
      ],
      "metadata": {
        "colab": {
          "base_uri": "https://localhost:8080/",
          "height": 166
        },
        "id": "fFS9E3S-TpZB",
        "outputId": "6079eaa6-d93a-4e2c-92ea-7d4320205f2a"
      },
      "execution_count": 36,
      "outputs": [
        {
          "output_type": "error",
          "ename": "ValueError",
          "evalue": "ignored",
          "traceback": [
            "\u001b[0;31m---------------------------------------------------------------------------\u001b[0m",
            "\u001b[0;31mValueError\u001b[0m                                Traceback (most recent call last)",
            "\u001b[0;32m<ipython-input-36-8c428300a6b2>\u001b[0m in \u001b[0;36m<module>\u001b[0;34m()\u001b[0m\n\u001b[0;32m----> 1\u001b[0;31m \u001b[0mlista\u001b[0m\u001b[0;34m.\u001b[0m\u001b[0mremove\u001b[0m\u001b[0;34m(\u001b[0m\u001b[0;36m0\u001b[0m\u001b[0;34m)\u001b[0m\u001b[0;34m\u001b[0m\u001b[0;34m\u001b[0m\u001b[0m\n\u001b[0m",
            "\u001b[0;31mValueError\u001b[0m: list.remove(x): x not in list"
          ]
        }
      ]
    },
    {
      "cell_type": "code",
      "source": [
        "lista"
      ],
      "metadata": {
        "colab": {
          "base_uri": "https://localhost:8080/"
        },
        "id": "4Llp8pWkTzKY",
        "outputId": "3ba9dacb-4b07-4cb1-8708-277127a92f69"
      },
      "execution_count": 37,
      "outputs": [
        {
          "output_type": "execute_result",
          "data": {
            "text/plain": [
              "[1, 2, 30, 'Fernando']"
            ]
          },
          "metadata": {},
          "execution_count": 37
        }
      ]
    },
    {
      "cell_type": "code",
      "source": [
        "lista.remove(lista[0])\n",
        "lista"
      ],
      "metadata": {
        "colab": {
          "base_uri": "https://localhost:8080/"
        },
        "id": "FHRDU1QWT33G",
        "outputId": "3a93d6e5-cdf9-41c1-b3b2-3cbab8dd171e"
      },
      "execution_count": 38,
      "outputs": [
        {
          "output_type": "execute_result",
          "data": {
            "text/plain": [
              "[2, 30, 'Fernando']"
            ]
          },
          "metadata": {},
          "execution_count": 38
        }
      ]
    },
    {
      "cell_type": "code",
      "source": [
        "x = lista.pop()\n",
        "x"
      ],
      "metadata": {
        "colab": {
          "base_uri": "https://localhost:8080/",
          "height": 35
        },
        "id": "iTiZI-zcUVKx",
        "outputId": "dc96efc7-f555-44f6-f967-53f7dc3b8e12"
      },
      "execution_count": 39,
      "outputs": [
        {
          "output_type": "execute_result",
          "data": {
            "text/plain": [
              "'Fernando'"
            ],
            "application/vnd.google.colaboratory.intrinsic+json": {
              "type": "string"
            }
          },
          "metadata": {},
          "execution_count": 39
        }
      ]
    },
    {
      "cell_type": "code",
      "source": [
        "lista"
      ],
      "metadata": {
        "colab": {
          "base_uri": "https://localhost:8080/"
        },
        "id": "FNKXqmvaUa87",
        "outputId": "1512d951-715b-47c4-81f9-92df7e53d366"
      },
      "execution_count": 40,
      "outputs": [
        {
          "output_type": "execute_result",
          "data": {
            "text/plain": [
              "[2, 30]"
            ]
          },
          "metadata": {},
          "execution_count": 40
        }
      ]
    },
    {
      "cell_type": "code",
      "source": [
        "lista.extend([40,50,60])\n",
        "lista"
      ],
      "metadata": {
        "colab": {
          "base_uri": "https://localhost:8080/"
        },
        "id": "rjP73Y3_Uc6H",
        "outputId": "e67041b6-0089-4b67-cbf4-f13ca439c7bf"
      },
      "execution_count": 41,
      "outputs": [
        {
          "output_type": "execute_result",
          "data": {
            "text/plain": [
              "[2, 30, 40, 50, 60]"
            ]
          },
          "metadata": {},
          "execution_count": 41
        }
      ]
    },
    {
      "cell_type": "code",
      "source": [
        "x = lista.pop(2)\n",
        "x"
      ],
      "metadata": {
        "colab": {
          "base_uri": "https://localhost:8080/"
        },
        "id": "C0Z5jQyeUj2N",
        "outputId": "be4ac101-ead7-4146-e9af-ab4848317194"
      },
      "execution_count": 42,
      "outputs": [
        {
          "output_type": "execute_result",
          "data": {
            "text/plain": [
              "40"
            ]
          },
          "metadata": {},
          "execution_count": 42
        }
      ]
    },
    {
      "cell_type": "code",
      "source": [
        "lista2 = lista\n",
        "lista3 = lista.copy()\n",
        "print(lista)\n",
        "print(lista2)\n",
        "print(lista3)"
      ],
      "metadata": {
        "colab": {
          "base_uri": "https://localhost:8080/"
        },
        "id": "KexM-l4lUo0R",
        "outputId": "5e1f492c-b8f5-450d-a6f8-2669034ba2b9"
      },
      "execution_count": 47,
      "outputs": [
        {
          "output_type": "stream",
          "name": "stdout",
          "text": [
            "[2, 30, 50, 60]\n",
            "[2, 30, 50, 60]\n",
            "[2, 30, 50, 60]\n"
          ]
        }
      ]
    },
    {
      "cell_type": "code",
      "source": [
        "lista.pop(1)"
      ],
      "metadata": {
        "colab": {
          "base_uri": "https://localhost:8080/"
        },
        "id": "RfzjRP6mUqay",
        "outputId": "e1faaa69-1157-4eea-d5d0-1e0e5d9fa65a"
      },
      "execution_count": 48,
      "outputs": [
        {
          "output_type": "execute_result",
          "data": {
            "text/plain": [
              "30"
            ]
          },
          "metadata": {},
          "execution_count": 48
        }
      ]
    },
    {
      "cell_type": "code",
      "source": [
        "print(lista)\n",
        "print(lista2)\n",
        "print(lista3)"
      ],
      "metadata": {
        "colab": {
          "base_uri": "https://localhost:8080/"
        },
        "id": "V8IjY16uWnQJ",
        "outputId": "d12059de-0441-4a6d-acf0-1bf82fdf6f8a"
      },
      "execution_count": 49,
      "outputs": [
        {
          "output_type": "stream",
          "name": "stdout",
          "text": [
            "[2, 50, 60]\n",
            "[2, 50, 60]\n",
            "[2, 30, 50, 60]\n"
          ]
        }
      ]
    },
    {
      "cell_type": "code",
      "source": [
        ""
      ],
      "metadata": {
        "id": "ao9stGbLWpoE"
      },
      "execution_count": null,
      "outputs": []
    }
  ]
}