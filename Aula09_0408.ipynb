{
  "nbformat": 4,
  "nbformat_minor": 0,
  "metadata": {
    "colab": {
      "name": "Aula09_0408.ipynb",
      "provenance": [],
      "collapsed_sections": [],
      "authorship_tag": "ABX9TyNdoMQX66ZAF2TsYYHXWeuf",
      "include_colab_link": true
    },
    "kernelspec": {
      "name": "python3",
      "display_name": "Python 3"
    },
    "language_info": {
      "name": "python"
    }
  },
  "cells": [
    {
      "cell_type": "markdown",
      "metadata": {
        "id": "view-in-github",
        "colab_type": "text"
      },
      "source": [
        "<a href=\"https://colab.research.google.com/github/fernandonakagawa/Python_TCS_100h/blob/main/Aula09_0408.ipynb\" target=\"_parent\"><img src=\"https://colab.research.google.com/assets/colab-badge.svg\" alt=\"Open In Colab\"/></a>"
      ]
    },
    {
      "cell_type": "markdown",
      "source": [
        "# Atividade 08"
      ],
      "metadata": {
        "id": "1tmOPCSHmpAB"
      }
    },
    {
      "cell_type": "markdown",
      "source": [
        "Crie uma lista de int vetF com tamanho 100 e atribua aos índices\n",
        "pares um valor aleatório entre 0 e 100 e aos ímpares o valor de\n",
        "seu índice multiplicado por 2 e mostre seu valor na tela de cada\n",
        "um dos elementos."
      ],
      "metadata": {
        "id": "DLkwMMX1j0xv"
      }
    },
    {
      "cell_type": "code",
      "execution_count": 13,
      "metadata": {
        "colab": {
          "base_uri": "https://localhost:8080/"
        },
        "id": "rMNM60o1mnet",
        "outputId": "d2b35b31-1615-45f3-cd86-fd28eddf42da"
      },
      "outputs": [
        {
          "output_type": "stream",
          "name": "stdout",
          "text": [
            "[34, 2, 39, 6, 15, 10, 44, 14, 68, 18, 69, 22, 58, 26, 31, 30, 100, 34, 22, 38, 25, 42, 9, 46, 20, 50, 64, 54, 2, 58, 48, 62, 45, 66, 60, 70, 44, 74, 20, 78, 51, 82, 68, 86, 15, 90, 47, 94, 23, 98, 35, 102, 66, 106, 37, 110, 46, 114, 82, 118, 75, 122, 54, 126, 86, 130, 92, 134, 21, 138, 49, 142, 46, 146, 12, 150, 44, 154, 16, 158, 83, 162, 79, 166, 57, 170, 54, 174, 40, 178, 15, 182, 9, 186, 24, 190, 56, 194, 51, 198]\n"
          ]
        }
      ],
      "source": [
        "import random\n",
        "vetF = [int] * 100\n",
        "for i in range(100):\n",
        "  if i % 2 == 0:\n",
        "    vetF[i] = random.randint(0,100)\n",
        "  else:\n",
        "    vetF[i] = i*2\n",
        "print(vetF)"
      ]
    },
    {
      "cell_type": "markdown",
      "source": [
        "Crie um dicionário que guarde as seguintes informações de uma\n",
        "pessoa: nome, cpf, telefone e endereço."
      ],
      "metadata": {
        "id": "YJ7Lbv2OlYks"
      }
    },
    {
      "cell_type": "code",
      "source": [
        "pessoa = {\n",
        "    \"nome\": \"Henrique\",\n",
        "    \"cpf\": \"12345678910\",\n",
        "    \"telefone\": \"4399999999\",\n",
        "    \"endereco\": \"Rua Belém 844\",\n",
        "}\n",
        "pessoa"
      ],
      "metadata": {
        "colab": {
          "base_uri": "https://localhost:8080/"
        },
        "id": "c8jX_DdolX8c",
        "outputId": "e8c95eb6-eed6-4cf4-ef79-dba9a3d1b21c"
      },
      "execution_count": 16,
      "outputs": [
        {
          "output_type": "execute_result",
          "data": {
            "text/plain": [
              "{'cpf': '12345678910',\n",
              " 'endereco': 'Rua Belém 844',\n",
              " 'nome': 'Henrique',\n",
              " 'telefone': '4399999999'}"
            ]
          },
          "metadata": {},
          "execution_count": 16
        }
      ]
    },
    {
      "cell_type": "markdown",
      "source": [
        "Crie uma lista de dicionários que guarde as seguintes informações\n",
        "de uma pessoa: nome, cpf, telefone e endereço."
      ],
      "metadata": {
        "id": "wUebHCPsl0RN"
      }
    },
    {
      "cell_type": "code",
      "source": [
        "pessoa2 = {\n",
        "    \"nome\": \"Ray\",\n",
        "    \"cpf\": \"12345678911\",\n",
        "    \"telefone\": \"4399999998\",\n",
        "    \"endereco\": \"Rua São Paulo 192\",\n",
        "}"
      ],
      "metadata": {
        "id": "A8HRPRzYmsH8"
      },
      "execution_count": 18,
      "outputs": []
    },
    {
      "cell_type": "code",
      "source": [
        "pessoas = [pessoa, pessoa2]\n",
        "pessoas"
      ],
      "metadata": {
        "colab": {
          "base_uri": "https://localhost:8080/"
        },
        "id": "WOeT30SSl5Ds",
        "outputId": "c7fd65be-f077-413b-efd0-311a22d519ee"
      },
      "execution_count": 19,
      "outputs": [
        {
          "output_type": "execute_result",
          "data": {
            "text/plain": [
              "[{'cpf': '12345678910',\n",
              "  'endereco': 'Rua Belém 844',\n",
              "  'nome': 'Henrique',\n",
              "  'telefone': '4399999999'},\n",
              " {'cpf': '12345678911',\n",
              "  'endereco': 'Rua São Paulo 192',\n",
              "  'nome': 'Ray',\n",
              "  'telefone': '4399999998'}]"
            ]
          },
          "metadata": {},
          "execution_count": 19
        }
      ]
    },
    {
      "cell_type": "markdown",
      "source": [
        "A partir do exercício anterior crie uma busca onde o usuário\n",
        "possa procurar uma pessoa por nome, cpf, telefone ou endereço."
      ],
      "metadata": {
        "id": "nAFS_w2qmWPn"
      }
    },
    {
      "cell_type": "code",
      "source": [
        "NOME = 1\n",
        "CPF = 2\n",
        "TELEFONE = 3\n",
        "ENDERECO = 4\n",
        "\n",
        "def busca(lista, chave, termo):\n",
        "  for pessoa in lista:\n",
        "    if pessoa[chave] == termo:\n",
        "      print(pessoa)\n",
        "\n",
        "while True:\n",
        "  comando = int(input(f\"Digite o comando \\n{NOME} - Nome\\\n",
        "            \\n{CPF} - Cpf\\n{TELEFONE} - Telefone\\n{ENDERECO} - Endereço\\n\"))\n",
        "  flag = False\n",
        "  if comando == NOME: chave = \"nome\"\n",
        "  elif comando == CPF: chave = \"cpf\"\n",
        "  elif comando == TELEFONE: chave = \"telefone\"\n",
        "  elif comando == ENDERECO: chave = \"endereco\"\n",
        "  else: \n",
        "    print(\"Comando inválido, digite novamente.\")\n",
        "    flag = True\n",
        "  if not flag: break\n",
        "termo = input(\"Digite o termo de busca: \")\n",
        "busca(pessoas, chave, termo)\n"
      ],
      "metadata": {
        "colab": {
          "base_uri": "https://localhost:8080/"
        },
        "id": "isEeL8rMmVaL",
        "outputId": "1ddc395f-0987-4a6f-8c90-64bd07fad76a"
      },
      "execution_count": 28,
      "outputs": [
        {
          "output_type": "stream",
          "name": "stdout",
          "text": [
            "Digite o comando \n",
            "1 - Nome            \n",
            "2 - Cpf\n",
            "3 - Telefone\n",
            "4 - Endereço\n",
            "-1\n",
            "Digite o termo de busca: 1\n",
            "Comando inválido, digite novamente.\n",
            "Digite o comando \n",
            "1 - Nome            \n",
            "2 - Cpf\n",
            "3 - Telefone\n",
            "4 - Endereço\n",
            "1\n",
            "Digite o termo de busca: Henrique\n",
            "{'nome': 'Henrique', 'cpf': '12345678910', 'telefone': '4399999999', 'endereco': 'Rua Belém 844'}\n"
          ]
        }
      ]
    },
    {
      "cell_type": "markdown",
      "source": [
        "Crie dois sets contendo as habilidades de duas pessoas, por\n",
        "exemplo: pessoa1 = {“Python”, “Java”, “C++”}. Mostre a união e a\n",
        "intersecção desses dois sets."
      ],
      "metadata": {
        "id": "8TxDVtmap56c"
      }
    },
    {
      "cell_type": "code",
      "source": [
        "joao = {\"C\", \"C#\", \"Java\", \"Python\", \"Javascript\"}\n",
        "daniel = {\"C++\", \"Python\", \"C#\", \"SQL\", \"Kotlin\"}\n",
        "print(joao, daniel)\n",
        "print(joao.union(daniel))\n",
        "print(joao.intersection(daniel))"
      ],
      "metadata": {
        "colab": {
          "base_uri": "https://localhost:8080/"
        },
        "id": "l0au5WFCl5Hc",
        "outputId": "e346acba-b91d-4965-e778-02eef1dcfd57"
      },
      "execution_count": 31,
      "outputs": [
        {
          "output_type": "stream",
          "name": "stdout",
          "text": [
            "{'C#', 'Python', 'Java', 'C', 'Javascript'} {'C#', 'Python', 'Kotlin', 'SQL', 'C++'}\n",
            "{'C#', 'Python', 'Kotlin', 'SQL', 'Java', 'C', 'C++', 'Javascript'}\n",
            "{'Python', 'C#'}\n"
          ]
        }
      ]
    },
    {
      "cell_type": "markdown",
      "source": [
        "Crie uma lista de string vetI e atribua a cada um de seus\n",
        "elementos um nome com dados vindos do teclado.\n",
        "Por exemplo:\n",
        "\n",
        "vetI[0] =&gt; &quot;Maria&quot;;\n",
        "\n",
        "vetI[1] =&gt; &quot;Joao&quot;;\n",
        "\n",
        "vetI[2] =&gt; &quot;Marcelo&quot;;\n",
        "\n",
        "vetI[3] =&gt; &quot;Antonia&quot;;\n",
        "\n",
        "Atribua à uma string sBusca um nome com dados vindos do teclado.\n",
        "Mostre na tela os valores dos índices que contém sBusca.\n",
        "sBusca =&gt; &quot;Marcelo&quot;\n",
        "saída: 2"
      ],
      "metadata": {
        "id": "lOQLLN2Drcsz"
      }
    },
    {
      "cell_type": "code",
      "source": [
        "vetI = []\n",
        "for i in range(4):\n",
        "  nome = input(\"Digite um nome: \")\n",
        "  vetI.append(nome)\n",
        "sBusca = input(\"Digite um nome para busca: \")\n",
        "#for i in range(len(vetI)):\n",
        "#  if vetI[i] == sBusca: print(i, end=\" \")\n",
        "for i, nome in enumerate(vetI):\n",
        "  if nome == sBusca: print(i, end=\" \")\n"
      ],
      "metadata": {
        "colab": {
          "base_uri": "https://localhost:8080/"
        },
        "id": "Z-Us1L-sl5Kw",
        "outputId": "1f9fbc3a-e148-45b4-eff5-7a440b69cfed"
      },
      "execution_count": 34,
      "outputs": [
        {
          "output_type": "stream",
          "name": "stdout",
          "text": [
            "Digite um nome: Eduardo\n",
            "Digite um nome: Fernando\n",
            "Digite um nome: Fernando\n",
            "Digite um nome: Iago\n",
            "Digite um nome para busca: Fernando\n",
            "1 2 "
          ]
        }
      ]
    },
    {
      "cell_type": "markdown",
      "source": [
        "Receba por parâmetro um nome e mostre na tela: “Bom dia &lt;nome&gt;”\n",
        "sendo &lt;nome&gt; o valor do parâmetro"
      ],
      "metadata": {
        "id": "TdMBEvHYsppf"
      }
    },
    {
      "cell_type": "code",
      "source": [
        "def falarBomDia(nome):\n",
        "  print(f\"Bom dia {nome}!\")\n",
        "\n",
        "falarBomDia(\"Ivan\")"
      ],
      "metadata": {
        "colab": {
          "base_uri": "https://localhost:8080/"
        },
        "id": "z3HYNxy_l5NZ",
        "outputId": "4002acef-476b-4879-e275-39349c5dac81"
      },
      "execution_count": 35,
      "outputs": [
        {
          "output_type": "stream",
          "name": "stdout",
          "text": [
            "Bom dia Ivan!\n"
          ]
        }
      ]
    },
    {
      "cell_type": "markdown",
      "source": [
        "Receba um número por parâmetro e mostre na tela o seu valor\n",
        "multiplicado por 2."
      ],
      "metadata": {
        "id": "VIgJpo-ds4FD"
      }
    },
    {
      "cell_type": "code",
      "source": [
        "def mult2(v):\n",
        "  print(v*2)\n",
        "\n",
        "mult2(6)"
      ],
      "metadata": {
        "colab": {
          "base_uri": "https://localhost:8080/"
        },
        "id": "s3EbXSzts3Xj",
        "outputId": "19b29339-b7af-418a-8fe1-c5a79317c6af"
      },
      "execution_count": 36,
      "outputs": [
        {
          "output_type": "stream",
          "name": "stdout",
          "text": [
            "12\n"
          ]
        }
      ]
    },
    {
      "cell_type": "markdown",
      "source": [
        "Receba dois números por parâmetro e mostre na tela a soma deles\n",
        "(dentro da função)"
      ],
      "metadata": {
        "id": "VqJBw3iStCYy"
      }
    },
    {
      "cell_type": "code",
      "source": [
        "def soma(n1,n2):\n",
        "  print(n1+n2)\n",
        "soma(3,4)"
      ],
      "metadata": {
        "colab": {
          "base_uri": "https://localhost:8080/"
        },
        "id": "rU7Z45UZtDm5",
        "outputId": "bb7176c4-05c4-4e43-f4d4-1bd833edf825"
      },
      "execution_count": 37,
      "outputs": [
        {
          "output_type": "stream",
          "name": "stdout",
          "text": [
            "7\n"
          ]
        }
      ]
    },
    {
      "cell_type": "markdown",
      "source": [
        "Receba dois números por parâmetro e retorne a sua subtração."
      ],
      "metadata": {
        "id": "tW9p521BtM06"
      }
    },
    {
      "cell_type": "code",
      "source": [
        "def subt(n1,n2):\n",
        "  res = n1 - n2\n",
        "  return res\n",
        "x = subt(6,2)\n",
        "print(x)"
      ],
      "metadata": {
        "colab": {
          "base_uri": "https://localhost:8080/"
        },
        "id": "PUeps00htPym",
        "outputId": "02a17c63-ac0c-492d-ad2e-2afb9e5b6590"
      },
      "execution_count": 39,
      "outputs": [
        {
          "output_type": "stream",
          "name": "stdout",
          "text": [
            "4\n"
          ]
        }
      ]
    },
    {
      "cell_type": "markdown",
      "source": [
        "Receba dois textos por parâmetro e retorne a sua união."
      ],
      "metadata": {
        "id": "1UqNwlZptO8b"
      }
    },
    {
      "cell_type": "code",
      "source": [
        "def unir(t1, t2):\n",
        "  return t1+t2\n",
        "texto = unir(\"Bata\", \"ta\")\n",
        "print(texto)"
      ],
      "metadata": {
        "colab": {
          "base_uri": "https://localhost:8080/"
        },
        "id": "cLBscPAbl5f9",
        "outputId": "4cc458a0-f1cd-47c0-ad2b-0dce9ce02cd1"
      },
      "execution_count": 40,
      "outputs": [
        {
          "output_type": "stream",
          "name": "stdout",
          "text": [
            "Batata\n"
          ]
        }
      ]
    },
    {
      "cell_type": "markdown",
      "source": [
        "Receba um número por parâmetro e retorne True se o número for par\n",
        "e False se for ímpar."
      ],
      "metadata": {
        "id": "Jj3NX8tWtxiq"
      }
    },
    {
      "cell_type": "code",
      "source": [
        "def isPar(n):\n",
        "  if n % 2 == 0: return True\n",
        "  else: return False\n",
        "x = isPar(43)\n",
        "print(x)"
      ],
      "metadata": {
        "colab": {
          "base_uri": "https://localhost:8080/"
        },
        "id": "Yi7OKswHmsLn",
        "outputId": "391b2ead-7cc1-4d85-ae86-794bb6890eba"
      },
      "execution_count": 41,
      "outputs": [
        {
          "output_type": "stream",
          "name": "stdout",
          "text": [
            "False\n"
          ]
        }
      ]
    },
    {
      "cell_type": "markdown",
      "source": [
        "# Aula 09 - Funções"
      ],
      "metadata": {
        "id": "Sc0zmLTPmqC_"
      }
    },
    {
      "cell_type": "markdown",
      "source": [
        "## Valor padrão de parâmetro"
      ],
      "metadata": {
        "id": "6Ob356W7endb"
      }
    },
    {
      "cell_type": "code",
      "source": [
        "def cumprimentar(nome = \"Fulano\"):\n",
        "  print(f\"Bom dia {nome}\")\n",
        "\n",
        "cumprimentar()"
      ],
      "metadata": {
        "colab": {
          "base_uri": "https://localhost:8080/"
        },
        "id": "-tjJtHoTwILT",
        "outputId": "05bedbc2-48d8-4f68-96f6-b0608f544656"
      },
      "execution_count": 9,
      "outputs": [
        {
          "output_type": "stream",
          "name": "stdout",
          "text": [
            "Bom dia Fulano\n"
          ]
        }
      ]
    },
    {
      "cell_type": "markdown",
      "source": [
        "## Número variável de argumentos"
      ],
      "metadata": {
        "id": "DlVpLJ7deqsO"
      }
    },
    {
      "cell_type": "code",
      "source": [
        "def compras(*args):\n",
        "  for nome in args:\n",
        "    print(nome)\n",
        "\n",
        "compras(\"Chuchu\", \"Cebola\", \"Alho\", \"Arroz\")"
      ],
      "metadata": {
        "colab": {
          "base_uri": "https://localhost:8080/"
        },
        "id": "fieqlo20etVV",
        "outputId": "7f1f21b0-e955-41b1-b1d3-ec31154a29d7"
      },
      "execution_count": 1,
      "outputs": [
        {
          "output_type": "stream",
          "name": "stdout",
          "text": [
            "Chuchu\n",
            "Cebola\n",
            "Alho\n",
            "Arroz\n"
          ]
        }
      ]
    },
    {
      "cell_type": "code",
      "source": [
        "def compras(comprador, *args):\n",
        "  print(comprador)\n",
        "  for nome in args:\n",
        "    print(nome)\n",
        "\n",
        "compras(\"Fernando\", \"Chuchu\", \"Cebola\", \"Alho\", \"Arroz\")"
      ],
      "metadata": {
        "colab": {
          "base_uri": "https://localhost:8080/"
        },
        "id": "HKm9WZiCfDzT",
        "outputId": "26793747-2111-483a-f2fe-1dddc44e401a"
      },
      "execution_count": 4,
      "outputs": [
        {
          "output_type": "stream",
          "name": "stdout",
          "text": [
            "Fernando\n",
            "Chuchu\n",
            "Cebola\n",
            "Alho\n",
            "Arroz\n"
          ]
        }
      ]
    },
    {
      "cell_type": "code",
      "source": [
        "def compras(*args, comprador):\n",
        "  print(comprador)\n",
        "  for nome in args:\n",
        "    print(nome)\n",
        "\n",
        "compras(\"Fernando\", \"Chuchu\", \"Cebola\", \"Alho\", \"Arroz\")"
      ],
      "metadata": {
        "id": "TKOcXFX9fQu7"
      },
      "execution_count": null,
      "outputs": []
    },
    {
      "cell_type": "code",
      "source": [
        "def compras_nutricao(comprador, **kwargs):\n",
        "  print(comprador)\n",
        "  for chave, valor in kwargs.items():\n",
        "    print(f\"{chave}: {valor}\")\n",
        "\n",
        "compras_nutricao(\"Fernando\", Vegetal=\"Chuchu\", Carboidrato=\"Arroz\", Proteína=\"Feijão\")"
      ],
      "metadata": {
        "colab": {
          "base_uri": "https://localhost:8080/"
        },
        "id": "V0VrNJZbfWjX",
        "outputId": "b980f733-a67b-45f5-a0c7-28362c2d912e"
      },
      "execution_count": 6,
      "outputs": [
        {
          "output_type": "stream",
          "name": "stdout",
          "text": [
            "Fernando\n",
            "Vegetal: Chuchu\n",
            "Carboidrato: Arroz\n",
            "Proteína: Feijão\n"
          ]
        }
      ]
    },
    {
      "cell_type": "code",
      "source": [
        "def compras_nutricao_plus(*args, **kwargs):\n",
        "  print(args)\n",
        "  print(kwargs)\n",
        "\n",
        "compras_nutricao_plus(\"Alface\", \"Batata\", \"Cenoura\", \\\n",
        "                 Vegetal=\"Chuchu\", Carboidrato=\"Arroz\", Proteína=\"Feijão\" )"
      ],
      "metadata": {
        "colab": {
          "base_uri": "https://localhost:8080/"
        },
        "id": "kFHpprRGgb6E",
        "outputId": "f21f81da-cfc6-4333-93c9-9bf7eedac93f"
      },
      "execution_count": 12,
      "outputs": [
        {
          "output_type": "stream",
          "name": "stdout",
          "text": [
            "('Alface', 'Batata', 'Cenoura')\n",
            "{'Vegetal': 'Chuchu', 'Carboidrato': 'Arroz', 'Proteína': 'Feijão'}\n"
          ]
        }
      ]
    },
    {
      "cell_type": "markdown",
      "source": [
        "## Passagem de parâmetros por referência x valor x atribuição"
      ],
      "metadata": {
        "id": "rtJhK5D6mqNV"
      }
    },
    {
      "cell_type": "code",
      "source": [
        "def quad(x):\n",
        "  x *= x\n",
        "\n",
        "a = 3\n",
        "quad(a)\n",
        "print(a)"
      ],
      "metadata": {
        "colab": {
          "base_uri": "https://localhost:8080/"
        },
        "id": "flw_mRNWnAwZ",
        "outputId": "5140467d-ceba-4390-b139-edb8a9ac1405"
      },
      "execution_count": 2,
      "outputs": [
        {
          "output_type": "stream",
          "name": "stdout",
          "text": [
            "3\n"
          ]
        }
      ]
    },
    {
      "cell_type": "code",
      "source": [
        "def double(x):\n",
        "  print(f\"id x: {id(x)}\")\n",
        "  x *= 2\n",
        "  print(f\"id x final: {id(x)}\")\n",
        "\n",
        "b = 2\n",
        "print(f\"id b: {id(b)}\")\n",
        "double(b)\n",
        "print(f\"id b final: {id(b)}\")\n",
        "\n",
        "#parece, mas b não está sendo passado por valor. Veja que id x final muda de id."
      ],
      "metadata": {
        "colab": {
          "base_uri": "https://localhost:8080/"
        },
        "id": "_JLnUeAxndpY",
        "outputId": "ef29cf81-68b4-459f-8a5d-77c3720da93c"
      },
      "execution_count": 4,
      "outputs": [
        {
          "output_type": "stream",
          "name": "stdout",
          "text": [
            "id b: 11256096\n",
            "id x: 11256096\n",
            "id x final: 11256160\n",
            "id b final: 11256096\n"
          ]
        }
      ]
    },
    {
      "cell_type": "markdown",
      "source": [
        "## Try, except, else e finally"
      ],
      "metadata": {
        "id": "54s6yYXgv4Ab"
      }
    },
    {
      "cell_type": "code",
      "source": [
        "def conversao(string, base=10):\n",
        "    try:\n",
        "        return True, int(string, base=base)\n",
        "    except ValueError:\n",
        "        return False, None\n",
        "\n",
        "conversao(\"4\")"
      ],
      "metadata": {
        "colab": {
          "base_uri": "https://localhost:8080/"
        },
        "id": "S1yBRyUbv3Dq",
        "outputId": "9193c1f1-3827-4dfd-c07c-8b0c57b6bd70"
      },
      "execution_count": 11,
      "outputs": [
        {
          "output_type": "execute_result",
          "data": {
            "text/plain": [
              "(True, 4)"
            ]
          },
          "metadata": {},
          "execution_count": 11
        }
      ]
    },
    {
      "cell_type": "code",
      "source": [
        "resultado, valor = conversao(\"99\")\n",
        "print(f\"{resultado}, {valor}\")"
      ],
      "metadata": {
        "colab": {
          "base_uri": "https://localhost:8080/"
        },
        "id": "WKC435mhsO1V",
        "outputId": "eeb32d0f-a262-4993-bd81-16a710beba38"
      },
      "execution_count": 12,
      "outputs": [
        {
          "output_type": "stream",
          "name": "stdout",
          "text": [
            "True, 99\n"
          ]
        }
      ]
    },
    {
      "cell_type": "code",
      "source": [
        "while True:\n",
        "  try:\n",
        "      x = int(input(\"Digite um número: \"))\n",
        "      break\n",
        "  except ValueError:\n",
        "      print(\"Erro. Digite novamente\")\n",
        "        "
      ],
      "metadata": {
        "colab": {
          "base_uri": "https://localhost:8080/"
        },
        "id": "rKz9hCWHw2AH",
        "outputId": "3d493bb2-042b-4b63-b608-942a8f0d959a"
      },
      "execution_count": 13,
      "outputs": [
        {
          "name": "stdout",
          "output_type": "stream",
          "text": [
            "Digite um número: a\n",
            "Erro. Digite novamente\n",
            "Digite um número: 12\n"
          ]
        }
      ]
    },
    {
      "cell_type": "code",
      "source": [
        "while True:\n",
        "  try:\n",
        "    x = float(input(\"Digite um número: \"))\n",
        "    if x < 0: \n",
        "      raise Exception(\"Valor inválido.\")\n",
        "    break\n",
        "  except ValueError:\n",
        "    print(\"Erro. Digite novamente\")\n",
        "  except:\n",
        "    print(\"Valor inválido. Digite novamente.\")\n",
        "  else: #quando o try funciona\n",
        "    print(f\"Tudo certo. O número digitado é {x}\")\n",
        "  finally:\n",
        "    print(\"fim.\")"
      ],
      "metadata": {
        "colab": {
          "base_uri": "https://localhost:8080/"
        },
        "id": "NBpW3tO-xyKM",
        "outputId": "492bfe26-6e22-4af9-c609-fb9167fea1a3"
      },
      "execution_count": 3,
      "outputs": [
        {
          "output_type": "stream",
          "name": "stdout",
          "text": [
            "Digite um número: -1\n",
            "Valor inválido. Digite novamente.\n",
            "fim.\n",
            "Digite um número: a\n",
            "Erro. Digite novamente\n",
            "fim.\n",
            "Digite um número: 2\n",
            "fim.\n"
          ]
        }
      ]
    },
    {
      "cell_type": "code",
      "source": [
        "try:\n",
        "  x = float(input(\"Digite um número: \"))\n",
        "  if x < 0: \n",
        "    raise Exception(\"Valor inválido.\")\n",
        "except ValueError:\n",
        "  print(\"Erro. Digite novamente\")\n",
        "except:\n",
        "  print(\"Valor inválido. Digite novamente.\")\n",
        "else: #quando o try funciona\n",
        "  print(f\"Tudo certo. O número digitado é {x}\")\n",
        "finally:\n",
        "  print(\"fim.\")"
      ],
      "metadata": {
        "colab": {
          "base_uri": "https://localhost:8080/"
        },
        "id": "9NrC8nI_zq_O",
        "outputId": "f148aea6-9e87-4efb-eda3-c3eaaeb1be30"
      },
      "execution_count": 6,
      "outputs": [
        {
          "output_type": "stream",
          "name": "stdout",
          "text": [
            "Digite um número: a\n",
            "Erro. Digite novamente\n",
            "fim.\n"
          ]
        }
      ]
    },
    {
      "cell_type": "code",
      "source": [
        "x = \"2\"\n",
        "if not type(x) is int:\n",
        "  raise TypeError(\"x não é inteiro\")"
      ],
      "metadata": {
        "colab": {
          "base_uri": "https://localhost:8080/",
          "height": 200
        },
        "id": "1Z5_772EyXlB",
        "outputId": "6473d7cf-2bb6-4a8b-d6f8-a6d1db2707ae"
      },
      "execution_count": 7,
      "outputs": [
        {
          "output_type": "error",
          "ename": "TypeError",
          "evalue": "ignored",
          "traceback": [
            "\u001b[0;31m---------------------------------------------------------------------------\u001b[0m",
            "\u001b[0;31mTypeError\u001b[0m                                 Traceback (most recent call last)",
            "\u001b[0;32m<ipython-input-7-587dede8d76f>\u001b[0m in \u001b[0;36m<module>\u001b[0;34m()\u001b[0m\n\u001b[1;32m      1\u001b[0m \u001b[0mx\u001b[0m \u001b[0;34m=\u001b[0m \u001b[0;34m\"2\"\u001b[0m\u001b[0;34m\u001b[0m\u001b[0;34m\u001b[0m\u001b[0m\n\u001b[1;32m      2\u001b[0m \u001b[0;32mif\u001b[0m \u001b[0;32mnot\u001b[0m \u001b[0mtype\u001b[0m\u001b[0;34m(\u001b[0m\u001b[0mx\u001b[0m\u001b[0;34m)\u001b[0m \u001b[0;32mis\u001b[0m \u001b[0mint\u001b[0m\u001b[0;34m:\u001b[0m\u001b[0;34m\u001b[0m\u001b[0;34m\u001b[0m\u001b[0m\n\u001b[0;32m----> 3\u001b[0;31m   \u001b[0;32mraise\u001b[0m \u001b[0mTypeError\u001b[0m\u001b[0;34m(\u001b[0m\u001b[0;34m\"x não é inteiro\"\u001b[0m\u001b[0;34m)\u001b[0m\u001b[0;34m\u001b[0m\u001b[0;34m\u001b[0m\u001b[0m\n\u001b[0m",
            "\u001b[0;31mTypeError\u001b[0m: x não é inteiro"
          ]
        }
      ]
    },
    {
      "cell_type": "code",
      "source": [
        ""
      ],
      "metadata": {
        "id": "BbajFhRez3xK"
      },
      "execution_count": null,
      "outputs": []
    }
  ]
}