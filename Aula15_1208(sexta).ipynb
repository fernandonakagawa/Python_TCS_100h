{
  "nbformat": 4,
  "nbformat_minor": 0,
  "metadata": {
    "colab": {
      "name": "Aula15_1208(sexta).ipynb",
      "provenance": [],
      "collapsed_sections": [],
      "authorship_tag": "ABX9TyNvdusqm+dSujS7YiCpWary",
      "include_colab_link": true
    },
    "kernelspec": {
      "name": "python3",
      "display_name": "Python 3"
    },
    "language_info": {
      "name": "python"
    }
  },
  "cells": [
    {
      "cell_type": "markdown",
      "metadata": {
        "id": "view-in-github",
        "colab_type": "text"
      },
      "source": [
        "<a href=\"https://colab.research.google.com/github/fernandonakagawa/Python_TCS_100h/blob/main/Aula15_1208(sexta).ipynb\" target=\"_parent\"><img src=\"https://colab.research.google.com/assets/colab-badge.svg\" alt=\"Open In Colab\"/></a>"
      ]
    },
    {
      "cell_type": "markdown",
      "source": [
        "Crie um sistema Orientado a Objetos para a rede de restaurantes de\n",
        "fast-food NecTronalds que possui estabelecimentos no mundo todo.\n",
        "Dependendo do país, podem ser oferecidos certos tipos de lanches\n",
        "diferentes, por exemplo:\n",
        "\n",
        "Crie as seguintes funcionalidades:\n",
        "- Mostrar o cardápio de um país específico OK\n",
        "- Mostrar o cardápio de todos os países OK\n",
        "- Adicionar item ao cardápio OK\n",
        "- Remover item do cardápio OK\n",
        "\n",
        "Requisitos:\n",
        "- Os lanches devem ter nome, descrição e preço de venda OK\n",
        "- A rede de restaurantes deve conter vários restaurantes OK\n",
        "- Cada restaurante tem um nome e um cardápio próprio OK"
      ],
      "metadata": {
        "id": "ziOvQnVcvtu9"
      }
    },
    {
      "cell_type": "code",
      "execution_count": 26,
      "metadata": {
        "id": "uScSmxKrvanV"
      },
      "outputs": [],
      "source": [
        "class Lanche:\n",
        "  def __init__(self, nome, descricao, preco_venda):\n",
        "    self.__nome = nome\n",
        "    self.__descricao = descricao\n",
        "    self.__preco_venda = preco_venda\n",
        "  def __str__(self):\n",
        "    return f\"Lanche {self.nome} - ${self.preco_venda} - {self.descricao}\"\n",
        "  @property\n",
        "  def nome(self): return self.__nome\n",
        "  @property\n",
        "  def descricao(self): return self.__descricao\n",
        "  @property\n",
        "  def preco_venda(self): return self.__preco_venda\n",
        "\n",
        "class Cardapio:\n",
        "  def __init__(self):\n",
        "    self.__itens = []\n",
        "  def __str__(self):\n",
        "    s = \"-----===== Cardápio =====-----\\n\"\n",
        "    for item in self.itens:\n",
        "      s += f\"{item}\\n\"\n",
        "    return s\n",
        "  def copy(self):\n",
        "    itens = self.itens.copy()\n",
        "    cardapio = Cardapio()\n",
        "    cardapio.itens = itens\n",
        "    return cardapio\n",
        "  def adicionar_item(self, item):\n",
        "    if isinstance(item, Lanche):\n",
        "      self.itens.append(item)\n",
        "    else:\n",
        "      raise Exception(\"Item do cardápio não compatível.\")\n",
        "  def remover_item(self, item):\n",
        "    try:\n",
        "      self.itens.remove(item)\n",
        "      return True\n",
        "    except:\n",
        "      return \"Item inexistente no cardápio.\"\n",
        "  @property\n",
        "  def itens(self): return self.__itens\n",
        "  @itens.setter\n",
        "  def itens(self, value): self.__itens = value\n",
        "\n",
        "class Restaurante:\n",
        "  def __init__(self, nome, endereco):\n",
        "    self.__nome = nome\n",
        "    self.__endereco = endereco\n",
        "    self.__cardapio = Cardapio()\n",
        "  def __str__(self):\n",
        "    s = f\"|----------========== Unidade {self.nome} ==========---------|\\n\"\n",
        "    s += f\"|Endereço: {self.endereco}|\\n\"\n",
        "    s += f\"{self.cardapio}\\n\"\n",
        "    return s\n",
        "  @property\n",
        "  def nome(self): return self.__nome\n",
        "  @property\n",
        "  def endereco(self): return self.__endereco\n",
        "  @property\n",
        "  def cardapio(self): return self.__cardapio\n",
        "  @cardapio.setter\n",
        "  def cardapio(self, value): self.__cardapio = value\n",
        "\n",
        "class Pais:\n",
        "  def __init__(self, nome):\n",
        "    self.__nome = nome\n",
        "    self.__restaurantes = []\n",
        "    self.__cardapio_padrao = Cardapio()\n",
        "  def __str__(self):\n",
        "    s = f\"======~~~~~~ {self.nome} ~~~~~~=======\\n\"\n",
        "    for restaurante in self.restaurantes:\n",
        "      s += f\"{restaurante}\\n\"\n",
        "    return s\n",
        "  def adicionar_restaurante(self, restaurante):\n",
        "    self.restaurantes.append(restaurante)\n",
        "  def remover_restaurante(self, restaurante):\n",
        "    self.restaurantes.remove(restaurante)\n",
        "  @property\n",
        "  def nome(self): return self.__nome\n",
        "  @property\n",
        "  def restaurantes(self): return self.__restaurantes\n",
        "  @property\n",
        "  def cardapio_padrao(self): return self.__cardapio_padrao\n",
        "\n",
        "  @staticmethod\n",
        "  def aplicar_cardapio_padrao(pais):\n",
        "    for restaurante in pais.restaurantes:\n",
        "      restaurante.cardapio = pais.cardapio_padrao.copy()\n",
        "\n",
        "class RedeResturantes:\n",
        "  def __init__(self, nome):\n",
        "    self.__nome = nome\n",
        "    self.__paises = []\n",
        "  def __str__(self):\n",
        "    s = f\"REDE DE RESTAURANTES {self.nome}\\n\"\n",
        "    for pais in self.paises:\n",
        "      s += f\"{pais}\\n\"\n",
        "    return s\n",
        "  def adicionar_pais(self, pais):\n",
        "    self.__paises.append(pais)\n",
        "  @property\n",
        "  def nome(self): return self.__nome\n",
        "  @property\n",
        "  def paises(self): return self.__paises"
      ]
    },
    {
      "cell_type": "code",
      "source": [
        "l1 = Lanche(\"NecFeijoada\", \"Delicioso lanche de feijoada\", 20)\n",
        "print(l1)\n",
        "print(isinstance(l1, Lanche))\n",
        "c1 = Cardapio()\n",
        "c1.adicionar_item(l1)\n",
        "print(c1)\n",
        "print(c1.remover_item(\"\"))\n",
        "try:\n",
        "  c1.adicionar_item(10)\n",
        "except Exception as e:\n",
        "  print(e)\n",
        "print(c1.remover_item(l1))\n",
        "print(c1)\n",
        "c1.adicionar_item(l1)\n",
        "l2 = Lanche(\"NecBacon\", \"Lanche de bacon\", 25)\n",
        "c1.adicionar_item(l2)\n",
        "#não há referência fora do objeto c1!\n",
        "c1.adicionar_item(Lanche(\"NecAcarajé\", \"Delicioso lanche da culinária nordestina\", 30))\n",
        "print(c1)"
      ],
      "metadata": {
        "colab": {
          "base_uri": "https://localhost:8080/"
        },
        "id": "U9xfDHIGxVIG",
        "outputId": "4fde1aa8-52d3-41a4-e83d-cc43d91d6411"
      },
      "execution_count": 19,
      "outputs": [
        {
          "output_type": "stream",
          "name": "stdout",
          "text": [
            "Lanche NecFeijoada - $20 - Delicioso lanche de feijoada\n",
            "True\n",
            "-----===== Cardápio =====-----\n",
            "Lanche NecFeijoada - $20 - Delicioso lanche de feijoada\n",
            "\n",
            "Item inexistente no cardápio.\n",
            "Item do cardápio não compatível.\n",
            "True\n",
            "-----===== Cardápio =====-----\n",
            "\n",
            "-----===== Cardápio =====-----\n",
            "Lanche NecFeijoada - $20 - Delicioso lanche de feijoada\n",
            "Lanche NecBacon - $25 - Lanche de bacon\n",
            "Lanche NecAcarajé - $30 - Delicioso lanche da culinária nordestina\n",
            "\n"
          ]
        }
      ]
    },
    {
      "cell_type": "code",
      "source": [
        "r1 = Restaurante(\"Londrina\", \"Rua Belém 844\")\n",
        "r1.cardapio.adicionar_item(l1)\n",
        "r1.cardapio.adicionar_item(l2)\n",
        "print(r1)"
      ],
      "metadata": {
        "colab": {
          "base_uri": "https://localhost:8080/"
        },
        "id": "U7mkWBM_xgGX",
        "outputId": "54618fca-37ef-4098-8060-5715157fd899"
      },
      "execution_count": 20,
      "outputs": [
        {
          "output_type": "stream",
          "name": "stdout",
          "text": [
            "|----------========== Unidade Londrina ==========---------|\n",
            "|Endereço: Rua Belém 844|\n",
            "-----===== Cardápio =====-----\n",
            "Lanche NecFeijoada - $20 - Delicioso lanche de feijoada\n",
            "Lanche NecBacon - $25 - Lanche de bacon\n",
            "\n",
            "\n"
          ]
        }
      ]
    },
    {
      "cell_type": "code",
      "source": [
        "p1 = Pais(\"Brasil\")\n",
        "p1.adicionar_restaurante(r1)\n",
        "r2 = Restaurante(\"São Paulo\", \"Av. Paulista\")\n",
        "p1.adicionar_restaurante(r2)\n",
        "print(p1)\n",
        "p2 = Pais(\"Argentina\")\n",
        "print(p2)\n",
        "p1.cardapio_padrao.adicionar_item(l1)\n",
        "p1.cardapio_padrao.adicionar_item(l2)\n",
        "l3 = Lanche(\"NecPicanha\", \"Lanche com molho sabor picanha artificial\", 40)\n",
        "p1.cardapio_padrao.adicionar_item(l3)\n",
        "Pais.aplicar_cardapio_padrao(p1)\n",
        "print(p1)\n",
        "r1.cardapio.adicionar_item(Lanche(\"NecLondrina\", \"Lanche da culinária londrinense.\", 30))\n",
        "r2.cardapio.adicionar_item(Lanche(\"NecSP\", \"Lanche da culinária paulistana.\", 32))\n",
        "print(p1)\n",
        "#seria interessante que na classe Restaurante houvesse um atributo chamado cardapio_exclusivo\n",
        "#para manter a referência do cardápio do país."
      ],
      "metadata": {
        "colab": {
          "base_uri": "https://localhost:8080/"
        },
        "id": "88jrbbvl6Dir",
        "outputId": "4ccc31f3-7838-4212-a105-e9db2e84e220"
      },
      "execution_count": 21,
      "outputs": [
        {
          "output_type": "stream",
          "name": "stdout",
          "text": [
            "======~~~~~~ Brasil ~~~~~~=======\n",
            "|----------========== Unidade Londrina ==========---------|\n",
            "|Endereço: Rua Belém 844|\n",
            "-----===== Cardápio =====-----\n",
            "Lanche NecFeijoada - $20 - Delicioso lanche de feijoada\n",
            "Lanche NecBacon - $25 - Lanche de bacon\n",
            "\n",
            "\n",
            "|----------========== Unidade São Paulo ==========---------|\n",
            "|Endereço: Av. Paulista|\n",
            "-----===== Cardápio =====-----\n",
            "\n",
            "\n",
            "\n",
            "======~~~~~~ Argentina ~~~~~~=======\n",
            "\n",
            "======~~~~~~ Brasil ~~~~~~=======\n",
            "|----------========== Unidade Londrina ==========---------|\n",
            "|Endereço: Rua Belém 844|\n",
            "-----===== Cardápio =====-----\n",
            "Lanche NecFeijoada - $20 - Delicioso lanche de feijoada\n",
            "Lanche NecBacon - $25 - Lanche de bacon\n",
            "Lanche NecPicanha - $40 - Lanche com molho sabor picanha artificial\n",
            "\n",
            "\n",
            "|----------========== Unidade São Paulo ==========---------|\n",
            "|Endereço: Av. Paulista|\n",
            "-----===== Cardápio =====-----\n",
            "Lanche NecFeijoada - $20 - Delicioso lanche de feijoada\n",
            "Lanche NecBacon - $25 - Lanche de bacon\n",
            "Lanche NecPicanha - $40 - Lanche com molho sabor picanha artificial\n",
            "\n",
            "\n",
            "\n",
            "======~~~~~~ Brasil ~~~~~~=======\n",
            "|----------========== Unidade Londrina ==========---------|\n",
            "|Endereço: Rua Belém 844|\n",
            "-----===== Cardápio =====-----\n",
            "Lanche NecFeijoada - $20 - Delicioso lanche de feijoada\n",
            "Lanche NecBacon - $25 - Lanche de bacon\n",
            "Lanche NecPicanha - $40 - Lanche com molho sabor picanha artificial\n",
            "Lanche NecLondrina - $30 - Lanche da culinária londrinense.\n",
            "\n",
            "\n",
            "|----------========== Unidade São Paulo ==========---------|\n",
            "|Endereço: Av. Paulista|\n",
            "-----===== Cardápio =====-----\n",
            "Lanche NecFeijoada - $20 - Delicioso lanche de feijoada\n",
            "Lanche NecBacon - $25 - Lanche de bacon\n",
            "Lanche NecPicanha - $40 - Lanche com molho sabor picanha artificial\n",
            "Lanche NecSP - $32 - Lanche da culinária paulistana.\n",
            "\n",
            "\n",
            "\n"
          ]
        }
      ]
    },
    {
      "cell_type": "code",
      "source": [
        "rede = RedeResturantes(\"NecTronalds\")\n",
        "rede.adicionar_pais(p1)\n",
        "p2.cardapio_padrao.adicionar_item(Lanche(\"NecChimichurri\", \"Lanche de chimichurri\", 18))\n",
        "p2.adicionar_restaurante(Restaurante(\"Buenos Aires\", \"Rua Maradona\"))\n",
        "p2.adicionar_restaurante(Restaurante(\"Ushuaia\", \"Rua Polo Sur\"))\n",
        "Pais.aplicar_cardapio_padrao(p2)\n",
        "rede.adicionar_pais(p2)\n",
        "print(rede)"
      ],
      "metadata": {
        "colab": {
          "base_uri": "https://localhost:8080/"
        },
        "id": "mIxuO7Db9iS7",
        "outputId": "1f3d8b07-3fde-4210-e243-fff60dd68c89"
      },
      "execution_count": 29,
      "outputs": [
        {
          "output_type": "stream",
          "name": "stdout",
          "text": [
            "REDE DE RESTAURANTES NecTronalds\n",
            "======~~~~~~ Brasil ~~~~~~=======\n",
            "|----------========== Unidade Londrina ==========---------|\n",
            "|Endereço: Rua Belém 844|\n",
            "-----===== Cardápio =====-----\n",
            "Lanche NecFeijoada - $20 - Delicioso lanche de feijoada\n",
            "Lanche NecBacon - $25 - Lanche de bacon\n",
            "Lanche NecPicanha - $40 - Lanche com molho sabor picanha artificial\n",
            "Lanche NecLondrina - $30 - Lanche da culinária londrinense.\n",
            "\n",
            "\n",
            "|----------========== Unidade São Paulo ==========---------|\n",
            "|Endereço: Av. Paulista|\n",
            "-----===== Cardápio =====-----\n",
            "Lanche NecFeijoada - $20 - Delicioso lanche de feijoada\n",
            "Lanche NecBacon - $25 - Lanche de bacon\n",
            "Lanche NecPicanha - $40 - Lanche com molho sabor picanha artificial\n",
            "Lanche NecSP - $32 - Lanche da culinária paulistana.\n",
            "\n",
            "\n",
            "\n",
            "======~~~~~~ Argentina ~~~~~~=======\n",
            "|----------========== Unidade Buenos Aires ==========---------|\n",
            "|Endereço: Rua Maradona|\n",
            "-----===== Cardápio =====-----\n",
            "Lanche NecChimichurri - $18 - Lanche de chimichurri\n",
            "\n",
            "\n",
            "|----------========== Unidade Ushuaia ==========---------|\n",
            "|Endereço: Rua Polo Sur|\n",
            "-----===== Cardápio =====-----\n",
            "Lanche NecChimichurri - $18 - Lanche de chimichurri\n",
            "\n",
            "\n",
            "\n",
            "\n"
          ]
        }
      ]
    },
    {
      "cell_type": "code",
      "source": [
        ""
      ],
      "metadata": {
        "id": "H2f6ARscF5fW"
      },
      "execution_count": null,
      "outputs": []
    }
  ]
}