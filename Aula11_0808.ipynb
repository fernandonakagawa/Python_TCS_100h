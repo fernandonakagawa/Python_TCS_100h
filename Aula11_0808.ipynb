{
  "nbformat": 4,
  "nbformat_minor": 0,
  "metadata": {
    "colab": {
      "name": "Aula11_0808.ipynb",
      "provenance": [],
      "collapsed_sections": [],
      "authorship_tag": "ABX9TyM7vXfGBoZ1CNVXlbMZoPJm",
      "include_colab_link": true
    },
    "kernelspec": {
      "name": "python3",
      "display_name": "Python 3"
    },
    "language_info": {
      "name": "python"
    }
  },
  "cells": [
    {
      "cell_type": "markdown",
      "metadata": {
        "id": "view-in-github",
        "colab_type": "text"
      },
      "source": [
        "<a href=\"https://colab.research.google.com/github/fernandonakagawa/Python_TCS_100h/blob/main/Aula11_0808.ipynb\" target=\"_parent\"><img src=\"https://colab.research.google.com/assets/colab-badge.svg\" alt=\"Open In Colab\"/></a>"
      ]
    },
    {
      "cell_type": "markdown",
      "source": [
        "# Atividade 10"
      ],
      "metadata": {
        "id": "odpBJE47qKHb"
      }
    },
    {
      "cell_type": "markdown",
      "source": [
        "crie uma função recursiva chamada jurosCompostos. Ela deve chamar\n",
        "ela mesma e calcular o valor de juros compostos com base no\n",
        "valor, juros e quantidade de meses. Dica: a função se chama\n",
        "recursivamente com a mesma quantidade de meses."
      ],
      "metadata": {
        "id": "SJrVOqZdKszv"
      }
    },
    {
      "cell_type": "code",
      "execution_count": 1,
      "metadata": {
        "id": "Tiv1iR_rqFCH",
        "colab": {
          "base_uri": "https://localhost:8080/"
        },
        "outputId": "f3834bae-2633-42b4-a600-bb2000d44257"
      },
      "outputs": [
        {
          "output_type": "stream",
          "name": "stdout",
          "text": [
            "hello world\n",
            "1030.301\n"
          ]
        }
      ],
      "source": [
        "def juros_compostos(valor, juros, meses):\n",
        "    if meses <= 1:\n",
        "        return valor + (valor * juros)\n",
        "    return juros_compostos(valor + (valor * juros), juros, meses-1)\n",
        "\n",
        "print(\"hello world\")\n",
        "print(juros_compostos(1000, 0.01, 3))"
      ]
    },
    {
      "cell_type": "code",
      "source": [
        "dic ={\n",
        "    \"Capítulo 1\": \"texto\",\n",
        "    2: \"texto 2\",\n",
        "    3.14: \"Pi\"\n",
        "}\n",
        "print(dic[3.14])\n",
        "print(dic[\"Capítulo 1\"])"
      ],
      "metadata": {
        "colab": {
          "base_uri": "https://localhost:8080/"
        },
        "id": "0afnVMMZIijH",
        "outputId": "b07a268b-404a-4147-a129-7186c5195c71"
      },
      "execution_count": 6,
      "outputs": [
        {
          "output_type": "stream",
          "name": "stdout",
          "text": [
            "Pi\n",
            "texto\n"
          ]
        }
      ]
    },
    {
      "cell_type": "code",
      "source": [
        "cliente = {\n",
        "    \"nome\": \"Daniel\",\n",
        "    \"cpf\": \"123456789010\",\n",
        "}"
      ],
      "metadata": {
        "id": "e3X-cdj6Ii0o"
      },
      "execution_count": null,
      "outputs": []
    },
    {
      "cell_type": "code",
      "source": [
        ""
      ],
      "metadata": {
        "id": "6uvweeGqGyOt"
      },
      "execution_count": null,
      "outputs": []
    },
    {
      "cell_type": "code",
      "source": [
        ""
      ],
      "metadata": {
        "id": "zP4woYszGyS_"
      },
      "execution_count": null,
      "outputs": []
    },
    {
      "cell_type": "code",
      "source": [
        ""
      ],
      "metadata": {
        "id": "MlF2E6EpGydL"
      },
      "execution_count": null,
      "outputs": []
    },
    {
      "cell_type": "markdown",
      "source": [
        "#Aula 11"
      ],
      "metadata": {
        "id": "GdM3KvXMqJiF"
      }
    },
    {
      "cell_type": "markdown",
      "source": [
        "#Python Orientado a Objetos"
      ],
      "metadata": {
        "id": "yxBgIGDJG03j"
      }
    },
    {
      "cell_type": "markdown",
      "source": [
        "Antes de iniciarmos, vamos falar sobre o \\_\\_name_\\_ e \\_\\_main\\_\\_"
      ],
      "metadata": {
        "id": "qwLyThu8ILFw"
      }
    },
    {
      "cell_type": "code",
      "source": [
        "__name__"
      ],
      "metadata": {
        "colab": {
          "base_uri": "https://localhost:8080/",
          "height": 35
        },
        "id": "eFOIaqK2IO2b",
        "outputId": "8029b78e-ae34-4cd7-c3a7-010979a046d2"
      },
      "execution_count": 7,
      "outputs": [
        {
          "output_type": "execute_result",
          "data": {
            "text/plain": [
              "'__main__'"
            ],
            "application/vnd.google.colaboratory.intrinsic+json": {
              "type": "string"
            }
          },
          "metadata": {},
          "execution_count": 7
        }
      ]
    },
    {
      "cell_type": "code",
      "source": [
        "if __name__ is '__main__': print(\"Execução direta.\")\n",
        "else: print(\"Execução como se fosse um módulo.\")"
      ],
      "metadata": {
        "colab": {
          "base_uri": "https://localhost:8080/"
        },
        "id": "UChaVR8VIVm8",
        "outputId": "3d36c6a3-a4dd-4677-90bd-2ca745f4d0af"
      },
      "execution_count": 8,
      "outputs": [
        {
          "output_type": "stream",
          "name": "stdout",
          "text": [
            "Execução direta.\n"
          ]
        }
      ]
    },
    {
      "cell_type": "code",
      "source": [
        "def main():\n",
        "  print(\"main\")\n",
        "\n",
        "if __name__ == '__main__': main()"
      ],
      "metadata": {
        "colab": {
          "base_uri": "https://localhost:8080/"
        },
        "id": "xnzLJN-uIVqO",
        "outputId": "0d33e20a-bc75-4844-eef6-29301cce5b4f"
      },
      "execution_count": null,
      "outputs": [
        {
          "output_type": "stream",
          "name": "stdout",
          "text": [
            "main\n"
          ]
        }
      ]
    },
    {
      "cell_type": "markdown",
      "source": [
        "## Classes"
      ],
      "metadata": {
        "id": "zb7bd9raG-vf"
      }
    },
    {
      "cell_type": "code",
      "source": [
        "class Cachorro():\n",
        "  pass\n",
        "\n",
        "c = Cachorro()\n",
        "type(c)"
      ],
      "metadata": {
        "colab": {
          "base_uri": "https://localhost:8080/"
        },
        "id": "3CrayAbJG-G5",
        "outputId": "063d8d72-e2ed-4529-c9cf-a4aa5a42a74a"
      },
      "execution_count": null,
      "outputs": [
        {
          "output_type": "execute_result",
          "data": {
            "text/plain": [
              "__main__.Cachorro"
            ]
          },
          "metadata": {},
          "execution_count": 1
        }
      ]
    },
    {
      "cell_type": "code",
      "source": [
        "#método construtor __init__\n",
        "class Cachorro():\n",
        "  def __init__(self):\n",
        "    self.nome = \"Totó\"\n",
        "    self.cor = \"Caramelo\"\n",
        "  \n",
        "c = Cachorro()\n",
        "print(c.nome)\n",
        "print(c.cor)\n",
        "\n",
        "c2 = Cachorro()\n",
        "print(c2.nome, c2.cor)\n",
        "\n",
        "if c == c2: print(\"Objetos Iguais\")\n",
        "else: print(\"Objetos Diferentes\")\n",
        "\n",
        "if c.nome == c2.nome: print(\"Nomes Iguais\")\n",
        "else: print(\"Nomes Diferentes\")\n",
        "\n",
        "c.nome = \"Belinha\"\n",
        "c.cor = \"Branco\"\n",
        "if c.nome == c2.nome: print(\"Nomes Iguais\")\n",
        "else: print(\"Nomes Diferentes\")"
      ],
      "metadata": {
        "colab": {
          "base_uri": "https://localhost:8080/"
        },
        "id": "CffrzeS-GxtL",
        "outputId": "2a6b809b-9411-4303-8dfe-7108569e70a8"
      },
      "execution_count": 24,
      "outputs": [
        {
          "output_type": "stream",
          "name": "stdout",
          "text": [
            "Totó\n",
            "Caramelo\n",
            "Totó Caramelo\n",
            "Objetos Diferentes\n",
            "Nomes Iguais\n",
            "Nomes Diferentes\n"
          ]
        }
      ]
    },
    {
      "cell_type": "code",
      "source": [
        "#argumentos obrigatórios ou não do método construtor\n",
        "class Cachorro():\n",
        "  def __init__(self, nome = \"Sem nome\", cor = \"Sem cor\", peso = 0):\n",
        "    self.nome = nome\n",
        "    self.cor = cor\n",
        "    self.peso = peso\n",
        "  \n",
        "c = Cachorro(\"Belinha\", \"Branco\", 6.5)\n",
        "print(c)\n",
        "c2 = Cachorro()\n",
        "print(c2.nome, c2.cor, c2.peso)\n",
        "c3 = Cachorro( nome = \"Mel\", cor = \"Preto\", peso = 20)\n",
        "print(c3.nome, c3.cor, c3.peso)"
      ],
      "metadata": {
        "id": "62z6CvCIIBx0",
        "colab": {
          "base_uri": "https://localhost:8080/"
        },
        "outputId": "10c3a565-cf19-4abd-928f-f772ef0408f4"
      },
      "execution_count": 29,
      "outputs": [
        {
          "output_type": "stream",
          "name": "stdout",
          "text": [
            "<__main__.Cachorro object at 0x7fcac09d0b50>\n",
            "Sem nome Sem cor 0\n",
            "Mel Preto 20\n"
          ]
        }
      ]
    },
    {
      "cell_type": "code",
      "source": [
        "# __str__\n",
        "\n",
        "class Cachorro():\n",
        "  def __init__(self, nome = \"Sem nome\", cor = \"Sem cor\", peso = 0):\n",
        "    self.nome = nome\n",
        "    self.cor = cor\n",
        "    self.peso = peso\n",
        "  def __str__(self):\n",
        "    return f\"Olá, me chamo {self.nome} e minha cor é {self.cor} e meu peso é {self.peso}.\"\n",
        "  def latir(self):\n",
        "    for i in range(len(self.nome)):\n",
        "      if self.peso < 10: print(\"Au\", end=\"\")\n",
        "      else: print(\"Uou\", end=\" \")\n",
        "    print()\n",
        "  \n",
        "c = Cachorro(\"Belinha\", \"Branco\", 6.5)\n",
        "print(c)\n",
        "c.latir()\n",
        "c2 = Cachorro(\"Totó\", \"Caramelo\", 4)\n",
        "print(c2)\n",
        "c2.latir()\n",
        "c3 = Cachorro(\"Scooby\", \"Castanho\", 20)\n",
        "print(c3)\n",
        "c3.latir()\n",
        "#Cachorro.latir(10)"
      ],
      "metadata": {
        "colab": {
          "base_uri": "https://localhost:8080/"
        },
        "id": "Qwb-vZ_FWI0w",
        "outputId": "f70fafdb-c2fb-4cce-e7d9-3dc3ae61de21"
      },
      "execution_count": 44,
      "outputs": [
        {
          "output_type": "stream",
          "name": "stdout",
          "text": [
            "Olá, me chamo Belinha e minha cor é Branco e meu peso é 6.5.\n",
            "AuAuAuAuAuAuAu\n",
            "Olá, me chamo Totó e minha cor é Caramelo e meu peso é 4.\n",
            "AuAuAuAu\n",
            "Olá, me chamo Scooby e minha cor é Castanho e meu peso é 20.\n",
            "Uou Uou Uou Uou Uou Uou \n"
          ]
        }
      ]
    },
    {
      "cell_type": "code",
      "source": [
        ""
      ],
      "metadata": {
        "id": "xN7PXvgxXnXM"
      },
      "execution_count": null,
      "outputs": []
    }
  ]
}