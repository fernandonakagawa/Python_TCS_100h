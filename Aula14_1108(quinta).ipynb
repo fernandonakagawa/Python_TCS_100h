{
  "nbformat": 4,
  "nbformat_minor": 0,
  "metadata": {
    "colab": {
      "name": "Aula14_1108(quinta).ipynb",
      "provenance": [],
      "collapsed_sections": [],
      "authorship_tag": "ABX9TyNNiKLjmAdTU7N03olsx+8L",
      "include_colab_link": true
    },
    "kernelspec": {
      "name": "python3",
      "display_name": "Python 3"
    },
    "language_info": {
      "name": "python"
    }
  },
  "cells": [
    {
      "cell_type": "markdown",
      "metadata": {
        "id": "view-in-github",
        "colab_type": "text"
      },
      "source": [
        "<a href=\"https://colab.research.google.com/github/fernandonakagawa/Python_TCS_100h/blob/main/Aula14_1108(quinta).ipynb\" target=\"_parent\"><img src=\"https://colab.research.google.com/assets/colab-badge.svg\" alt=\"Open In Colab\"/></a>"
      ]
    },
    {
      "cell_type": "markdown",
      "source": [
        "#Atividade 13\n",
        "\n"
      ],
      "metadata": {
        "id": "-oInL8M5mh19"
      }
    },
    {
      "cell_type": "markdown",
      "source": [
        "Crie uma classe Televisao e uma classe ControleRemoto que pode\n",
        "controlar o volume e trocar os canais da televisão. \n",
        "\n",
        "O controle de\n",
        "volume permite: aumentar ou diminuir a potência do volume de som em\n",
        "uma unidade de cada vez; aumentar e diminuir o número do canal em uma\n",
        "unidade; trocar para um canal indicado; consultar o valor do volume\n",
        "de som e o canal selecionado."
      ],
      "metadata": {
        "id": "-tt63CIfnDBy"
      }
    },
    {
      "cell_type": "code",
      "execution_count": 49,
      "metadata": {
        "id": "_IlYyGklliU_"
      },
      "outputs": [],
      "source": [
        "class Televisao:\n",
        "  def __init__(self, canal = 1, volume = 5):\n",
        "    self.__canal = canal\n",
        "    self.__volume = volume\n",
        "\n",
        "  def mudar_volume(self, quantidade):\n",
        "    self.__volume += quantidade\n",
        "    if self.__volume < 0: self.__volume = 0\n",
        "    elif self.__volume > 10: self.__volume = 10\n",
        "\n",
        "  def mudar_canal(self, quantidade):\n",
        "    self.canal += quantidade\n",
        "\n",
        "  def consultar(self):\n",
        "    s = f\"Canal: {self.canal}. Volume: \"\n",
        "    for i in range(self.volume):\n",
        "      s += \"|\"\n",
        "    return s\n",
        "\n",
        "  @property\n",
        "  def volume(self):\n",
        "    return self.__volume\n",
        "  #@volume.setter\n",
        "  #def volume(self, valor):\n",
        "  #  self.__volume = valor\n",
        "\n",
        "  @property\n",
        "  def canal(self):\n",
        "    return self.__canal\n",
        "  @canal.setter\n",
        "  def canal(self, valor):\n",
        "    self.__canal = valor\n",
        "    if self.__canal < 1: self.__canal = 1\n",
        "    elif self.__canal > 99: self.__canal = 99\n",
        "\n",
        "class ControleRemoto:\n",
        "  def __init__(self):\n",
        "    pass\n",
        "  def aumentar_volume(self, tv):\n",
        "    tv.mudar_volume(1)\n",
        "  def diminuir_volume(self, tv):\n",
        "    tv.mudar_volume(-1)\n",
        "  def aumentar_canal(self, tv):\n",
        "    tv.mudar_canal(1)\n",
        "  def diminuir_canal(self, tv):\n",
        "    tv.mudar_canal(-1)\n",
        "  def atribuir_canal(self, tv, canal):\n",
        "    tv.canal = canal\n",
        "  def consultar_tv(self, tv):\n",
        "    return tv.consultar()\n"
      ]
    },
    {
      "cell_type": "code",
      "source": [
        "t = Televisao()\n",
        "t.mudar_volume(-2)\n",
        "t.mudar_canal(1)\n",
        "#t.volume = 6\n",
        "t.canal = 20\n",
        "print(t.consultar())\n",
        "print(t)\n",
        "c = ControleRemoto()\n",
        "c.aumentar_volume(t)\n",
        "c.atribuir_canal(t, 40)\n",
        "print(t.volume)\n",
        "print(t.canal)\n",
        "print(c.consultar_tv(t))\n",
        "c.diminuir_canal(t)\n",
        "print(c.consultar_tv(t))\n"
      ],
      "metadata": {
        "colab": {
          "base_uri": "https://localhost:8080/"
        },
        "id": "BiIYakJqpseY",
        "outputId": "5684e307-adf3-435d-b895-d4389e1af35b"
      },
      "execution_count": 50,
      "outputs": [
        {
          "output_type": "stream",
          "name": "stdout",
          "text": [
            "Canal: 20. Volume: |||\n",
            "<__main__.Televisao object at 0x7f1455371690>\n",
            "4\n",
            "40\n",
            "Canal: 40. Volume: ||||\n",
            "Canal: 39. Volume: ||||\n"
          ]
        }
      ]
    },
    {
      "cell_type": "code",
      "source": [
        "t2 = Televisao()\n",
        "print(t2.consultar())\n",
        "c.diminuir_volume(t2)\n",
        "print(c.consultar_tv(t2))\n"
      ],
      "metadata": {
        "colab": {
          "base_uri": "https://localhost:8080/"
        },
        "id": "oWux_2ActEiS",
        "outputId": "30562831-80d0-4e34-9728-c9c1eba9df72"
      },
      "execution_count": 40,
      "outputs": [
        {
          "output_type": "stream",
          "name": "stdout",
          "text": [
            "Canal: 1. Volume: |||||\n",
            "Canal: 1. Volume: ||||\n"
          ]
        }
      ]
    },
    {
      "cell_type": "code",
      "source": [
        ""
      ],
      "metadata": {
        "id": "0XFJHE7Us4AV"
      },
      "execution_count": null,
      "outputs": []
    }
  ]
}