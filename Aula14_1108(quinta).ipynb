{
  "nbformat": 4,
  "nbformat_minor": 0,
  "metadata": {
    "colab": {
      "name": "Aula14_1108(quinta).ipynb",
      "provenance": [],
      "collapsed_sections": [],
      "authorship_tag": "ABX9TyNoeywyE8VYi/ForZh8G7k/",
      "include_colab_link": true
    },
    "kernelspec": {
      "name": "python3",
      "display_name": "Python 3"
    },
    "language_info": {
      "name": "python"
    }
  },
  "cells": [
    {
      "cell_type": "markdown",
      "metadata": {
        "id": "view-in-github",
        "colab_type": "text"
      },
      "source": [
        "<a href=\"https://colab.research.google.com/github/fernandonakagawa/Python_TCS_100h/blob/main/Aula14_1108(quinta).ipynb\" target=\"_parent\"><img src=\"https://colab.research.google.com/assets/colab-badge.svg\" alt=\"Open In Colab\"/></a>"
      ]
    },
    {
      "cell_type": "markdown",
      "source": [
        "#Atividade 13\n",
        "\n"
      ],
      "metadata": {
        "id": "-oInL8M5mh19"
      }
    },
    {
      "cell_type": "markdown",
      "source": [
        "Crie uma classe Televisao e uma classe ControleRemoto que pode\n",
        "controlar o volume e trocar os canais da televisão. \n",
        "\n",
        "O controle de\n",
        "volume permite: aumentar ou diminuir a potência do volume de som em\n",
        "uma unidade de cada vez; aumentar e diminuir o número do canal em uma\n",
        "unidade; trocar para um canal indicado; consultar o valor do volume\n",
        "de som e o canal selecionado."
      ],
      "metadata": {
        "id": "-tt63CIfnDBy"
      }
    },
    {
      "cell_type": "code",
      "execution_count": 64,
      "metadata": {
        "id": "_IlYyGklliU_"
      },
      "outputs": [],
      "source": [
        "class Televisao:\n",
        "  VOLMAX = 10\n",
        "  VOLMIN = 0\n",
        "  CANALMAX = 99\n",
        "  CANALMIN = 1\n",
        "  def __init__(self, canal = 1, volume = 5):\n",
        "    self.__canal = canal\n",
        "    self.__volume = volume\n",
        "\n",
        "  def mudar_volume(self, quantidade):\n",
        "    self.__volume += quantidade\n",
        "    if self.__volume < Televisao.VOLMIN: self.__volume = Televisao.VOLMIN\n",
        "    elif self.__volume > Televisao.VOLMAX: self.__volume = Televisao.VOLMAX\n",
        "\n",
        "  def mudar_canal(self, quantidade):\n",
        "    self.canal += quantidade\n",
        "\n",
        "  def consultar(self):\n",
        "    s = f\"Canal: {self.canal}. Volume: \"\n",
        "    for i in range(self.volume):\n",
        "      s += \"|\"\n",
        "    return s\n",
        "\n",
        "  @property\n",
        "  def volume(self):\n",
        "    return self.__volume\n",
        "  #@volume.setter\n",
        "  #def volume(self, valor):\n",
        "  #  self.__volume = valor\n",
        "\n",
        "  @property\n",
        "  def canal(self):\n",
        "    return self.__canal\n",
        "  @canal.setter\n",
        "  def canal(self, valor):\n",
        "    self.__canal = valor\n",
        "    if self.__canal < 1: self.__canal = Televisao.CANALMIN\n",
        "    elif self.__canal > 99: self.__canal = Televisao.CANALMAX\n",
        "\n",
        "class ControleRemoto:\n",
        "  def __init__(self):\n",
        "    pass\n",
        "  def aumentar_volume(self, tv):\n",
        "    tv.mudar_volume(1)\n",
        "  def diminuir_volume(self, tv):\n",
        "    tv.mudar_volume(-1)\n",
        "  def aumentar_canal(self, tv):\n",
        "    tv.mudar_canal(1)\n",
        "  def diminuir_canal(self, tv):\n",
        "    tv.mudar_canal(-1)\n",
        "  def atribuir_canal(self, tv, canal):\n",
        "    tv.canal = canal\n",
        "  def consultar_tv(self, tv):\n",
        "    return tv.consultar()\n"
      ]
    },
    {
      "cell_type": "code",
      "source": [
        "t = Televisao()\n",
        "t.mudar_volume(-2)\n",
        "t.mudar_canal(1)\n",
        "#t.volume = 6\n",
        "t.canal = 20\n",
        "print(t.consultar())\n",
        "print(t)\n",
        "c = ControleRemoto()\n",
        "c.aumentar_volume(t)\n",
        "c.atribuir_canal(t, 40)\n",
        "print(t.volume)\n",
        "print(t.canal)\n",
        "print(c.consultar_tv(t))\n",
        "c.diminuir_canal(t)\n",
        "print(c.consultar_tv(t))\n"
      ],
      "metadata": {
        "colab": {
          "base_uri": "https://localhost:8080/"
        },
        "id": "BiIYakJqpseY",
        "outputId": "0faeef30-f4cf-4a70-93ad-53af16abf252"
      },
      "execution_count": 65,
      "outputs": [
        {
          "output_type": "stream",
          "name": "stdout",
          "text": [
            "Canal: 20. Volume: |||\n",
            "<__main__.Televisao object at 0x7f14551e7950>\n",
            "4\n",
            "40\n",
            "Canal: 40. Volume: ||||\n",
            "Canal: 39. Volume: ||||\n"
          ]
        }
      ]
    },
    {
      "cell_type": "code",
      "source": [
        "t2 = Televisao()\n",
        "print(t2.consultar())\n",
        "c.diminuir_volume(t2)\n",
        "print(c.consultar_tv(t2))\n"
      ],
      "metadata": {
        "colab": {
          "base_uri": "https://localhost:8080/"
        },
        "id": "oWux_2ActEiS",
        "outputId": "30562831-80d0-4e34-9728-c9c1eba9df72"
      },
      "execution_count": 40,
      "outputs": [
        {
          "output_type": "stream",
          "name": "stdout",
          "text": [
            "Canal: 1. Volume: |||||\n",
            "Canal: 1. Volume: ||||\n"
          ]
        }
      ]
    },
    {
      "cell_type": "code",
      "source": [
        "#fora do exercício\n",
        "class ControleRemotoUnico(ControleRemoto):\n",
        "  def __init__(self, tv):\n",
        "    self.__tv = tv\n",
        "  def aumentar_volume(self):\n",
        "    super().aumentar_volume(self.tv)\n",
        "  def diminuir_volume(self):\n",
        "    super().diminuir_volume(self.tv)\n",
        "  def aumentar_canal(self):\n",
        "    super().aumentar_canal(self.tv)\n",
        "  def diminuir_canal(self):\n",
        "    super().diminuir_canal(self.tv)\n",
        "  def atribuir_canal(self, canal):\n",
        "    super().atribuir_canal(self.tv)\n",
        "  def consultar_tv(self):\n",
        "    return super().consultar_tv(self.tv)\n",
        "\n",
        "  @property\n",
        "  def tv(self): return self.__tv"
      ],
      "metadata": {
        "id": "0XFJHE7Us4AV"
      },
      "execution_count": 55,
      "outputs": []
    },
    {
      "cell_type": "code",
      "source": [
        "cru = ControleRemotoUnico(t2)\n",
        "print(cru.consultar_tv())\n",
        "cru.aumentar_volume()\n",
        "cru.diminuir_canal()\n",
        "print(cru.consultar_tv())"
      ],
      "metadata": {
        "colab": {
          "base_uri": "https://localhost:8080/"
        },
        "id": "8_sdenF80RNJ",
        "outputId": "04927094-dbdf-4546-95df-e9336b433f6f"
      },
      "execution_count": 57,
      "outputs": [
        {
          "output_type": "stream",
          "name": "stdout",
          "text": [
            "Canal: 1. Volume: ||||\n",
            "Canal: 1. Volume: |||||\n"
          ]
        }
      ]
    },
    {
      "cell_type": "markdown",
      "source": [
        "Crie uma classe Agenda que pode armazenar pessoas e que seja capaz de\n",
        "realizar as seguintes operações:\n",
        "\n",
        "- armazenaPessoa(nome, cpf, telefone)\n",
        "- removePessoa(nome);\n",
        "- buscaPessoa(nome); // informa em que posição da agenda está a pessoa\n",
        "- imprimeAgenda(); // imprime os dados de todas as pessoas da agenda\n",
        "- imprimePessoa(i); // imprime os dados da pessoa que está na posição “i” da\n",
        "agenda."
      ],
      "metadata": {
        "id": "yk47YjZS1N6G"
      }
    },
    {
      "cell_type": "code",
      "source": [
        "class Pessoa:\n",
        "  def __init__(self, nome, cpf, telefone):\n",
        "    self.__nome = nome\n",
        "    self.__cpf = cpf\n",
        "    self.__telefone = telefone\n",
        "  @property\n",
        "  def nome(self): return self.__nome\n",
        "  @property\n",
        "  def cpf(self): return self.__cpf\n",
        "  @property\n",
        "  def telefone(self): return self.__telefone\n",
        "\n",
        "class Agenda:\n",
        "  def __init__(self):\n",
        "    self.__pessoas = []\n",
        "  def armazena_pessoa_dados(self, nome, cpf, telefone):\n",
        "    p = Pessoa(nome, cpf, telefone)\n",
        "    self.__pessoas.append(p)\n",
        "  def remover_pessoa_nome(self, nome):\n",
        "    try:\n",
        "      pessoa = self.__pessoas[self.buscar_pessoa_nome(nome)]\n",
        "      self.__pessoas.remove(pessoa)\n",
        "    except:\n",
        "      return \"Pessoa não encontrada\"\n",
        "    else:\n",
        "      return f\"Pessoa {pessoa.nome} removida com sucesso!\"\n",
        "  def buscar_pessoa_nome(self, nome):\n",
        "    for i, pessoa in enumerate(self.__pessoas):\n",
        "      if pessoa.nome == nome: return i\n",
        "  def imprimir_agenda(self):\n",
        "    for i,pessoa in enumerate(self.__pessoas):\n",
        "      self.imprimir_pessoa(i)\n",
        "  def imprimir_pessoa(self, i):\n",
        "    try:\n",
        "      pessoa = self.__pessoas[i]\n",
        "    except:\n",
        "      print(\"Pessoa não existente no índice i.\")\n",
        "    else:\n",
        "      print(f\"{pessoa.nome} | {pessoa.cpf} | {pessoa.telefone}\")"
      ],
      "metadata": {
        "id": "MkwWBxne0bYX"
      },
      "execution_count": 84,
      "outputs": []
    },
    {
      "cell_type": "code",
      "source": [
        "p1 = Pessoa(\"Ray\", \"12312312312\", \"(43)3333-3333\")\n",
        "p2 = Pessoa(\"Juan\", \"12312312313\", \"(43)3333-4444\")\n",
        "p3 = Pessoa(\"Marcelo\", \"12312344444\", \"(43)3222-2222\")\n",
        "a = Agenda()\n",
        "a.armazena_pessoa_dados(\"Karen\", \"12312355555\", \"(43)3333-1111\")\n",
        "a.armazena_pessoa_dados(\"Angélica\", \"12312366778\", \"(43)3333-8888\")\n",
        "a.armazena_pessoa_dados(\"Diego\", \"12312399999\", \"(43)3333-9999\")\n",
        "print(a.remover_pessoa_nome(\"Angélica\"))\n",
        "a.imprimir_agenda()\n",
        "print()\n",
        "a.imprimir_pessoa(1)"
      ],
      "metadata": {
        "colab": {
          "base_uri": "https://localhost:8080/"
        },
        "id": "oj7BDkof46ks",
        "outputId": "c422f451-ba19-44bc-d8d7-dca58582ff70"
      },
      "execution_count": 86,
      "outputs": [
        {
          "output_type": "stream",
          "name": "stdout",
          "text": [
            "Pessoa Angélica removida com sucesso!\n",
            "Karen | 12312355555 | (43)3333-1111\n",
            "Diego | 12312399999 | (43)3333-9999\n",
            "\n",
            "Diego | 12312399999 | (43)3333-9999\n"
          ]
        }
      ]
    },
    {
      "cell_type": "markdown",
      "source": [
        "Melhore o exercício anterior com as seguintes modificações:\n",
        "\n",
        "a. Criar um método que armazena uma pessoa recebendo um objeto\n",
        "Pessoa já instanciado.\n",
        "\n",
        "b. Poder buscar uma pessoa por cpf ou telefone"
      ],
      "metadata": {
        "id": "DytRxh0T8H4E"
      }
    },
    {
      "cell_type": "code",
      "source": [
        "class Pessoa:\n",
        "  def __init__(self, nome, cpf, telefone):\n",
        "    self.__nome = nome\n",
        "    self.__cpf = cpf\n",
        "    self.__telefone = telefone\n",
        "  @property\n",
        "  def nome(self): return self.__nome\n",
        "  @property\n",
        "  def cpf(self): return self.__cpf\n",
        "  @property\n",
        "  def telefone(self): return self.__telefone\n",
        "\n",
        "class Agenda:\n",
        "  def __init__(self):\n",
        "    self.__pessoas = []\n",
        "  def armazena_pessoa_dados(self, nome, cpf, telefone):\n",
        "    p = Pessoa(nome, cpf, telefone)\n",
        "    self.armazena_pessoa(p)\n",
        "  def armazena_pessoa(self, pessoa):\n",
        "    self.__pessoas.append(pessoa)\n",
        "  def remover_pessoa_nome(self, nome):\n",
        "    try:\n",
        "      pessoa = self.__pessoas[self.buscar_pessoa_nome(nome)]\n",
        "    except:\n",
        "      return \"Pessoa não encontrada\"\n",
        "    else:\n",
        "      return self.remover_pessoa(pessoa)\n",
        "  def remover_pessoa(self, p):\n",
        "    try:\n",
        "      self.__pessoas.remove(p)\n",
        "    except:\n",
        "      return \"Pessoa não encontrada\"\n",
        "    else:\n",
        "      return f\"Pessoa {p.nome} removida com sucesso!\"\n",
        "  def buscar_pessoa_nome(self, nome):\n",
        "    for i, pessoa in enumerate(self.__pessoas):\n",
        "      if pessoa.nome == nome: return i\n",
        "  def buscar_pessoa_cpf(self, cpf):\n",
        "    for i, pessoa in enumerate(self.__pessoas):\n",
        "      if pessoa.cpf == cpf: return pessoa\n",
        "  def buscar_pessoa_telefone(self, telefone):\n",
        "    for i, pessoa in enumerate(self.__pessoas):\n",
        "      if pessoa.telefone == telefone: return i, pessoa\n",
        "  def imprimir_agenda(self):\n",
        "    for i,pessoa in enumerate(self.__pessoas):\n",
        "      self.imprimir_pessoa(i)\n",
        "  def imprimir_pessoa(self, i):\n",
        "    try:\n",
        "      pessoa = self.__pessoas[i]\n",
        "    except:\n",
        "      print(\"Pessoa não existente no índice i.\")\n",
        "    else:\n",
        "      print(f\"{pessoa.nome} | {pessoa.cpf} | {pessoa.telefone}\")"
      ],
      "metadata": {
        "id": "yfcRizM86NWV"
      },
      "execution_count": 97,
      "outputs": []
    },
    {
      "cell_type": "code",
      "source": [
        "p1 = Pessoa(\"Ray\", \"12312312312\", \"(43)3333-3333\")\n",
        "p2 = Pessoa(\"Juan\", \"12312312313\", \"(43)3333-4444\")\n",
        "p3 = Pessoa(\"Marcelo\", \"12312344444\", \"(43)3222-2222\")\n",
        "a2 = Agenda()\n",
        "a2.armazena_pessoa_dados(\"Karen\", \"12312355555\", \"(43)3333-1111\")\n",
        "a2.armazena_pessoa_dados(\"Angélica\", \"12312366778\", \"(43)3333-8888\")\n",
        "a2.armazena_pessoa_dados(\"Diego\", \"12312399999\", \"(43)3333-9999\")\n",
        "print(a2.remover_pessoa_nome(\"Angélica\"))\n",
        "#a2.imprimir_agenda()\n",
        "a2.armazena_pessoa(p1)\n",
        "a2.armazena_pessoa(p2)\n",
        "a2.armazena_pessoa(p3)\n",
        "p = a2.buscar_pessoa_cpf(\"12312312313\")\n",
        "print(a2.remover_pessoa(p))\n",
        "a2.imprimir_agenda()"
      ],
      "metadata": {
        "colab": {
          "base_uri": "https://localhost:8080/"
        },
        "id": "NvsssCtZ9Id2",
        "outputId": "51b1f309-a711-4e4c-d52c-f9e1df6829de"
      },
      "execution_count": 98,
      "outputs": [
        {
          "output_type": "stream",
          "name": "stdout",
          "text": [
            "Pessoa Angélica removida com sucesso!\n",
            "Pessoa Juan removida com sucesso!\n",
            "Karen | 12312355555 | (43)3333-1111\n",
            "Diego | 12312399999 | (43)3333-9999\n",
            "Ray | 12312312312 | (43)3333-3333\n",
            "Marcelo | 12312344444 | (43)3222-2222\n"
          ]
        }
      ]
    },
    {
      "cell_type": "code",
      "source": [
        "lista = [\"Marcos\", \"Daniel\", \"Eduardo\"]\n",
        "#for tradicional\n",
        "for i in range(len(lista)):\n",
        "  print(lista[i])\n",
        "print()\n",
        "#for each\n",
        "for pessoa in lista:\n",
        "  print(pessoa)\n",
        "print()\n",
        "for i, pessoa in enumerate(lista):\n",
        "  print(i, pessoa)"
      ],
      "metadata": {
        "colab": {
          "base_uri": "https://localhost:8080/"
        },
        "id": "_PKd3tB-9O7B",
        "outputId": "9c318094-51b6-4190-a44d-ec0d07794b29"
      },
      "execution_count": 101,
      "outputs": [
        {
          "output_type": "stream",
          "name": "stdout",
          "text": [
            "Marcos\n",
            "Daniel\n",
            "Eduardo\n",
            "\n",
            "Marcos\n",
            "Daniel\n",
            "Eduardo\n",
            "\n",
            "0 Marcos\n",
            "1 Daniel\n",
            "2 Eduardo\n"
          ]
        }
      ]
    },
    {
      "cell_type": "code",
      "source": [
        ""
      ],
      "metadata": {
        "id": "fK58eE2h_efW"
      },
      "execution_count": null,
      "outputs": []
    }
  ]
}