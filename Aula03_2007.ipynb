{
  "nbformat": 4,
  "nbformat_minor": 0,
  "metadata": {
    "colab": {
      "name": "Aula03_2007.ipynb",
      "provenance": [],
      "authorship_tag": "ABX9TyPnBkTPydpEkPQta2XBihzO",
      "include_colab_link": true
    },
    "kernelspec": {
      "name": "python3",
      "display_name": "Python 3"
    },
    "language_info": {
      "name": "python"
    }
  },
  "cells": [
    {
      "cell_type": "markdown",
      "metadata": {
        "id": "view-in-github",
        "colab_type": "text"
      },
      "source": [
        "<a href=\"https://colab.research.google.com/github/fernandonakagawa/Python_TCS_100h/blob/main/Aula03_2007.ipynb\" target=\"_parent\"><img src=\"https://colab.research.google.com/assets/colab-badge.svg\" alt=\"Open In Colab\"/></a>"
      ]
    },
    {
      "cell_type": "markdown",
      "source": [
        "# Atividade 02"
      ],
      "metadata": {
        "id": "eIEewUqyRbjn"
      }
    },
    {
      "cell_type": "markdown",
      "source": [
        "O preço da laranja está R$ 3,50 por quilo. É considerado que cada\n",
        "uma pesa 160g. Faça um programa que tenha como entrada a\n",
        "quantidade de laranjas e mostre o valor em reais."
      ],
      "metadata": {
        "id": "6wPpjbPnUt37"
      }
    },
    {
      "cell_type": "code",
      "execution_count": 5,
      "metadata": {
        "colab": {
          "base_uri": "https://localhost:8080/"
        },
        "id": "XJ1IW1veRVMO",
        "outputId": "fe62dd23-f195-482c-d83e-9d166afa9c55"
      },
      "outputs": [
        {
          "output_type": "stream",
          "name": "stdout",
          "text": [
            "Digite a quantidade de laranjas: 3\n",
            "O valor total foi de R$1.68\n",
            "O valor total foi de R$1.68\n",
            "O preço do kg da laranja é de R$3.50, o peso de cada uma é de 0.160 kg e a quantidade pedida foi de 3 laranjas\n"
          ]
        }
      ],
      "source": [
        "preco_kg = 3.50\n",
        "peso_un = 0.160\n",
        "quantidade_laranjas = int(input(\"Digite a quantidade de laranjas: \"))\n",
        "valor = quantidade_laranjas * peso_un * preco_kg\n",
        "print(f\"O valor total foi de R${valor}\")\n",
        "print(\"O valor total foi de R${:.2f}\".format(valor))\n",
        "print(\"O preço do kg da laranja é de R${:.2f}, o peso de cada uma é de {:.3f} kg e a quantidade pedida foi de {} laranjas\".format(preco_kg, peso_un, quantidade_laranjas))"
      ]
    },
    {
      "cell_type": "markdown",
      "source": [
        "A nota do semestre de um aluno é definida pela média das notas\n",
        "bimestrais. Crie um programa que leia as notas bimestrais e\n",
        "mostre a média semestral de um aluno."
      ],
      "metadata": {
        "id": "lS9PGJ7FWQbJ"
      }
    },
    {
      "cell_type": "code",
      "source": [
        "n1 = float(input(\"Digite a nota 1 do aluno: \"))\n",
        "n2 = float(input(\"Digite a nota 2 do aluno: \"))\n",
        "media = (n1+n2)/2\n",
        "print(f\"A média semestral é de {media}.\")"
      ],
      "metadata": {
        "colab": {
          "base_uri": "https://localhost:8080/"
        },
        "id": "Gp3d9AquWUu1",
        "outputId": "42a6814a-8e2a-4b94-99b7-ac899ad4dac8"
      },
      "execution_count": 6,
      "outputs": [
        {
          "output_type": "stream",
          "name": "stdout",
          "text": [
            "Digite a nota 1 do aluno: 8\n",
            "Digite a nota 2 do aluno: 6\n",
            "A média semestral é de 7.0.\n"
          ]
        }
      ]
    },
    {
      "cell_type": "markdown",
      "source": [
        "Uma empresa deseja cadastrar em seu banco de dados os nomes de\n",
        "candidatos a vagas de trabalho. Os nomes são recebidos dos\n",
        "usuários e é necessário adotar um padrão. Foi decidido que os\n",
        "nomes estariam todos em letras maiúsculas e sem espaços no início\n",
        "e no final. Também é desejado que o primeiro nome, nome do meio e\n",
        "sobrenome seja gravado de forma separada.\n",
        "\n",
        "Exemplo:\n",
        "\n",
        "Nome recebido: “José Antunes da Silva”\n",
        "\n",
        "Dados a serem gravados:\n",
        "\n",
        "Primeiro Nome: “JOSÉ”\n",
        "\n",
        "Nome do meio: “ANTUNES DA”\n",
        "\n",
        "Sobrenome: “SILVA”"
      ],
      "metadata": {
        "id": "lPxR5bXFYD3E"
      }
    },
    {
      "cell_type": "code",
      "source": [
        "#nome = \"   José Antunes da Silva \"\n",
        "#nome = \"Pedro Henrique Rodrigues Santos\"\n",
        "#nome = \"Vinicius Oliveira\"\n",
        "nome = \"Fernando\"\n",
        "nome = nome.strip().upper()\n",
        "nomes = nome.split(\" \")\n",
        "primeiro_nome = nomes[0]\n",
        "nomes_meio = nomes[1:-1]\n",
        "nomes_meio = \" \".join(nomes_meio)\n",
        "if len(nomes) > 1:\n",
        "  ultimo_nome = nomes[-1]\n",
        "else:\n",
        "  ultimo_nome = \"\"\n",
        "print(f\"Primeiro nome: {primeiro_nome}. Nomes do meio: {nomes_meio}. Último nome: {ultimo_nome}.\")"
      ],
      "metadata": {
        "colab": {
          "base_uri": "https://localhost:8080/"
        },
        "id": "W1AkRNh_YFpT",
        "outputId": "5932c786-deeb-4111-e0c4-7bea6f6eb4ba"
      },
      "execution_count": 19,
      "outputs": [
        {
          "output_type": "stream",
          "name": "stdout",
          "text": [
            "Primeiro nome: FERNANDO. Nomes do meio: . Último nome: .\n"
          ]
        }
      ]
    },
    {
      "cell_type": "markdown",
      "source": [
        "# Aula 03"
      ],
      "metadata": {
        "id": "FlXgVURdRfJJ"
      }
    },
    {
      "cell_type": "code",
      "source": [
        "a = 10\n",
        "b = 10\n",
        "if a == b:\n",
        "  print(\"Iguais\")\n",
        "else:\n",
        "  print(\"Diferentes\")\n",
        "print(\"Bom dia\")\n",
        "\n",
        "if a is b:\n",
        "  print(\"Iguais\")\n",
        "else:\n",
        "  print(\"Diferentes\")  "
      ],
      "metadata": {
        "colab": {
          "base_uri": "https://localhost:8080/"
        },
        "id": "viFq6lFTRhKa",
        "outputId": "32aa579e-c599-4bee-e43d-99b7cd54bf3c"
      },
      "execution_count": 30,
      "outputs": [
        {
          "output_type": "stream",
          "name": "stdout",
          "text": [
            "Iguais\n",
            "Bom dia\n",
            "Iguais\n"
          ]
        }
      ]
    },
    {
      "cell_type": "code",
      "source": [
        "c = True\n",
        "if not c:\n",
        "  print(\"a\")\n",
        "else:\n",
        "  print(\"b\")"
      ],
      "metadata": {
        "colab": {
          "base_uri": "https://localhost:8080/"
        },
        "id": "rMS6bjwbb40x",
        "outputId": "77996357-dd6f-40e2-fb02-69449b693fa5"
      },
      "execution_count": 34,
      "outputs": [
        {
          "output_type": "stream",
          "name": "stdout",
          "text": [
            "b\n"
          ]
        }
      ]
    },
    {
      "cell_type": "code",
      "source": [
        "a = 12\n",
        "if a < 10:\n",
        "  print(\"a\")\n",
        "elif a == 10:\n",
        "  print(\"b\")\n",
        "elif a == 11:\n",
        "  print(\"c\")\n",
        "else:\n",
        "  print(\"d\")"
      ],
      "metadata": {
        "colab": {
          "base_uri": "https://localhost:8080/"
        },
        "id": "WbFZAtU4dQ6o",
        "outputId": "ec918b91-d0c0-4156-b5a4-6146da8e3657"
      },
      "execution_count": 37,
      "outputs": [
        {
          "output_type": "stream",
          "name": "stdout",
          "text": [
            "d\n"
          ]
        }
      ]
    },
    {
      "cell_type": "code",
      "source": [
        "a = 100\n",
        "if a >= 50:\n",
        "  print(\"maior ou igual a 50\")\n",
        "elif a < 200:\n",
        "  print(\"menor que 200\")\n",
        "  #Não vai entrar\n",
        "else:\n",
        "  print(\"outros\")"
      ],
      "metadata": {
        "colab": {
          "base_uri": "https://localhost:8080/"
        },
        "id": "O4GTwBWcdyJP",
        "outputId": "670dd405-975e-49bc-86a7-dcacc9a8f9ee"
      },
      "execution_count": 39,
      "outputs": [
        {
          "output_type": "stream",
          "name": "stdout",
          "text": [
            "maior ou igual a 50\n",
            "menor que 200\n"
          ]
        }
      ]
    },
    {
      "cell_type": "code",
      "source": [
        "nome = \"Fernando\"\n",
        "letra = \"r\"\n",
        "if nome == \"Fernando\":\n",
        "  print(\"a\")\n",
        "\n",
        "if letra in nome: \n",
        "  print(f\"A letra {letra} está em {nome}\")\n",
        "else: \n",
        "  print(f\"A letra {letra} não está em {nome}\")"
      ],
      "metadata": {
        "colab": {
          "base_uri": "https://localhost:8080/"
        },
        "id": "1i7UZfrqeaYF",
        "outputId": "5b933621-6625-440b-8725-79b1e000785e"
      },
      "execution_count": 47,
      "outputs": [
        {
          "output_type": "stream",
          "name": "stdout",
          "text": [
            "a\n",
            "A letra r está em Fernando\n"
          ]
        }
      ]
    },
    {
      "cell_type": "code",
      "source": [
        "if a != 10:\n",
        "  print(\"aaa\")"
      ],
      "metadata": {
        "colab": {
          "base_uri": "https://localhost:8080/",
          "height": 131
        },
        "id": "d0WLkhgufAV4",
        "outputId": "ac476074-80b8-4b29-e455-81776e01564c"
      },
      "execution_count": 48,
      "outputs": [
        {
          "output_type": "error",
          "ename": "SyntaxError",
          "evalue": "ignored",
          "traceback": [
            "\u001b[0;36m  File \u001b[0;32m\"<ipython-input-48-c4b5d4ff135c>\"\u001b[0;36m, line \u001b[0;32m1\u001b[0m\n\u001b[0;31m    if a <> 10:\u001b[0m\n\u001b[0m          ^\u001b[0m\n\u001b[0;31mSyntaxError\u001b[0m\u001b[0;31m:\u001b[0m invalid syntax\n"
          ]
        }
      ]
    },
    {
      "cell_type": "code",
      "source": [
        ""
      ],
      "metadata": {
        "id": "eqOuSQPFnjWl"
      },
      "execution_count": null,
      "outputs": []
    }
  ]
}