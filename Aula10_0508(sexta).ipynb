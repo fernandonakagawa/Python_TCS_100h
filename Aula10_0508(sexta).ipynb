{
  "nbformat": 4,
  "nbformat_minor": 0,
  "metadata": {
    "colab": {
      "name": "Aula10_0508(sexta).ipynb",
      "provenance": [],
      "collapsed_sections": [],
      "authorship_tag": "ABX9TyM5tJKlKl97uYH/6VXfbgPV",
      "include_colab_link": true
    },
    "kernelspec": {
      "name": "python3",
      "display_name": "Python 3"
    },
    "language_info": {
      "name": "python"
    }
  },
  "cells": [
    {
      "cell_type": "markdown",
      "metadata": {
        "id": "view-in-github",
        "colab_type": "text"
      },
      "source": [
        "<a href=\"https://colab.research.google.com/github/fernandonakagawa/Python_TCS_100h/blob/main/Aula10_0508(sexta).ipynb\" target=\"_parent\"><img src=\"https://colab.research.google.com/assets/colab-badge.svg\" alt=\"Open In Colab\"/></a>"
      ]
    },
    {
      "cell_type": "markdown",
      "source": [
        "# Atividade 09"
      ],
      "metadata": {
        "id": "p1zkAWisqJtO"
      }
    },
    {
      "cell_type": "markdown",
      "source": [
        "tenha como entrada um número e exiba o seu quadrado."
      ],
      "metadata": {
        "id": "0m4O7FB3sIX7"
      }
    },
    {
      "cell_type": "code",
      "execution_count": null,
      "metadata": {
        "colab": {
          "base_uri": "https://localhost:8080/"
        },
        "id": "IFQCdoZZLaA8",
        "outputId": "092ac42c-b208-4990-8883-9e8caf4c073c"
      },
      "outputs": [
        {
          "output_type": "stream",
          "name": "stdout",
          "text": [
            "25\n"
          ]
        }
      ],
      "source": [
        "def quadrado(n):\n",
        "  print(n**2)\n",
        "quadrado(5)"
      ]
    },
    {
      "cell_type": "code",
      "source": [
        "def quadrado_retorno(n):\n",
        "  return(n**2)\n",
        "x = quadrado_retorno(5)\n",
        "print(x)"
      ],
      "metadata": {
        "colab": {
          "base_uri": "https://localhost:8080/"
        },
        "id": "V-ON4FSDsijk",
        "outputId": "69f1bf96-b934-46d3-a26f-f4a7951c891d"
      },
      "execution_count": null,
      "outputs": [
        {
          "output_type": "stream",
          "name": "stdout",
          "text": [
            "25\n"
          ]
        }
      ]
    },
    {
      "cell_type": "markdown",
      "source": [
        "Ler 3 valores e escrever o maior deles."
      ],
      "metadata": {
        "id": "F7UB338tsTjN"
      }
    },
    {
      "cell_type": "code",
      "source": [
        "def ler_numeros(qtd):\n",
        "  numeros = []\n",
        "  for i in range(qtd):\n",
        "    n = int(input(f\"Digite o número {i+1}: \"))\n",
        "    numeros.append(n)\n",
        "  return numeros\n",
        "\n",
        "def maior(numeros):\n",
        "  n_maior = None\n",
        "  for n in numeros:\n",
        "    if n_maior == None: n_maior = n\n",
        "    elif n_maior < n: n_maior = n\n",
        "  return n_maior\n",
        "\n",
        "numeros = ler_numeros(3)\n",
        "x = maior(numeros)\n",
        "print(x)\n"
      ],
      "metadata": {
        "colab": {
          "base_uri": "https://localhost:8080/"
        },
        "id": "nOArTDTNt-dD",
        "outputId": "1fcad472-8326-4861-b8e2-f76ae0f61559"
      },
      "execution_count": null,
      "outputs": [
        {
          "output_type": "stream",
          "name": "stdout",
          "text": [
            "Digite o número 1: 8\n",
            "Digite o número 2: 3\n",
            "Digite o número 3: 6\n",
            "8\n"
          ]
        }
      ]
    },
    {
      "cell_type": "markdown",
      "source": [
        "leia do teclado as dimensões de um retângulo (base e\n",
        "altura), calcular e escrever a área do retângulo. (Valores\n",
        "inválidos: 0 e números negativos)."
      ],
      "metadata": {
        "id": "ZnjIkLm3vn4L"
      }
    },
    {
      "cell_type": "code",
      "source": [
        "def area_retangulo():\n",
        "  base = 0\n",
        "  altura = 0\n",
        "\n",
        "  while base <= 0 or altura <= 0:\n",
        "    base = float(input(\"Digite o valor da base: \"))\n",
        "    altura = float(input(\"Digite o valor da altura: \"))\n",
        "    if base <= 0 or altura <= 0:\n",
        "      print(\"Valores inválidos.\")\n",
        "    else:\n",
        "      area = base * altura\n",
        "      print(f\"A área do retângulo é de {area}\")\n",
        "\n",
        "area_retangulo()"
      ],
      "metadata": {
        "id": "6k4DKHFBvo5G",
        "colab": {
          "base_uri": "https://localhost:8080/"
        },
        "outputId": "38f078c8-b349-45af-9cb6-97d81025240a"
      },
      "execution_count": 4,
      "outputs": [
        {
          "output_type": "stream",
          "name": "stdout",
          "text": [
            "Digite o valor da base: 10\n",
            "Digite o valor da altura: 20\n",
            "A área do retângulo é de 200.0\n"
          ]
        }
      ]
    },
    {
      "cell_type": "code",
      "source": [
        "def area_retangulo(base = 0, altura = 0):\n",
        "  while base <= 0 or altura <= 0:\n",
        "    base = float(input(\"Digite o valor da base: \"))\n",
        "    altura = float(input(\"Digite o valor da altura: \"))\n",
        "    if base <= 0 or altura <= 0:\n",
        "      print(\"Valores inválidos.\")\n",
        "    else:\n",
        "      area = base * altura\n",
        "      print(f\"A área do retângulo é de {area}\")\n",
        "\n",
        "area_retangulo()"
      ],
      "metadata": {
        "id": "MuFQ6piLw3fY"
      },
      "execution_count": null,
      "outputs": []
    },
    {
      "cell_type": "code",
      "source": [
        "def ler_area_retangulo(base = 0, altura = 0):\n",
        "  while base <= 0 or altura <= 0:\n",
        "    base = float(input(\"Digite o valor da base: \"))\n",
        "    altura = float(input(\"Digite o valor da altura: \"))\n",
        "    if base <= 0 or altura <= 0:\n",
        "      print(\"Valores inválidos.\")\n",
        "  return base, altura\n",
        "\n",
        "def area_retangulo(base = 0, altura = 0):\n",
        "  if base <= 0 or altura <= 0:\n",
        "    print(\"Valores inválidos.\")\n",
        "  else:\n",
        "    area = base * altura\n",
        "    return area\n",
        "\n",
        "base, altura = ler_area_retangulo()\n",
        "area = area_retangulo(base, altura)\n",
        "if area is not None:  \n",
        "  print(f\"A área do retângulo é de {area}\")"
      ],
      "metadata": {
        "colab": {
          "base_uri": "https://localhost:8080/"
        },
        "id": "-3F9f9xVxDpJ",
        "outputId": "debdfc6c-8b46-4b49-d05e-b0a1dec0efc4"
      },
      "execution_count": 11,
      "outputs": [
        {
          "output_type": "stream",
          "name": "stdout",
          "text": [
            "Digite o valor da base: 2\n",
            "Digite o valor da altura: 4\n",
            "A área do retângulo é de 8.0\n"
          ]
        }
      ]
    },
    {
      "cell_type": "markdown",
      "source": [
        "Um trabalhador trabalha 40 horas por semana. Escreva um algoritmo\n",
        "que leia o número de horas trabalhadas em cada semana de um mês,\n",
        "o salário por hora e escreva o salário total do mês do\n",
        "funcionário (considere que o mês possua 4 semanas exatas).\n",
        "Considere que o trabalhador que trabalhar mais de 40 horas em uma\n",
        "semana, recebe hora extra de 50% nas horas que foram trabalhadas\n",
        "a mais. O número de horas por semana não pode ser negativo e não\n",
        "pode ultrapassar 50 horas por semana."
      ],
      "metadata": {
        "id": "-pKe9_yYzoj8"
      }
    },
    {
      "cell_type": "code",
      "source": [
        "horas = [-1, -1, -1, -1]\n",
        "salario_semana = [0,0,0,0]\n",
        "\n",
        "valor_hora = float(input(\"Digite o valor do salário por hora: \"))\n",
        "for n_semana in range(4):\n",
        "  while horas[n_semana] < 0 or horas[n_semana] > 50:\n",
        "    horas[n_semana] = int(input(f\"Digite a quantidade de horas trabalhadas na semana {n_semana + 1}:\"))\n",
        "    if horas[n_semana] < 0 or horas[n_semana] > 50: print(\"Quantidade de horas inválida. Digite novamente\")\n",
        "    else:\n",
        "      if horas[n_semana] <= 40: salario_semana[n_semana] = valor_hora * horas[n_semana]\n",
        "      else: \n",
        "        salario_semana[n_semana] = valor_hora * 40\n",
        "        salario_semana[n_semana] += (horas[n_semana] - 40) * (valor_hora + valor_hora * 0.5)\n",
        "\n",
        "salario_mes = 0\n",
        "for n_semana in range(4):\n",
        "  salario_mes += salario_semana[n_semana]\n",
        "print(f\"O salário do mês é de R$ {salario_mes}\")"
      ],
      "metadata": {
        "id": "sQZAB19DvjQx"
      },
      "execution_count": null,
      "outputs": []
    },
    {
      "cell_type": "code",
      "source": [
        "def ler_horas_trabalhadas_mes(horas = [-1, -1, -1, -1]):\n",
        "  for n_semana in range(4):\n",
        "    while horas[n_semana] < 0 or horas[n_semana] > 50:\n",
        "      horas[n_semana] = int(input(f\"Digite a quantidade de horas trabalhadas na semana {n_semana + 1}:\"))\n",
        "      if horas[n_semana] < 0 or horas[n_semana] > 50: print(\"Quantidade de horas inválida. Digite novamente\")\n",
        "  return horas\n",
        "\n",
        "def calcular_salario():\n",
        "  horas = ler_horas_trabalhadas_mes()\n",
        "  salario_semana = [0,0,0,0]\n",
        "  valor_hora = float(input(\"Digite o valor do salário por hora: \"))\n",
        "  for n_semana in range( len(horas) ):\n",
        "    if horas[n_semana] <= 40: salario_semana[n_semana] = valor_hora * horas[n_semana]\n",
        "    else: \n",
        "      salario_semana[n_semana] = valor_hora * 40\n",
        "      salario_semana[n_semana] += (horas[n_semana] - 40) * (valor_hora + valor_hora * 0.5)\n",
        "  salario_mes = 0\n",
        "  for n_semana in range(4):\n",
        "    salario_mes += salario_semana[n_semana]\n",
        "  return salario_mes\n",
        "\n",
        "print(f\"O salário do mês é de R$ {calcular_salario()}\")"
      ],
      "metadata": {
        "id": "Y-ITvYbuqKoZ",
        "colab": {
          "base_uri": "https://localhost:8080/"
        },
        "outputId": "bbccb3b3-448d-47c6-e7b6-77a77bf3ca4f"
      },
      "execution_count": 12,
      "outputs": [
        {
          "name": "stdout",
          "output_type": "stream",
          "text": [
            "Digite a quantidade de horas trabalhadas na semana 1:-1\n",
            "Quantidade de horas inválida. Digite novamente\n",
            "Digite a quantidade de horas trabalhadas na semana 1:60\n",
            "Quantidade de horas inválida. Digite novamente\n",
            "Digite a quantidade de horas trabalhadas na semana 1:40\n",
            "Digite a quantidade de horas trabalhadas na semana 2:30\n",
            "Digite a quantidade de horas trabalhadas na semana 3:51\n",
            "Quantidade de horas inválida. Digite novamente\n",
            "Digite a quantidade de horas trabalhadas na semana 3:50\n",
            "Digite a quantidade de horas trabalhadas na semana 4:50\n",
            "Digite o valor do salário por hora: 100\n"
          ]
        },
        {
          "output_type": "execute_result",
          "data": {
            "text/plain": [
              "18000.0"
            ]
          },
          "metadata": {},
          "execution_count": 12
        }
      ]
    },
    {
      "cell_type": "markdown",
      "source": [
        "receba 5 números por parâmetro e retorne uma lista com estes\n",
        "números em ordem crescente."
      ],
      "metadata": {
        "id": "YzMtpncM2g1o"
      }
    },
    {
      "cell_type": "code",
      "source": [
        "def ordem_crescente(numeros):\n",
        "  numeros.sort()\n",
        "  return numeros\n",
        "\n",
        "x = ordem_crescente([2,7,4,5,6])\n",
        "print(x)"
      ],
      "metadata": {
        "id": "xFkVcs3qqKtV",
        "colab": {
          "base_uri": "https://localhost:8080/"
        },
        "outputId": "bebb5fda-43a8-45a7-b258-0ff81502f281"
      },
      "execution_count": 17,
      "outputs": [
        {
          "output_type": "stream",
          "name": "stdout",
          "text": [
            "[2, 4, 5, 6, 7]\n"
          ]
        }
      ]
    },
    {
      "cell_type": "markdown",
      "source": [
        "receba dois floats. O primeiro parâmetro deve ser chamado de\n",
        "valorEmReal e o segundo parâmetro deve ser chamado juros.\n",
        "Retornar o valorEmReal acrescido da taxa de juros."
      ],
      "metadata": {
        "id": "cMxxjYY_6EVB"
      }
    },
    {
      "cell_type": "code",
      "source": [
        "def calcular_juros(valor_em_real, juros):\n",
        "  return (valor_em_real + (valor_em_real * juros))\n",
        "\n",
        "calcular_juros(1000, 0.01)"
      ],
      "metadata": {
        "id": "CMjJrrGEqKxv",
        "colab": {
          "base_uri": "https://localhost:8080/"
        },
        "outputId": "73420623-f1ad-45d6-c0cd-be538bad3546"
      },
      "execution_count": 19,
      "outputs": [
        {
          "output_type": "execute_result",
          "data": {
            "text/plain": [
              "1010.0"
            ]
          },
          "metadata": {},
          "execution_count": 19
        }
      ]
    },
    {
      "cell_type": "markdown",
      "source": [
        "# Aula 10"
      ],
      "metadata": {
        "id": "mKmc8T2JL-CS"
      }
    },
    {
      "cell_type": "markdown",
      "source": [
        "## Try, except, else, finally e raise"
      ],
      "metadata": {
        "id": "54s6yYXgv4Ab"
      }
    },
    {
      "cell_type": "code",
      "source": [
        "def conversao(string, base=10):\n",
        "  try:\n",
        "    return True, int(string, base=base)\n",
        "  except ValueError:\n",
        "    return False, None\n",
        "\n",
        "conversao(\"4\")"
      ],
      "metadata": {
        "colab": {
          "base_uri": "https://localhost:8080/"
        },
        "id": "S1yBRyUbv3Dq",
        "outputId": "f6244499-3eee-47ea-eea5-e1e2a83c56dc"
      },
      "execution_count": 21,
      "outputs": [
        {
          "output_type": "execute_result",
          "data": {
            "text/plain": [
              "(True, 4)"
            ]
          },
          "metadata": {},
          "execution_count": 21
        }
      ]
    },
    {
      "cell_type": "code",
      "source": [
        "resultado, valor = conversao(\"99\")\n",
        "print(f\"{resultado}, {valor}\")"
      ],
      "metadata": {
        "colab": {
          "base_uri": "https://localhost:8080/"
        },
        "id": "WKC435mhsO1V",
        "outputId": "ac2cb805-70ed-454f-d2fa-2bea0d873573"
      },
      "execution_count": 22,
      "outputs": [
        {
          "output_type": "stream",
          "name": "stdout",
          "text": [
            "True, 99\n"
          ]
        }
      ]
    },
    {
      "cell_type": "code",
      "source": [
        "x = int(input(\"Digite um número: \"))"
      ],
      "metadata": {
        "colab": {
          "base_uri": "https://localhost:8080/",
          "height": 183
        },
        "id": "vKeDCDhI7nLN",
        "outputId": "bc78b57b-96d2-4ccb-d42e-f6b175681b0a"
      },
      "execution_count": 25,
      "outputs": [
        {
          "name": "stdout",
          "output_type": "stream",
          "text": [
            "Digite um número: a\n"
          ]
        },
        {
          "output_type": "error",
          "ename": "ValueError",
          "evalue": "ignored",
          "traceback": [
            "\u001b[0;31m---------------------------------------------------------------------------\u001b[0m",
            "\u001b[0;31mValueError\u001b[0m                                Traceback (most recent call last)",
            "\u001b[0;32m<ipython-input-25-bb5be8a5aa4b>\u001b[0m in \u001b[0;36m<module>\u001b[0;34m()\u001b[0m\n\u001b[0;32m----> 1\u001b[0;31m \u001b[0mx\u001b[0m \u001b[0;34m=\u001b[0m \u001b[0mint\u001b[0m\u001b[0;34m(\u001b[0m\u001b[0minput\u001b[0m\u001b[0;34m(\u001b[0m\u001b[0;34m\"Digite um número: \"\u001b[0m\u001b[0;34m)\u001b[0m\u001b[0;34m)\u001b[0m\u001b[0;34m\u001b[0m\u001b[0;34m\u001b[0m\u001b[0m\n\u001b[0m",
            "\u001b[0;31mValueError\u001b[0m: invalid literal for int() with base 10: 'a'"
          ]
        }
      ]
    },
    {
      "cell_type": "code",
      "source": [
        "try:\n",
        "  x = int(input(\"Digite um número: \"))\n",
        "except:\n",
        "  print(\"Valor não pode ser convertido!\")"
      ],
      "metadata": {
        "colab": {
          "base_uri": "https://localhost:8080/"
        },
        "id": "fLZb3bqH7OHc",
        "outputId": "e85d655f-8e6b-47c5-b41c-07e36ee4b7df"
      },
      "execution_count": 24,
      "outputs": [
        {
          "output_type": "stream",
          "name": "stdout",
          "text": [
            "Digite um número: abc\n",
            "Valor não pode ser convertido!\n"
          ]
        }
      ]
    },
    {
      "cell_type": "code",
      "source": [
        "while True:\n",
        "  try:\n",
        "      x = int(input(\"Digite um número: \"))\n",
        "      break\n",
        "  except ValueError:\n",
        "      print(\"Erro. Digite novamente\")\n",
        "        "
      ],
      "metadata": {
        "colab": {
          "base_uri": "https://localhost:8080/"
        },
        "id": "rKz9hCWHw2AH",
        "outputId": "1a0afb97-d596-4a4c-b69d-1f00daa6cb26"
      },
      "execution_count": 26,
      "outputs": [
        {
          "name": "stdout",
          "output_type": "stream",
          "text": [
            "Digite um número: a\n",
            "Erro. Digite novamente\n",
            "Digite um número: 1a\n",
            "Erro. Digite novamente\n",
            "Digite um número: 2\n"
          ]
        }
      ]
    },
    {
      "cell_type": "code",
      "source": [
        "while True:\n",
        "  try:\n",
        "    x = float(input(\"Digite um número: \"))\n",
        "    if x < 0: \n",
        "      raise Exception(\"Valor inválido.\")\n",
        "    break\n",
        "  except ValueError:\n",
        "    print(\"Erro. Digite novamente\")\n",
        "  except:\n",
        "    print(\"Valor inválido. Digite novamente.\")\n",
        "  else: \n",
        "    print(f\"Tudo certo. O número digitado é {x}\")\n",
        "  finally:\n",
        "    print(\"fim.\")\n",
        "  print(\"fim while\")\n",
        "print(\"fim do programa\")"
      ],
      "metadata": {
        "colab": {
          "base_uri": "https://localhost:8080/"
        },
        "id": "NBpW3tO-xyKM",
        "outputId": "2d0c537a-61f4-4c35-b327-f6924449b57e"
      },
      "execution_count": 4,
      "outputs": [
        {
          "output_type": "stream",
          "name": "stdout",
          "text": [
            "Digite um número: 2\n",
            "fim.\n"
          ]
        }
      ]
    },
    {
      "cell_type": "code",
      "source": [
        "\n",
        "try:\n",
        "  while True:\n",
        "    x = float(input(\"Digite um número: \"))\n",
        "    if x < 0: \n",
        "      raise Exception(\"Valor inválido.\")\n",
        "    break\n",
        "except ValueError:\n",
        "  print(\"Erro. Digite novamente\")\n",
        "except:\n",
        "  print(\"Valor inválido. Digite novamente.\")\n",
        "else: \n",
        "  print(f\"Tudo certo. O número digitado é {x}\")\n",
        "finally:\n",
        "  print(\"fim.\")\n",
        "\n",
        "print(\"fim do programa\")"
      ],
      "metadata": {
        "colab": {
          "base_uri": "https://localhost:8080/"
        },
        "id": "eG2H9f0c-kUh",
        "outputId": "be6f8135-cfef-4796-d926-c07778997339"
      },
      "execution_count": 9,
      "outputs": [
        {
          "output_type": "stream",
          "name": "stdout",
          "text": [
            "Digite um número: -1\n",
            "Valor inválido. Digite novamente.\n",
            "fim.\n",
            "fim do programa\n"
          ]
        }
      ]
    },
    {
      "cell_type": "code",
      "source": [
        "try:\n",
        "  x = float(input(\"Digite um número: \"))\n",
        "  if x < 0: \n",
        "    raise Exception(\"Valor inválido.\")\n",
        "except ValueError:\n",
        "  print(\"Erro. Digite novamente\")\n",
        "except:\n",
        "  print(\"Valor inválido. Digite novamente.\")\n",
        "else: #quando o try funciona\n",
        "  print(f\"Tudo certo. O número digitado é {x}\")\n",
        "finally:\n",
        "  print(\"fim.\")\n",
        "print(\"fim do programa\")"
      ],
      "metadata": {
        "colab": {
          "base_uri": "https://localhost:8080/"
        },
        "id": "9NrC8nI_zq_O",
        "outputId": "ad0ed6aa-d234-4f4f-c58f-53de8dee2f67"
      },
      "execution_count": 6,
      "outputs": [
        {
          "output_type": "stream",
          "name": "stdout",
          "text": [
            "Digite um número: -1\n",
            "Valor inválido. Digite novamente.\n",
            "fim.\n",
            "fim do programa\n"
          ]
        }
      ]
    },
    {
      "cell_type": "code",
      "source": [
        ""
      ],
      "metadata": {
        "id": "8Std5ujY_skc"
      },
      "execution_count": null,
      "outputs": []
    },
    {
      "cell_type": "code",
      "source": [
        "x = \"2\"\n",
        "if type(x) is not int:\n",
        "  raise TypeError(\"x não é inteiro\")"
      ],
      "metadata": {
        "colab": {
          "base_uri": "https://localhost:8080/",
          "height": 200
        },
        "id": "1Z5_772EyXlB",
        "outputId": "afc0e312-fd4b-4fe3-806b-663b6c83a444"
      },
      "execution_count": 10,
      "outputs": [
        {
          "output_type": "error",
          "ename": "TypeError",
          "evalue": "ignored",
          "traceback": [
            "\u001b[0;31m---------------------------------------------------------------------------\u001b[0m",
            "\u001b[0;31mTypeError\u001b[0m                                 Traceback (most recent call last)",
            "\u001b[0;32m<ipython-input-10-9f7808aca4e8>\u001b[0m in \u001b[0;36m<module>\u001b[0;34m()\u001b[0m\n\u001b[1;32m      1\u001b[0m \u001b[0mx\u001b[0m \u001b[0;34m=\u001b[0m \u001b[0;34m\"2\"\u001b[0m\u001b[0;34m\u001b[0m\u001b[0;34m\u001b[0m\u001b[0m\n\u001b[1;32m      2\u001b[0m \u001b[0;32mif\u001b[0m \u001b[0mtype\u001b[0m\u001b[0;34m(\u001b[0m\u001b[0mx\u001b[0m\u001b[0;34m)\u001b[0m \u001b[0;32mis\u001b[0m \u001b[0;32mnot\u001b[0m \u001b[0mint\u001b[0m\u001b[0;34m:\u001b[0m\u001b[0;34m\u001b[0m\u001b[0;34m\u001b[0m\u001b[0m\n\u001b[0;32m----> 3\u001b[0;31m   \u001b[0;32mraise\u001b[0m \u001b[0mTypeError\u001b[0m\u001b[0;34m(\u001b[0m\u001b[0;34m\"x não é inteiro\"\u001b[0m\u001b[0;34m)\u001b[0m\u001b[0;34m\u001b[0m\u001b[0;34m\u001b[0m\u001b[0m\n\u001b[0m",
            "\u001b[0;31mTypeError\u001b[0m: x não é inteiro"
          ]
        }
      ]
    },
    {
      "cell_type": "code",
      "source": [
        "x = \"-2a\"\n",
        "try:\n",
        "  a = int(x)\n",
        "  if a < 0 : \n",
        "    raise TypeError(\"x é negativo\")\n",
        "except TypeError as e:\n",
        "  print(f\"Erro: {e}\")\n",
        "except ValueError as e:\n",
        "  print(e)\n",
        "\n",
        "print(a)"
      ],
      "metadata": {
        "colab": {
          "base_uri": "https://localhost:8080/"
        },
        "id": "ynnuIJWS_5O5",
        "outputId": "506a6a73-8927-4ab0-a78b-e0e7eab19239"
      },
      "execution_count": 19,
      "outputs": [
        {
          "output_type": "stream",
          "name": "stdout",
          "text": [
            "invalid literal for int() with base 10: '-2a'\n",
            "-2\n"
          ]
        }
      ]
    },
    {
      "cell_type": "markdown",
      "source": [
        "## Introdução a POO"
      ],
      "metadata": {
        "id": "OIoGyzlCL1WX"
      }
    },
    {
      "cell_type": "code",
      "source": [
        ""
      ],
      "metadata": {
        "id": "f4d3Lid-WwEp"
      },
      "execution_count": null,
      "outputs": []
    }
  ]
}