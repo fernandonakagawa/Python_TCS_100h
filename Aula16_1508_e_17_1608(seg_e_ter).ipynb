{
  "nbformat": 4,
  "nbformat_minor": 0,
  "metadata": {
    "colab": {
      "name": "Aula16_1508 e 17_1608(seg e ter).ipynb",
      "provenance": [],
      "collapsed_sections": [],
      "authorship_tag": "ABX9TyPHB8tm+nH0lkZ1WgOPomre",
      "include_colab_link": true
    },
    "kernelspec": {
      "name": "python3",
      "display_name": "Python 3"
    },
    "language_info": {
      "name": "python"
    }
  },
  "cells": [
    {
      "cell_type": "markdown",
      "metadata": {
        "id": "view-in-github",
        "colab_type": "text"
      },
      "source": [
        "<a href=\"https://colab.research.google.com/github/fernandonakagawa/Python_TCS_100h/blob/main/Aula16_1508_e_17_1608(seg_e_ter).ipynb\" target=\"_parent\"><img src=\"https://colab.research.google.com/assets/colab-badge.svg\" alt=\"Open In Colab\"/></a>"
      ]
    },
    {
      "cell_type": "markdown",
      "source": [
        "#Atividade 14"
      ],
      "metadata": {
        "id": "gR-yK2DNOjUk"
      }
    },
    {
      "cell_type": "markdown",
      "source": [
        "Você foi contratado por um banco internacional que irá abrir agências no Brasil. Logo você irá elaborar o\n",
        "sistema bancário que eles necessitarão para gerir as contas de seus futuros clientes. Considere as classes\n",
        "a seguir para realizar as atividades:"
      ],
      "metadata": {
        "id": "880q4G0XOmZu"
      }
    },
    {
      "cell_type": "code",
      "execution_count": 12,
      "metadata": {
        "id": "WGCKFAOoJ-Sp"
      },
      "outputs": [],
      "source": [
        "from abc import ABC, abstractmethod\n",
        "class Conta(ABC):\n",
        "  def __init__(self, agencia, numero, nome, cpf, valor = 0):\n",
        "    self.__agencia = agencia\n",
        "    self.__numero = numero\n",
        "    self.__nome = nome\n",
        "    self.__cpf = cpf\n",
        "    self.__valor = valor\n",
        "  def __str__(self):\n",
        "    s = f\"{Conta.tipo_str(self)} - Ag:{self.agencia}| Nº:{self.numero}| \"\n",
        "    s += f\"Nome: {self.nome}| Cpf: {self.cpf} | Valor: {self.valor}\"\n",
        "    return s\n",
        "  @abstractmethod\n",
        "  def sacar(self, quantia):\n",
        "    if quantia > self.valor: return False\n",
        "    else:\n",
        "      self.__valor -= quantia\n",
        "      return True\n",
        "\n",
        "  def depositar(self, quantia):\n",
        "    self.__valor += quantia\n",
        "    return True\n",
        "\n",
        "  def transferir(self, conta, quantia):\n",
        "    if self.sacar(quantia):\n",
        "      conta.depositar(quantia)\n",
        "      return True\n",
        "    return False\n",
        "\n",
        "\n",
        "  @property\n",
        "  def agencia(self): return self.__agencia\n",
        "  @property\n",
        "  def nome(self): return self.__nome\n",
        "  @property\n",
        "  def cpf(self): return self.__cpf\n",
        "  @property\n",
        "  def valor(self): return self.__valor\n",
        "  @property\n",
        "  def numero(self): return self.__numero\n",
        "  @agencia.setter\n",
        "  def agencia(self, value): self.__agencia = value\n",
        "  @valor.setter\n",
        "  def valor(self, value): self.__valor = value\n",
        "\n",
        "  @staticmethod\n",
        "  def tipo_str(conta):\n",
        "    if type(conta) == ContaCorrente: return \"Conta Corrente\"\n",
        "    elif type(conta) == ContaPoupanca: return \"Conta Poupança\"\n",
        "    elif type(conta) == ContaCorrenteEspecial: return \"Conta Corrente Especial\"\n",
        "    return type(conta)\n",
        "\n",
        "class ContaCorrente(Conta):\n",
        "  def __init__(self, agencia, numero, nome, cpf, valor = 0):\n",
        "    super().__init__(agencia, numero, nome, cpf, valor)\n",
        "  def sacar(self, quantia):\n",
        "    return super().sacar(quantia)\n",
        "\n",
        "class ContaPoupanca(Conta):\n",
        "  def __init__(self, agencia, numero, nome, cpf, juros, valor = 0):\n",
        "    super().__init__(agencia, numero, nome, cpf, valor)\n",
        "    self.__juros = juros\n",
        "  def sacar(self, quantia):\n",
        "    return super().sacar(quantia)\n",
        "  def render(self, meses):\n",
        "    for i in range(meses):\n",
        "      self.valor += self.valor * self.juros\n",
        "  @property\n",
        "  def juros(self): return self.__juros\n",
        "\n",
        "class ContaCorrenteEspecial(ContaCorrente):\n",
        "  def __init__(self, agencia, numero, nome, cpf, valor = 0, limite_cheque_especial = 0):\n",
        "    super().__init__(agencia, numero, nome, cpf, valor)\n",
        "    self.__limite = limite_cheque_especial\n",
        "  def sacar(self, quantia):\n",
        "    if quantia > self.valor + self.limite: return False\n",
        "    else:\n",
        "      self.valor -= quantia\n",
        "      return True\n",
        "  @property\n",
        "  def limite(self): return self.__limite\n",
        "\n",
        "class Agencia:\n",
        "\n",
        "  numero = 1\n",
        "  def __init__(self, numero_agencia):\n",
        "    self.__numero_agencia = numero_agencia\n",
        "    self.__contas = []\n",
        "  def __str__(self):\n",
        "    s = f\"---=== Agência {self.numero_agencia} ===---\\n\"\n",
        "    s += f\"Quantidade de contas: {len(self.__contas)}\\n\"\n",
        "    for conta in self.__contas:\n",
        "      s += f\"{conta}\\n\"\n",
        "    return s\n",
        "  def adicionar_conta(self, conta):\n",
        "    conta.agencia = self.numero_agencia\n",
        "    self.__contas.append(conta)\n",
        "    Agencia.numero += 1\n",
        "  def criar_conta(self, nome, cpf, valor = 0, tipo = None,\n",
        "                  juros = None, limite_cheque_especial = None):\n",
        "    agencia = self.numero_agencia\n",
        "    if tipo is None or tipo is ContaCorrente:\n",
        "      c = ContaCorrente(agencia, Agencia.numero, nome, cpf, valor)\n",
        "    elif tipo is ContaPoupanca:\n",
        "      c = ContaPoupanca(agencia, Agencia.numero, nome, cpf, juros, valor)\n",
        "    elif tipo is ContaCorrenteEspecial:\n",
        "      c = ContaCorrenteEspecial(agencia, Agencia.numero, nome, cpf, valor,\n",
        "                                limite_cheque_especial)\n",
        "    else:\n",
        "      raise Exception(\"Erro. Tipo não suportado.\")\n",
        "    self.adicionar_conta(c)\n",
        "    return c\n",
        "\n",
        "  def fechar_conta_numero(self, agencia, numero):\n",
        "    for conta in self.__contas:\n",
        "      if conta.agencia == agencia and conta.numero == numero:\n",
        "        self.__contas.remove(conta)\n",
        "        return True\n",
        "    return False\n",
        "\n",
        "  def fechar_conta_cpf(self, cpf):\n",
        "    for conta in self.__contas:\n",
        "      if conta.cpf == cpf:\n",
        "        self.__contas.remove(conta)\n",
        "        return True\n",
        "    return False\n",
        "\n",
        "  @property\n",
        "  def numero_agencia(self): return self.__numero_agencia"
      ]
    },
    {
      "cell_type": "code",
      "source": [
        "c = Conta(1, \"Fernando\", \"12312312310\", 100)\n",
        "c.sacar(101)"
      ],
      "metadata": {
        "colab": {
          "base_uri": "https://localhost:8080/",
          "height": 183
        },
        "id": "ew4zd3L_RRnf",
        "outputId": "3cd27063-2886-4781-ad71-54bb9d803a3f"
      },
      "execution_count": 2,
      "outputs": [
        {
          "output_type": "error",
          "ename": "TypeError",
          "evalue": "ignored",
          "traceback": [
            "\u001b[0;31m---------------------------------------------------------------------------\u001b[0m",
            "\u001b[0;31mTypeError\u001b[0m                                 Traceback (most recent call last)",
            "\u001b[0;32m<ipython-input-2-6b2e5be88ba5>\u001b[0m in \u001b[0;36m<module>\u001b[0;34m\u001b[0m\n\u001b[0;32m----> 1\u001b[0;31m \u001b[0mc\u001b[0m \u001b[0;34m=\u001b[0m \u001b[0mConta\u001b[0m\u001b[0;34m(\u001b[0m\u001b[0;36m1\u001b[0m\u001b[0;34m,\u001b[0m \u001b[0;34m\"Fernando\"\u001b[0m\u001b[0;34m,\u001b[0m \u001b[0;34m\"12312312310\"\u001b[0m\u001b[0;34m,\u001b[0m \u001b[0;36m100\u001b[0m\u001b[0;34m)\u001b[0m\u001b[0;34m\u001b[0m\u001b[0;34m\u001b[0m\u001b[0m\n\u001b[0m\u001b[1;32m      2\u001b[0m \u001b[0mc\u001b[0m\u001b[0;34m.\u001b[0m\u001b[0msacar\u001b[0m\u001b[0;34m(\u001b[0m\u001b[0;36m101\u001b[0m\u001b[0;34m)\u001b[0m\u001b[0;34m\u001b[0m\u001b[0;34m\u001b[0m\u001b[0m\n",
            "\u001b[0;31mTypeError\u001b[0m: Can't instantiate abstract class Conta with abstract methods sacar"
          ]
        }
      ]
    },
    {
      "cell_type": "code",
      "source": [
        "cc = ContaCorrente(1, 1, \"Fernando\", \"12312312310\", 100)\n",
        "cc.valor"
      ],
      "metadata": {
        "colab": {
          "base_uri": "https://localhost:8080/"
        },
        "id": "xeHd13YNRel4",
        "outputId": "d4971bfd-1b33-414f-bfec-046eb3fd15e3"
      },
      "execution_count": 2,
      "outputs": [
        {
          "output_type": "execute_result",
          "data": {
            "text/plain": [
              "100"
            ]
          },
          "metadata": {},
          "execution_count": 2
        }
      ]
    },
    {
      "cell_type": "code",
      "source": [
        "cp = ContaPoupanca(2, 1, \"Daniel\", \"12345678910\", 0.01, 10000)\n",
        "print(cp.valor)\n",
        "cp.render(3)\n",
        "print(cp.valor)\n",
        "print(cp)"
      ],
      "metadata": {
        "colab": {
          "base_uri": "https://localhost:8080/"
        },
        "id": "s2tZQir1Ttx-",
        "outputId": "0f198445-fefa-4591-a3e7-60a06836243c"
      },
      "execution_count": 3,
      "outputs": [
        {
          "output_type": "stream",
          "name": "stdout",
          "text": [
            "10000\n",
            "10303.01\n",
            "Conta Poupança - Ag:2| Nº:1| Nome: Daniel| Cpf: 12345678910 | Valor: 10303.01\n"
          ]
        }
      ]
    },
    {
      "cell_type": "code",
      "source": [
        "cce = ContaCorrenteEspecial(agencia = 1, numero = 3, nome = \"Eduardo\", \n",
        "                            cpf = \"12312345610\",\n",
        "                            valor = 10000, limite_cheque_especial = 1000)\n",
        "print(cce.valor)\n",
        "print(cce.sacar(8000))\n",
        "print(cce.valor)\n",
        "cce.depositar(500)\n",
        "print(cce.valor)\n",
        "print(cce.sacar(8000))\n",
        "print(cce.valor)\n",
        "print(cce.sacar(3000))\n",
        "print(cce.valor)"
      ],
      "metadata": {
        "colab": {
          "base_uri": "https://localhost:8080/"
        },
        "id": "ciHBD3CuVIgA",
        "outputId": "7f7a5110-b289-4318-9425-43c05100fe1e"
      },
      "execution_count": 4,
      "outputs": [
        {
          "output_type": "stream",
          "name": "stdout",
          "text": [
            "10000\n",
            "True\n",
            "2000\n",
            "2500\n",
            "False\n",
            "2500\n",
            "True\n",
            "-500\n"
          ]
        }
      ]
    },
    {
      "cell_type": "code",
      "source": [
        "a = Agencia(1)\n",
        "a.adicionar_conta(cc)\n",
        "a.criar_conta(nome = \"Diego\", cpf = \"145678902310\", valor = 0, tipo = ContaCorrenteEspecial,\n",
        "              limite_cheque_especial = 1000)\n",
        "c = a.criar_conta(nome = \"Karen\", cpf = \"145678902111\", valor = 0, tipo = ContaCorrente,\n",
        "              limite_cheque_especial = 1000)\n",
        "print(a)"
      ],
      "metadata": {
        "colab": {
          "base_uri": "https://localhost:8080/"
        },
        "id": "lQ9bs8p8W1Hn",
        "outputId": "f42cf757-e051-4880-f13f-c22c5da8aef3"
      },
      "execution_count": 5,
      "outputs": [
        {
          "output_type": "stream",
          "name": "stdout",
          "text": [
            "---=== Agência 1 ===---\n",
            "Quantidade de contas: 3\n",
            "Conta Corrente - Ag:1| Nº:1| Nome: Fernando| Cpf: 12312312310 | Valor: 100\n",
            "Conta Corrente Especial - Ag:1| Nº:2| Nome: Diego| Cpf: 145678902310 | Valor: 0\n",
            "Conta Corrente - Ag:1| Nº:3| Nome: Karen| Cpf: 145678902111 | Valor: 0\n",
            "\n"
          ]
        }
      ]
    },
    {
      "cell_type": "code",
      "source": [
        "a.criar_conta(nome = \"Renan\", cpf = \"145678555222\", valor = 0, tipo = ContaPoupanca)\n",
        "print(a)"
      ],
      "metadata": {
        "colab": {
          "base_uri": "https://localhost:8080/"
        },
        "id": "_P9WSsCXbZ3L",
        "outputId": "2444ed3f-def0-439f-d0ff-51c2fd5ef578"
      },
      "execution_count": 6,
      "outputs": [
        {
          "output_type": "stream",
          "name": "stdout",
          "text": [
            "---=== Agência 1 ===---\n",
            "Quantidade de contas: 4\n",
            "Conta Corrente - Ag:1| Nº:1| Nome: Fernando| Cpf: 12312312310 | Valor: 100\n",
            "Conta Corrente Especial - Ag:1| Nº:2| Nome: Diego| Cpf: 145678902310 | Valor: 0\n",
            "Conta Corrente - Ag:1| Nº:3| Nome: Karen| Cpf: 145678902111 | Valor: 0\n",
            "Conta Poupança - Ag:1| Nº:4| Nome: Renan| Cpf: 145678555222 | Valor: 0\n",
            "\n"
          ]
        }
      ]
    },
    {
      "cell_type": "code",
      "source": [
        "if a.fechar_conta_numero(1, 3): print(a)\n",
        "else: print(\"Não foi possível fechar a conta\")"
      ],
      "metadata": {
        "colab": {
          "base_uri": "https://localhost:8080/"
        },
        "id": "Ug0B5F6VYoKa",
        "outputId": "cd0976e4-c571-4a5d-fe20-65e95241c491"
      },
      "execution_count": 7,
      "outputs": [
        {
          "output_type": "stream",
          "name": "stdout",
          "text": [
            "---=== Agência 1 ===---\n",
            "Quantidade de contas: 3\n",
            "Conta Corrente - Ag:1| Nº:1| Nome: Fernando| Cpf: 12312312310 | Valor: 100\n",
            "Conta Corrente Especial - Ag:1| Nº:2| Nome: Diego| Cpf: 145678902310 | Valor: 0\n",
            "Conta Poupança - Ag:1| Nº:4| Nome: Renan| Cpf: 145678555222 | Valor: 0\n",
            "\n"
          ]
        }
      ]
    },
    {
      "cell_type": "code",
      "source": [
        "if a.fechar_conta_numero(1, 10): print(a)\n",
        "else: print(\"Não foi possível fechar a conta\")"
      ],
      "metadata": {
        "colab": {
          "base_uri": "https://localhost:8080/"
        },
        "id": "Ot5T37UtZESo",
        "outputId": "08bae4fb-0f73-4a0c-eeb2-9a3c2dec53ce"
      },
      "execution_count": 8,
      "outputs": [
        {
          "output_type": "stream",
          "name": "stdout",
          "text": [
            "Não foi possível fechar a conta\n"
          ]
        }
      ]
    },
    {
      "cell_type": "code",
      "source": [
        "if a.fechar_conta_cpf(\"145678555222\"): print(a)\n",
        "else: print(\"Não foi possível fechar a conta\")"
      ],
      "metadata": {
        "colab": {
          "base_uri": "https://localhost:8080/"
        },
        "id": "Q1lw7WNNZJzx",
        "outputId": "98d0d678-1876-421e-c5d0-318a7e737549"
      },
      "execution_count": 9,
      "outputs": [
        {
          "output_type": "stream",
          "name": "stdout",
          "text": [
            "---=== Agência 1 ===---\n",
            "Quantidade de contas: 2\n",
            "Conta Corrente - Ag:1| Nº:1| Nome: Fernando| Cpf: 12312312310 | Valor: 100\n",
            "Conta Corrente Especial - Ag:1| Nº:2| Nome: Diego| Cpf: 145678902310 | Valor: 0\n",
            "\n"
          ]
        }
      ]
    },
    {
      "cell_type": "code",
      "source": [
        "if a.fechar_conta_cpf(\"145678555223\"): print(a)\n",
        "else: print(\"Não foi possível fechar a conta\")"
      ],
      "metadata": {
        "colab": {
          "base_uri": "https://localhost:8080/"
        },
        "id": "oVKHz2XMZUAc",
        "outputId": "c5aa72f2-356a-4f56-d763-d19beb36122d"
      },
      "execution_count": 10,
      "outputs": [
        {
          "output_type": "stream",
          "name": "stdout",
          "text": [
            "Não foi possível fechar a conta\n"
          ]
        }
      ]
    },
    {
      "cell_type": "code",
      "source": [
        "cc.depositar(100)\n",
        "print(cc)\n",
        "print(cce)\n",
        "cc.transferir(cce, 100)\n",
        "print(cc)\n",
        "print(cce)"
      ],
      "metadata": {
        "colab": {
          "base_uri": "https://localhost:8080/"
        },
        "id": "hp-tfOZOZYkV",
        "outputId": "8f5d7a90-649a-4fc3-c985-7a40139362af"
      },
      "execution_count": 14,
      "outputs": [
        {
          "output_type": "stream",
          "name": "stdout",
          "text": [
            "<class '__main__.ContaCorrente'> - Ag:1| Nº:1| Nome: Fernando| Cpf: 12312312310 | Valor: 200\n",
            "<class '__main__.ContaCorrenteEspecial'> - Ag:1| Nº:3| Nome: Eduardo| Cpf: 12312345610 | Valor: -500\n",
            "cce 140331267111312\n",
            "<class '__main__.ContaCorrente'> - Ag:1| Nº:1| Nome: Fernando| Cpf: 12312312310 | Valor: 100\n",
            "<class '__main__.ContaCorrenteEspecial'> - Ag:1| Nº:3| Nome: Eduardo| Cpf: 12312345610 | Valor: -500\n"
          ]
        }
      ]
    },
    {
      "cell_type": "code",
      "source": [
        ""
      ],
      "metadata": {
        "id": "FH4J8DdvaAR_"
      },
      "execution_count": null,
      "outputs": []
    }
  ]
}