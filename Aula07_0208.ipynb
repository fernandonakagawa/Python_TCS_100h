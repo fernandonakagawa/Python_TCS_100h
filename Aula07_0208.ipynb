{
  "nbformat": 4,
  "nbformat_minor": 0,
  "metadata": {
    "colab": {
      "name": "Aula07_0208.ipynb",
      "provenance": [],
      "collapsed_sections": [],
      "toc_visible": true,
      "authorship_tag": "ABX9TyOKzallDqhabzvK6cPy3b1h",
      "include_colab_link": true
    },
    "kernelspec": {
      "name": "python3",
      "display_name": "Python 3"
    },
    "language_info": {
      "name": "python"
    }
  },
  "cells": [
    {
      "cell_type": "markdown",
      "metadata": {
        "id": "view-in-github",
        "colab_type": "text"
      },
      "source": [
        "<a href=\"https://colab.research.google.com/github/fernandonakagawa/Python_TCS_100h/blob/main/Aula07_0208.ipynb\" target=\"_parent\"><img src=\"https://colab.research.google.com/assets/colab-badge.svg\" alt=\"Open In Colab\"/></a>"
      ]
    },
    {
      "cell_type": "markdown",
      "source": [
        "# Atividade 06"
      ],
      "metadata": {
        "id": "hbVF8aDLNZBz"
      }
    },
    {
      "cell_type": "markdown",
      "source": [
        "leia do teclado uma temperatura em graus Fahrenheit e mostre\n",
        "na tela o seu valor convertido em Celsius. Lembrando que\n",
        "(c/5) = (f-32)/9. (Valores inválidos: menores que -457,69)."
      ],
      "metadata": {
        "id": "MEhoZvucQBlL"
      }
    },
    {
      "cell_type": "code",
      "execution_count": 3,
      "metadata": {
        "colab": {
          "base_uri": "https://localhost:8080/"
        },
        "id": "My5_Fm-eMecC",
        "outputId": "f8cf1faf-7f71-442b-f59a-c0ee8ad78233"
      },
      "outputs": [
        {
          "output_type": "stream",
          "name": "stdout",
          "text": [
            "Digite a temperatura em Fahrenheit: 50\n",
            "A temperatura de 50.0F em Celsius é de 10.0C.\n"
          ]
        }
      ],
      "source": [
        "while True:\n",
        "  tempF = float(input(\"Digite a temperatura em Fahrenheit: \"))\n",
        "  if tempF >= -457.69: break\n",
        "  else: print(\"Temperatura inválida, digite novamente.\")\n",
        "tempC = (tempF - 32) / 9 * 5\n",
        "print(f\"A temperatura de {tempF}F em Celsius é de {tempC}C.\")"
      ]
    },
    {
      "cell_type": "markdown",
      "source": [
        "leia do teclado uma temperatura em graus Celsius e mostre na\n",
        "tela o seu valor convertido em Kelvin. Lembrando que 0 grau\n",
        "Kelvin = -273,15 Celsius.(Valores inválidos: valores menores que -273,15)."
      ],
      "metadata": {
        "id": "Is5xnyfMRQQ-"
      }
    },
    {
      "cell_type": "code",
      "source": [
        "tempC = -300\n",
        "while tempC < -273.15:\n",
        "  tempC = float(input(\"Digite a temperatura em graus Celsius: \"))\n",
        "  if tempC < -273.15: \n",
        "    print(\"Temperatura inválida. Digite novamente. \")\n",
        "    continue\n",
        "  else:\n",
        "    tempK = tempC + 273.15\n",
        "print(\"A temperatura de {:.2f}C em Kelvin é de {:.2f}K.\".format(tempC, tempK))\n"
      ],
      "metadata": {
        "colab": {
          "base_uri": "https://localhost:8080/"
        },
        "id": "54NCSMsHRB8G",
        "outputId": "a4a40e03-47af-4641-c6a7-b281c172c6c3"
      },
      "execution_count": 6,
      "outputs": [
        {
          "output_type": "stream",
          "name": "stdout",
          "text": [
            "Digite a temperatura em graus Celsius: -5000\n",
            "Temperatura inválida. Digite novamente. \n",
            "Digite a temperatura em graus Celsius: 25\n",
            "A temperatura de 25.00C em Kelvin é de 298.15K.\n"
          ]
        }
      ]
    },
    {
      "cell_type": "markdown",
      "source": [
        "Para a7=0 enquanto a7 menor que 10, incrementando 1, insira\n",
        "um outro while aninhado internamente contendo para a8=0 até\n",
        "a8 menor que 10, incrementando 1, mostre na tela &quot;(a7,a8)&quot;."
      ],
      "metadata": {
        "id": "cgUVd1SzS4jp"
      }
    },
    {
      "cell_type": "code",
      "source": [
        "a7 = 0\n",
        "while a7 < 10:\n",
        "  a8 = 0\n",
        "  s = \"\"\n",
        "  while a8 < 10:\n",
        "    s += \"({},{}) \".format(a7,a8)\n",
        "    a8 += 1\n",
        "  a7 += 1\n",
        "  print(s)\n"
      ],
      "metadata": {
        "colab": {
          "base_uri": "https://localhost:8080/"
        },
        "id": "6GxfMxNzSd3J",
        "outputId": "8e15fe0e-abf4-4b55-e3a1-f79a5ed40b27"
      },
      "execution_count": 7,
      "outputs": [
        {
          "output_type": "stream",
          "name": "stdout",
          "text": [
            "(0,0) (0,1) (0,2) (0,3) (0,4) (0,5) (0,6) (0,7) (0,8) (0,9) \n",
            "(1,0) (1,1) (1,2) (1,3) (1,4) (1,5) (1,6) (1,7) (1,8) (1,9) \n",
            "(2,0) (2,1) (2,2) (2,3) (2,4) (2,5) (2,6) (2,7) (2,8) (2,9) \n",
            "(3,0) (3,1) (3,2) (3,3) (3,4) (3,5) (3,6) (3,7) (3,8) (3,9) \n",
            "(4,0) (4,1) (4,2) (4,3) (4,4) (4,5) (4,6) (4,7) (4,8) (4,9) \n",
            "(5,0) (5,1) (5,2) (5,3) (5,4) (5,5) (5,6) (5,7) (5,8) (5,9) \n",
            "(6,0) (6,1) (6,2) (6,3) (6,4) (6,5) (6,6) (6,7) (6,8) (6,9) \n",
            "(7,0) (7,1) (7,2) (7,3) (7,4) (7,5) (7,6) (7,7) (7,8) (7,9) \n",
            "(8,0) (8,1) (8,2) (8,3) (8,4) (8,5) (8,6) (8,7) (8,8) (8,9) \n",
            "(9,0) (9,1) (9,2) (9,3) (9,4) (9,5) (9,6) (9,7) (9,8) (9,9) \n"
          ]
        }
      ]
    },
    {
      "cell_type": "markdown",
      "source": [
        "Para a6=10 enquanto a6 maior ou igual a 0, decrementando 1,\n",
        "mostre na tela o seu número."
      ],
      "metadata": {
        "id": "Ntjy041_TfJY"
      }
    },
    {
      "cell_type": "code",
      "source": [
        "a6 = 10\n",
        "while a6 >= 0:\n",
        "  print(a6)\n",
        "  a6 -= 1"
      ],
      "metadata": {
        "colab": {
          "base_uri": "https://localhost:8080/"
        },
        "id": "J1L0o9rLTiSY",
        "outputId": "48edeaae-2441-460d-af21-8e5871c67b56"
      },
      "execution_count": 8,
      "outputs": [
        {
          "output_type": "stream",
          "name": "stdout",
          "text": [
            "10\n",
            "9\n",
            "8\n",
            "7\n",
            "6\n",
            "5\n",
            "4\n",
            "3\n",
            "2\n",
            "1\n",
            "0\n"
          ]
        }
      ]
    },
    {
      "cell_type": "markdown",
      "source": [
        "Para a5=0 enquanto a5 menor ou igual a 10, incrementando 1,\n",
        "mostre na tela o seu número multiplicado por 10."
      ],
      "metadata": {
        "id": "Eksg5d1YTtUx"
      }
    },
    {
      "cell_type": "code",
      "source": [
        "a5 = 0\n",
        "while a5 <= 10:\n",
        "  print(a5 * 10)\n",
        "  a5 += 1"
      ],
      "metadata": {
        "colab": {
          "base_uri": "https://localhost:8080/"
        },
        "id": "6rLbXXuWTqyh",
        "outputId": "b80179a8-dfc1-49af-e96f-ca33419daec3"
      },
      "execution_count": 9,
      "outputs": [
        {
          "output_type": "stream",
          "name": "stdout",
          "text": [
            "0\n",
            "10\n",
            "20\n",
            "30\n",
            "40\n",
            "50\n",
            "60\n",
            "70\n",
            "80\n",
            "90\n",
            "100\n"
          ]
        }
      ]
    },
    {
      "cell_type": "markdown",
      "source": [
        "Crie um vetor de int vetA com tamanho 5 e mostre na tela os\n",
        "valores de seus elementos;"
      ],
      "metadata": {
        "id": "jVzaLhenT3bf"
      }
    },
    {
      "cell_type": "code",
      "source": [
        "vetA = [10,20,30,40,50]\n",
        "for v in vetA:\n",
        "  print(v)"
      ],
      "metadata": {
        "colab": {
          "base_uri": "https://localhost:8080/"
        },
        "id": "GNZB0a-eT2PD",
        "outputId": "8e37e06e-c7c7-4185-9856-1b3e3700f59b"
      },
      "execution_count": 10,
      "outputs": [
        {
          "output_type": "stream",
          "name": "stdout",
          "text": [
            "10\n",
            "20\n",
            "30\n",
            "40\n",
            "50\n"
          ]
        }
      ]
    },
    {
      "cell_type": "markdown",
      "source": [
        "Considere a lista de compras de Joana e faça o que se pede:\n",
        "\n",
        "lista_de_compras = [“batata”, “arroz”, “feijão”, “macarrão”, “detergente”]\n",
        "\n",
        "i. Mostre na tela o tamanho da lista.\n",
        "\n",
        "ii. Joana descobriu que não precisa de arroz, mas sim de\n",
        "jiló. Realize a substituição do item.\n",
        "\n",
        "iii. Joana encontrou um detergente na sua cozinha, elimine\n",
        "o item.\n",
        "\n",
        "iv. Joana se lembrou que precisa de abacates. Realize a\n",
        "inserção do item na lista\n",
        "\n",
        "v. Mostre todos os itens de forma individual utilizando\n",
        "um comando FOR."
      ],
      "metadata": {
        "id": "g6rFMnSLUUUk"
      }
    },
    {
      "cell_type": "code",
      "source": [
        "lista_de_compras = [\"batata\", \"arroz\", \"feijão\", \"macarrão\", \"arroz\", \"detergente\"]\n",
        "lista_de_compras"
      ],
      "metadata": {
        "colab": {
          "base_uri": "https://localhost:8080/"
        },
        "id": "6SyLcV2zUGlZ",
        "outputId": "61cdd7e4-3f9d-45b0-d77b-f41a9f890ae9"
      },
      "execution_count": 18,
      "outputs": [
        {
          "output_type": "execute_result",
          "data": {
            "text/plain": [
              "['batata', 'arroz', 'feijão', 'macarrão', 'arroz', 'detergente']"
            ]
          },
          "metadata": {},
          "execution_count": 18
        }
      ]
    },
    {
      "cell_type": "code",
      "source": [
        "len(lista_de_compras)"
      ],
      "metadata": {
        "colab": {
          "base_uri": "https://localhost:8080/"
        },
        "id": "Fkkbh2S6UdSN",
        "outputId": "76f9210e-b07c-42fb-e64e-447c730cf7dc"
      },
      "execution_count": 13,
      "outputs": [
        {
          "output_type": "execute_result",
          "data": {
            "text/plain": [
              "5"
            ]
          },
          "metadata": {},
          "execution_count": 13
        }
      ]
    },
    {
      "cell_type": "code",
      "source": [
        "lista_de_compras[1] = \"jiló\""
      ],
      "metadata": {
        "id": "tyShJB6DUsWh"
      },
      "execution_count": null,
      "outputs": []
    },
    {
      "cell_type": "code",
      "source": [
        "i = lista_de_compras.index(\"arroz\")\n",
        "lista_de_compras[i] = \"jiló\"\n",
        "lista_de_compras"
      ],
      "metadata": {
        "colab": {
          "base_uri": "https://localhost:8080/"
        },
        "id": "I3Uy8sjJU5w8",
        "outputId": "34d3e21a-415e-4e4c-b3eb-67ce6bfefca9"
      },
      "execution_count": 16,
      "outputs": [
        {
          "output_type": "execute_result",
          "data": {
            "text/plain": [
              "['batata', 'jiló', 'feijão', 'macarrão', 'detergente']"
            ]
          },
          "metadata": {},
          "execution_count": 16
        }
      ]
    },
    {
      "cell_type": "code",
      "source": [
        "lista_de_compras.index(\"arroz\",1,5)"
      ],
      "metadata": {
        "colab": {
          "base_uri": "https://localhost:8080/"
        },
        "id": "AgRuNOBlVL5g",
        "outputId": "3e4dc7ed-9fb6-43fc-8c84-f1ce85745032"
      },
      "execution_count": 25,
      "outputs": [
        {
          "output_type": "execute_result",
          "data": {
            "text/plain": [
              "1"
            ]
          },
          "metadata": {},
          "execution_count": 25
        }
      ]
    },
    {
      "cell_type": "code",
      "source": [
        "lista_de_compras.count(\"arroz\")"
      ],
      "metadata": {
        "colab": {
          "base_uri": "https://localhost:8080/"
        },
        "id": "vM-L3JgmWY3L",
        "outputId": "1e28b098-c9ea-4e2d-aac9-8743feea37f3"
      },
      "execution_count": 22,
      "outputs": [
        {
          "output_type": "execute_result",
          "data": {
            "text/plain": [
              "2"
            ]
          },
          "metadata": {},
          "execution_count": 22
        }
      ]
    },
    {
      "cell_type": "code",
      "source": [
        "def all_index(lista, x):\n",
        "  res = []\n",
        "  for i in range( len(lista) ):\n",
        "    if lista[i] == x: res.append(i)\n",
        "  return res \n",
        "\n",
        "all_index(lista_de_compras, \"arroz\")"
      ],
      "metadata": {
        "colab": {
          "base_uri": "https://localhost:8080/"
        },
        "id": "i_SGMsWUWoeg",
        "outputId": "80b95f4a-e110-474a-b6d2-0d132617ac3f"
      },
      "execution_count": 26,
      "outputs": [
        {
          "output_type": "execute_result",
          "data": {
            "text/plain": [
              "[1, 4]"
            ]
          },
          "metadata": {},
          "execution_count": 26
        }
      ]
    },
    {
      "cell_type": "code",
      "source": [
        "lista_de_compras.remove(\"detergente\")\n",
        "lista_de_compras"
      ],
      "metadata": {
        "colab": {
          "base_uri": "https://localhost:8080/"
        },
        "id": "W2ZOlFv6XXqm",
        "outputId": "395266a3-e9a7-4664-bafe-f7e8efb2b145"
      },
      "execution_count": 27,
      "outputs": [
        {
          "output_type": "execute_result",
          "data": {
            "text/plain": [
              "['batata', 'arroz', 'feijão', 'macarrão', 'arroz']"
            ]
          },
          "metadata": {},
          "execution_count": 27
        }
      ]
    },
    {
      "cell_type": "code",
      "source": [
        "lista_de_compras.append(\"abacate\")\n",
        "lista_de_compras"
      ],
      "metadata": {
        "colab": {
          "base_uri": "https://localhost:8080/"
        },
        "id": "2EOLaHPwXoHk",
        "outputId": "f3fe29a6-1848-4faf-d611-a2e9bda806bb"
      },
      "execution_count": 28,
      "outputs": [
        {
          "output_type": "execute_result",
          "data": {
            "text/plain": [
              "['batata', 'arroz', 'feijão', 'macarrão', 'arroz', 'abacate']"
            ]
          },
          "metadata": {},
          "execution_count": 28
        }
      ]
    },
    {
      "cell_type": "code",
      "source": [
        "for x in lista_de_compras: print(x)"
      ],
      "metadata": {
        "colab": {
          "base_uri": "https://localhost:8080/"
        },
        "id": "BGh76qHvXugx",
        "outputId": "f4457304-2581-4442-de85-b8a7ee1a0ddd"
      },
      "execution_count": 29,
      "outputs": [
        {
          "output_type": "stream",
          "name": "stdout",
          "text": [
            "batata\n",
            "arroz\n",
            "feijão\n",
            "macarrão\n",
            "arroz\n",
            "abacate\n"
          ]
        }
      ]
    },
    {
      "cell_type": "markdown",
      "source": [
        "# Aula 07\n",
        "\n",
        "Material adicional:\n",
        "\n",
        "https://docs.python.org/3/tutorial/datastructures.html#"
      ],
      "metadata": {
        "id": "pF26vIaOX_tk"
      }
    },
    {
      "cell_type": "markdown",
      "source": [
        "## Tuplas"
      ],
      "metadata": {
        "id": "lWlwA7WkxJ8-"
      }
    },
    {
      "cell_type": "code",
      "source": [
        "tupla = (10,20,30,40)\n",
        "tupla"
      ],
      "metadata": {
        "colab": {
          "base_uri": "https://localhost:8080/"
        },
        "id": "ZO1wGOf3X0SY",
        "outputId": "59660e72-9cca-4c60-91f6-d13649f13d72"
      },
      "execution_count": 31,
      "outputs": [
        {
          "output_type": "execute_result",
          "data": {
            "text/plain": [
              "(10, 20, 30, 40)"
            ]
          },
          "metadata": {},
          "execution_count": 31
        }
      ]
    },
    {
      "cell_type": "code",
      "source": [
        "tupla.index(30)"
      ],
      "metadata": {
        "colab": {
          "base_uri": "https://localhost:8080/"
        },
        "id": "k-igbUyHYM0a",
        "outputId": "e03e87e2-59d9-4b5f-a6b5-4cd478786122"
      },
      "execution_count": 32,
      "outputs": [
        {
          "output_type": "execute_result",
          "data": {
            "text/plain": [
              "2"
            ]
          },
          "metadata": {},
          "execution_count": 32
        }
      ]
    },
    {
      "cell_type": "code",
      "source": [
        "tupla[2] = 300"
      ],
      "metadata": {
        "colab": {
          "base_uri": "https://localhost:8080/",
          "height": 166
        },
        "id": "h3NdocyjYTdT",
        "outputId": "15d33876-ba87-4d38-da7a-5d9b7f223a83"
      },
      "execution_count": 33,
      "outputs": [
        {
          "output_type": "error",
          "ename": "TypeError",
          "evalue": "ignored",
          "traceback": [
            "\u001b[0;31m---------------------------------------------------------------------------\u001b[0m",
            "\u001b[0;31mTypeError\u001b[0m                                 Traceback (most recent call last)",
            "\u001b[0;32m<ipython-input-33-f915b6600749>\u001b[0m in \u001b[0;36m<module>\u001b[0;34m()\u001b[0m\n\u001b[0;32m----> 1\u001b[0;31m \u001b[0mtupla\u001b[0m\u001b[0;34m[\u001b[0m\u001b[0;36m2\u001b[0m\u001b[0;34m]\u001b[0m \u001b[0;34m=\u001b[0m \u001b[0;36m300\u001b[0m\u001b[0;34m\u001b[0m\u001b[0;34m\u001b[0m\u001b[0m\n\u001b[0m",
            "\u001b[0;31mTypeError\u001b[0m: 'tuple' object does not support item assignment"
          ]
        }
      ]
    },
    {
      "cell_type": "code",
      "source": [
        "tupla[2]"
      ],
      "metadata": {
        "colab": {
          "base_uri": "https://localhost:8080/"
        },
        "id": "3IcDuhYfYWb8",
        "outputId": "80760ee8-68b1-4fcd-9ff8-6ea13ee15eeb"
      },
      "execution_count": 34,
      "outputs": [
        {
          "output_type": "execute_result",
          "data": {
            "text/plain": [
              "30"
            ]
          },
          "metadata": {},
          "execution_count": 34
        }
      ]
    },
    {
      "cell_type": "code",
      "source": [
        "tupla.append(50)\n",
        "tupla"
      ],
      "metadata": {
        "colab": {
          "base_uri": "https://localhost:8080/",
          "height": 183
        },
        "id": "as8-NXBoYddb",
        "outputId": "52527708-4b5b-4900-b912-a80149698b75"
      },
      "execution_count": 36,
      "outputs": [
        {
          "output_type": "error",
          "ename": "AttributeError",
          "evalue": "ignored",
          "traceback": [
            "\u001b[0;31m---------------------------------------------------------------------------\u001b[0m",
            "\u001b[0;31mAttributeError\u001b[0m                            Traceback (most recent call last)",
            "\u001b[0;32m<ipython-input-36-870aa4cf310e>\u001b[0m in \u001b[0;36m<module>\u001b[0;34m()\u001b[0m\n\u001b[0;32m----> 1\u001b[0;31m \u001b[0mtupla\u001b[0m\u001b[0;34m.\u001b[0m\u001b[0mappend\u001b[0m\u001b[0;34m(\u001b[0m\u001b[0;36m50\u001b[0m\u001b[0;34m)\u001b[0m\u001b[0;34m\u001b[0m\u001b[0;34m\u001b[0m\u001b[0m\n\u001b[0m\u001b[1;32m      2\u001b[0m \u001b[0mtupla\u001b[0m\u001b[0;34m\u001b[0m\u001b[0;34m\u001b[0m\u001b[0m\n",
            "\u001b[0;31mAttributeError\u001b[0m: 'tuple' object has no attribute 'append'"
          ]
        }
      ]
    },
    {
      "cell_type": "code",
      "source": [
        "tupla.remove(20)"
      ],
      "metadata": {
        "colab": {
          "base_uri": "https://localhost:8080/",
          "height": 166
        },
        "id": "dOkk4ejqYz_V",
        "outputId": "f20f7de3-a5cd-41e3-f359-0987afa8ea04"
      },
      "execution_count": 37,
      "outputs": [
        {
          "output_type": "error",
          "ename": "AttributeError",
          "evalue": "ignored",
          "traceback": [
            "\u001b[0;31m---------------------------------------------------------------------------\u001b[0m",
            "\u001b[0;31mAttributeError\u001b[0m                            Traceback (most recent call last)",
            "\u001b[0;32m<ipython-input-37-021c6101959f>\u001b[0m in \u001b[0;36m<module>\u001b[0;34m()\u001b[0m\n\u001b[0;32m----> 1\u001b[0;31m \u001b[0mtupla\u001b[0m\u001b[0;34m.\u001b[0m\u001b[0mremove\u001b[0m\u001b[0;34m(\u001b[0m\u001b[0;36m20\u001b[0m\u001b[0;34m)\u001b[0m\u001b[0;34m\u001b[0m\u001b[0;34m\u001b[0m\u001b[0m\n\u001b[0m",
            "\u001b[0;31mAttributeError\u001b[0m: 'tuple' object has no attribute 'remove'"
          ]
        }
      ]
    },
    {
      "cell_type": "code",
      "source": [
        "tupla.count(40)"
      ],
      "metadata": {
        "colab": {
          "base_uri": "https://localhost:8080/"
        },
        "id": "iNAvVNi1Y-Dj",
        "outputId": "027b4799-5743-4dee-a508-408afdbfee74"
      },
      "execution_count": 38,
      "outputs": [
        {
          "output_type": "execute_result",
          "data": {
            "text/plain": [
              "1"
            ]
          },
          "metadata": {},
          "execution_count": 38
        }
      ]
    },
    {
      "cell_type": "code",
      "source": [
        "lista = [tupla]\n",
        "lista"
      ],
      "metadata": {
        "colab": {
          "base_uri": "https://localhost:8080/"
        },
        "id": "MapzRBJYZEZk",
        "outputId": "7db3317d-ccc0-4d23-dbd8-49d7b61eb095"
      },
      "execution_count": 39,
      "outputs": [
        {
          "output_type": "execute_result",
          "data": {
            "text/plain": [
              "[(10, 20, 30, 40)]"
            ]
          },
          "metadata": {},
          "execution_count": 39
        }
      ]
    },
    {
      "cell_type": "code",
      "source": [
        "lista = list(tupla)\n",
        "lista"
      ],
      "metadata": {
        "colab": {
          "base_uri": "https://localhost:8080/"
        },
        "id": "ZdefOrGcZTd2",
        "outputId": "d84b2c4d-56a8-49f3-d2dc-39c91425b3be"
      },
      "execution_count": 40,
      "outputs": [
        {
          "output_type": "execute_result",
          "data": {
            "text/plain": [
              "[10, 20, 30, 40]"
            ]
          },
          "metadata": {},
          "execution_count": 40
        }
      ]
    },
    {
      "cell_type": "code",
      "source": [
        "type(tupla)"
      ],
      "metadata": {
        "colab": {
          "base_uri": "https://localhost:8080/"
        },
        "id": "tQT5IOAgZZkT",
        "outputId": "611470c3-336c-4aeb-e16f-fe1c516c69c9"
      },
      "execution_count": 41,
      "outputs": [
        {
          "output_type": "execute_result",
          "data": {
            "text/plain": [
              "tuple"
            ]
          },
          "metadata": {},
          "execution_count": 41
        }
      ]
    },
    {
      "cell_type": "code",
      "source": [
        "type(lista)"
      ],
      "metadata": {
        "colab": {
          "base_uri": "https://localhost:8080/"
        },
        "id": "WBIAS1YRZh1D",
        "outputId": "a8105bb1-6ae0-42f4-bd5d-b5e176f00b43"
      },
      "execution_count": 42,
      "outputs": [
        {
          "output_type": "execute_result",
          "data": {
            "text/plain": [
              "list"
            ]
          },
          "metadata": {},
          "execution_count": 42
        }
      ]
    },
    {
      "cell_type": "markdown",
      "source": [
        "## Sets"
      ],
      "metadata": {
        "id": "9hMbgA92xOAK"
      }
    },
    {
      "cell_type": "code",
      "source": [
        "desktop = {\"Mouse\", \"Teclado\", \"Monitor\", \"Gabinete\", \"CPU\", \"Cabos\"}\n",
        "notebook = set([\"Teclado\", \"Tela\", \"CPU\", \"Trackpad\", \"CPU\"])\n",
        "desktop"
      ],
      "metadata": {
        "colab": {
          "base_uri": "https://localhost:8080/"
        },
        "id": "8k1_YnlLZkYr",
        "outputId": "e2411cf4-618a-443b-9989-9f412df7ce13"
      },
      "execution_count": 47,
      "outputs": [
        {
          "output_type": "execute_result",
          "data": {
            "text/plain": [
              "{'CPU', 'Cabos', 'Gabinete', 'Monitor', 'Mouse', 'Teclado'}"
            ]
          },
          "metadata": {},
          "execution_count": 47
        }
      ]
    },
    {
      "cell_type": "code",
      "source": [
        "notebook.add(\"Leitor biométrico\")\n",
        "notebook"
      ],
      "metadata": {
        "colab": {
          "base_uri": "https://localhost:8080/"
        },
        "id": "xn-x6qPmaSAm",
        "outputId": "e25b7173-be0a-48d2-f970-8a44e0dc6af6"
      },
      "execution_count": 49,
      "outputs": [
        {
          "output_type": "execute_result",
          "data": {
            "text/plain": [
              "{'CPU', 'Leitor biométrico', 'Teclado', 'Tela', 'Trackpad'}"
            ]
          },
          "metadata": {},
          "execution_count": 49
        }
      ]
    },
    {
      "cell_type": "code",
      "source": [
        "notebook[0]"
      ],
      "metadata": {
        "colab": {
          "base_uri": "https://localhost:8080/",
          "height": 166
        },
        "id": "CU3G1DGhaTFE",
        "outputId": "6ff59d5e-f20b-48fb-a592-c4a7b0b8cfdc"
      },
      "execution_count": 50,
      "outputs": [
        {
          "output_type": "error",
          "ename": "TypeError",
          "evalue": "ignored",
          "traceback": [
            "\u001b[0;31m---------------------------------------------------------------------------\u001b[0m",
            "\u001b[0;31mTypeError\u001b[0m                                 Traceback (most recent call last)",
            "\u001b[0;32m<ipython-input-50-dc93e24dc751>\u001b[0m in \u001b[0;36m<module>\u001b[0;34m()\u001b[0m\n\u001b[0;32m----> 1\u001b[0;31m \u001b[0mnotebook\u001b[0m\u001b[0;34m[\u001b[0m\u001b[0;36m0\u001b[0m\u001b[0;34m]\u001b[0m\u001b[0;34m\u001b[0m\u001b[0;34m\u001b[0m\u001b[0m\n\u001b[0m",
            "\u001b[0;31mTypeError\u001b[0m: 'set' object is not subscriptable"
          ]
        }
      ]
    },
    {
      "cell_type": "code",
      "source": [
        "notebook.remove(\"Leitor biométrico\")\n",
        "notebook"
      ],
      "metadata": {
        "colab": {
          "base_uri": "https://localhost:8080/"
        },
        "id": "QLJU0v3tbAiF",
        "outputId": "f5777d4b-5c91-439c-be25-562bcf916abc"
      },
      "execution_count": 52,
      "outputs": [
        {
          "output_type": "execute_result",
          "data": {
            "text/plain": [
              "{'CPU', 'Teclado', 'Tela', 'Trackpad'}"
            ]
          },
          "metadata": {},
          "execution_count": 52
        }
      ]
    },
    {
      "cell_type": "code",
      "source": [
        "desktop.intersection(notebook)"
      ],
      "metadata": {
        "colab": {
          "base_uri": "https://localhost:8080/"
        },
        "id": "vXt5rW8hbPfd",
        "outputId": "20faac19-1cfe-4c96-bd07-f827a26607fc"
      },
      "execution_count": 53,
      "outputs": [
        {
          "output_type": "execute_result",
          "data": {
            "text/plain": [
              "{'CPU', 'Teclado'}"
            ]
          },
          "metadata": {},
          "execution_count": 53
        }
      ]
    },
    {
      "cell_type": "code",
      "source": [
        "print(desktop)\n",
        "print(notebook)"
      ],
      "metadata": {
        "colab": {
          "base_uri": "https://localhost:8080/"
        },
        "id": "_kWHRON4bkan",
        "outputId": "aa6b69a1-d9f8-48ec-c6e5-a65a3cea394e"
      },
      "execution_count": 54,
      "outputs": [
        {
          "output_type": "stream",
          "name": "stdout",
          "text": [
            "{'CPU', 'Gabinete', 'Mouse', 'Teclado', 'Monitor', 'Cabos'}\n",
            "{'CPU', 'Tela', 'Teclado', 'Trackpad'}\n"
          ]
        }
      ]
    },
    {
      "cell_type": "code",
      "source": [
        "desktop.difference(notebook)"
      ],
      "metadata": {
        "colab": {
          "base_uri": "https://localhost:8080/"
        },
        "id": "FIl2x56nbrlA",
        "outputId": "14333b98-5592-4384-b13c-1bc5fb6ba32a"
      },
      "execution_count": 56,
      "outputs": [
        {
          "output_type": "execute_result",
          "data": {
            "text/plain": [
              "{'Cabos', 'Gabinete', 'Monitor', 'Mouse'}"
            ]
          },
          "metadata": {},
          "execution_count": 56
        }
      ]
    },
    {
      "cell_type": "code",
      "source": [
        "notebook.difference(desktop)"
      ],
      "metadata": {
        "colab": {
          "base_uri": "https://localhost:8080/"
        },
        "id": "xzUvo3KMb1Rz",
        "outputId": "c69a51e2-5927-43e2-d760-4f9641b6c726"
      },
      "execution_count": 57,
      "outputs": [
        {
          "output_type": "execute_result",
          "data": {
            "text/plain": [
              "{'Tela', 'Trackpad'}"
            ]
          },
          "metadata": {},
          "execution_count": 57
        }
      ]
    },
    {
      "cell_type": "code",
      "source": [
        "desktop.union(notebook)"
      ],
      "metadata": {
        "colab": {
          "base_uri": "https://localhost:8080/"
        },
        "id": "3rF0JWahb-kx",
        "outputId": "2286e051-33e5-416b-dc9f-e4571444772f"
      },
      "execution_count": 58,
      "outputs": [
        {
          "output_type": "execute_result",
          "data": {
            "text/plain": [
              "{'CPU', 'Cabos', 'Gabinete', 'Monitor', 'Mouse', 'Teclado', 'Tela', 'Trackpad'}"
            ]
          },
          "metadata": {},
          "execution_count": 58
        }
      ]
    },
    {
      "cell_type": "code",
      "source": [
        "numeros1 = {1,2,3,4,5,6}\n",
        "numeros2 = {2,3,4}"
      ],
      "metadata": {
        "id": "0l-qITO9cIfz"
      },
      "execution_count": 71,
      "outputs": []
    },
    {
      "cell_type": "code",
      "source": [
        "numeros1.issuperset(numeros2)"
      ],
      "metadata": {
        "colab": {
          "base_uri": "https://localhost:8080/"
        },
        "id": "4tqUIoQRcWNu",
        "outputId": "b98ae78b-2be7-47d0-b4af-6c6d2264b835"
      },
      "execution_count": 72,
      "outputs": [
        {
          "output_type": "execute_result",
          "data": {
            "text/plain": [
              "True"
            ]
          },
          "metadata": {},
          "execution_count": 72
        }
      ]
    },
    {
      "cell_type": "code",
      "source": [
        "numeros2.issubset(numeros1)"
      ],
      "metadata": {
        "colab": {
          "base_uri": "https://localhost:8080/"
        },
        "id": "aOloSE6OcdFN",
        "outputId": "7b9a3e5a-8f7b-4364-fb4b-1d39bcff1099"
      },
      "execution_count": 73,
      "outputs": [
        {
          "output_type": "execute_result",
          "data": {
            "text/plain": [
              "True"
            ]
          },
          "metadata": {},
          "execution_count": 73
        }
      ]
    },
    {
      "cell_type": "markdown",
      "source": [
        "## Dicionários"
      ],
      "metadata": {
        "id": "se5suJ5JxRos"
      }
    },
    {
      "cell_type": "code",
      "source": [
        "pessoa = {\"nome\":\"Fernando\",\n",
        "          \"rua\": \"Rua Belém 844\",\n",
        "          \"telefone\": \"3333333\"}\n",
        "pessoa"
      ],
      "metadata": {
        "colab": {
          "base_uri": "https://localhost:8080/"
        },
        "id": "FUQC2lEicqAC",
        "outputId": "2f252c92-ec63-4867-d3dd-11f87fc56de0"
      },
      "execution_count": 75,
      "outputs": [
        {
          "output_type": "execute_result",
          "data": {
            "text/plain": [
              "{'nome': 'Fernando', 'rua': 'Rua Belém 844', 'telefone': '3333333'}"
            ]
          },
          "metadata": {},
          "execution_count": 75
        }
      ]
    },
    {
      "cell_type": "code",
      "source": [
        "pessoa[\"nome\"] = \"Henrique\"\n",
        "pessoa"
      ],
      "metadata": {
        "colab": {
          "base_uri": "https://localhost:8080/"
        },
        "id": "Av3WE6umdy09",
        "outputId": "ff18c1a6-6931-4836-820f-9fed3691be45"
      },
      "execution_count": 78,
      "outputs": [
        {
          "output_type": "execute_result",
          "data": {
            "text/plain": [
              "{'nome': 'Henrique', 'rua': 'Rua Belém 844', 'telefone': '3333333'}"
            ]
          },
          "metadata": {},
          "execution_count": 78
        }
      ]
    },
    {
      "cell_type": "code",
      "source": [
        "pessoa[0]"
      ],
      "metadata": {
        "colab": {
          "base_uri": "https://localhost:8080/",
          "height": 166
        },
        "id": "t2EjR2Z7eI7R",
        "outputId": "346b1c37-4841-45a6-da37-f20aaae253c2"
      },
      "execution_count": 80,
      "outputs": [
        {
          "output_type": "error",
          "ename": "KeyError",
          "evalue": "ignored",
          "traceback": [
            "\u001b[0;31m---------------------------------------------------------------------------\u001b[0m",
            "\u001b[0;31mKeyError\u001b[0m                                  Traceback (most recent call last)",
            "\u001b[0;32m<ipython-input-80-3346fa727c98>\u001b[0m in \u001b[0;36m<module>\u001b[0;34m()\u001b[0m\n\u001b[0;32m----> 1\u001b[0;31m \u001b[0mpessoa\u001b[0m\u001b[0;34m[\u001b[0m\u001b[0;36m0\u001b[0m\u001b[0;34m]\u001b[0m\u001b[0;34m\u001b[0m\u001b[0;34m\u001b[0m\u001b[0m\n\u001b[0m",
            "\u001b[0;31mKeyError\u001b[0m: 0"
          ]
        }
      ]
    },
    {
      "cell_type": "code",
      "source": [
        "pessoa[\"nome\"] = [\"Fernando\", \"Nakagawa\"]\n",
        "pessoa"
      ],
      "metadata": {
        "colab": {
          "base_uri": "https://localhost:8080/"
        },
        "id": "0l5pAmIzeSWI",
        "outputId": "fdf53e3f-681d-4c38-bef6-7c0d5a9297e4"
      },
      "execution_count": 81,
      "outputs": [
        {
          "output_type": "execute_result",
          "data": {
            "text/plain": [
              "{'nome': ['Fernando', 'Nakagawa'],\n",
              " 'rua': 'Rua Belém 844',\n",
              " 'telefone': '3333333'}"
            ]
          },
          "metadata": {},
          "execution_count": 81
        }
      ]
    },
    {
      "cell_type": "code",
      "source": [
        "x = pessoa.get(\"rua\")\n",
        "print(x)"
      ],
      "metadata": {
        "colab": {
          "base_uri": "https://localhost:8080/"
        },
        "id": "4Mp7jTQqeg9E",
        "outputId": "5a08177e-a05e-4c25-b706-04f08e840022"
      },
      "execution_count": 85,
      "outputs": [
        {
          "output_type": "stream",
          "name": "stdout",
          "text": [
            "Rua Belém 844\n"
          ]
        }
      ]
    },
    {
      "cell_type": "code",
      "source": [
        "pessoa.keys()\n"
      ],
      "metadata": {
        "colab": {
          "base_uri": "https://localhost:8080/"
        },
        "id": "YzzaW0iKeo9Q",
        "outputId": "efe3fb30-37e1-4d53-d482-c93bd2973716"
      },
      "execution_count": 86,
      "outputs": [
        {
          "output_type": "execute_result",
          "data": {
            "text/plain": [
              "dict_keys(['nome', 'rua', 'telefone'])"
            ]
          },
          "metadata": {},
          "execution_count": 86
        }
      ]
    },
    {
      "cell_type": "code",
      "source": [
        "pessoa.values()"
      ],
      "metadata": {
        "colab": {
          "base_uri": "https://localhost:8080/"
        },
        "id": "-XHySIHEe0CE",
        "outputId": "fe657965-7e3c-44b9-b717-14ccd9b58bc4"
      },
      "execution_count": 87,
      "outputs": [
        {
          "output_type": "execute_result",
          "data": {
            "text/plain": [
              "dict_values([['Fernando', 'Nakagawa'], 'Rua Belém 844', '3333333'])"
            ]
          },
          "metadata": {},
          "execution_count": 87
        }
      ]
    },
    {
      "cell_type": "code",
      "source": [
        "dict([('sape', 4139), ('guido', 4127), ('jack', 4098)])"
      ],
      "metadata": {
        "colab": {
          "base_uri": "https://localhost:8080/"
        },
        "id": "P_uFjhOCe67w",
        "outputId": "ca2fd01d-b192-4baf-bf95-b49b2c1c2c2a"
      },
      "execution_count": 88,
      "outputs": [
        {
          "output_type": "execute_result",
          "data": {
            "text/plain": [
              "{'guido': 4127, 'jack': 4098, 'sape': 4139}"
            ]
          },
          "metadata": {},
          "execution_count": 88
        }
      ]
    },
    {
      "cell_type": "code",
      "source": [
        "pessoas = [pessoa, pessoa]\n",
        "pessoas"
      ],
      "metadata": {
        "colab": {
          "base_uri": "https://localhost:8080/"
        },
        "id": "7U3426XnfO-E",
        "outputId": "380155f0-cae8-4e30-b91d-8d845fc4d313"
      },
      "execution_count": 89,
      "outputs": [
        {
          "output_type": "execute_result",
          "data": {
            "text/plain": [
              "[{'nome': ['Fernando', 'Nakagawa'],\n",
              "  'rua': 'Rua Belém 844',\n",
              "  'telefone': '3333333'},\n",
              " {'nome': ['Fernando', 'Nakagawa'],\n",
              "  'rua': 'Rua Belém 844',\n",
              "  'telefone': '3333333'}]"
            ]
          },
          "metadata": {},
          "execution_count": 89
        }
      ]
    },
    {
      "cell_type": "markdown",
      "source": [
        "## Slicing"
      ],
      "metadata": {
        "id": "lE_1DL2BgD4P"
      }
    },
    {
      "cell_type": "code",
      "source": [
        "lista_de_compras"
      ],
      "metadata": {
        "colab": {
          "base_uri": "https://localhost:8080/"
        },
        "id": "q_7oUjf0fcPK",
        "outputId": "de9c3b88-6090-441f-c494-697efe4a9626"
      },
      "execution_count": 90,
      "outputs": [
        {
          "output_type": "execute_result",
          "data": {
            "text/plain": [
              "['batata', 'arroz', 'feijão', 'macarrão', 'arroz', 'abacate']"
            ]
          },
          "metadata": {},
          "execution_count": 90
        }
      ]
    },
    {
      "cell_type": "code",
      "source": [
        "lista_de_compras[1]"
      ],
      "metadata": {
        "colab": {
          "base_uri": "https://localhost:8080/",
          "height": 35
        },
        "id": "Ely8P4JjgHrX",
        "outputId": "09393545-d9ac-4b63-c2a0-029ae145cba4"
      },
      "execution_count": 94,
      "outputs": [
        {
          "output_type": "execute_result",
          "data": {
            "text/plain": [
              "'arroz'"
            ],
            "application/vnd.google.colaboratory.intrinsic+json": {
              "type": "string"
            }
          },
          "metadata": {},
          "execution_count": 94
        }
      ]
    },
    {
      "cell_type": "code",
      "source": [
        "lista_de_compras[1:4]"
      ],
      "metadata": {
        "colab": {
          "base_uri": "https://localhost:8080/"
        },
        "id": "3gEo1SxagMQS",
        "outputId": "b0abcd1d-7957-43a9-8677-28b2f5e5e4a2"
      },
      "execution_count": 93,
      "outputs": [
        {
          "output_type": "execute_result",
          "data": {
            "text/plain": [
              "['arroz', 'feijão', 'macarrão']"
            ]
          },
          "metadata": {},
          "execution_count": 93
        }
      ]
    },
    {
      "cell_type": "code",
      "source": [
        "lista_de_compras[4:1]"
      ],
      "metadata": {
        "colab": {
          "base_uri": "https://localhost:8080/"
        },
        "id": "eAGLq929gQ_T",
        "outputId": "972370c4-4d41-44c0-c966-f273f44e5af9"
      },
      "execution_count": 95,
      "outputs": [
        {
          "output_type": "execute_result",
          "data": {
            "text/plain": [
              "[]"
            ]
          },
          "metadata": {},
          "execution_count": 95
        }
      ]
    },
    {
      "cell_type": "code",
      "source": [
        "lista_de_compras[-3]"
      ],
      "metadata": {
        "colab": {
          "base_uri": "https://localhost:8080/",
          "height": 35
        },
        "id": "_c6CgU7UgioF",
        "outputId": "65583a5a-40ff-4c27-d883-52ba56abdc7c"
      },
      "execution_count": 98,
      "outputs": [
        {
          "output_type": "execute_result",
          "data": {
            "text/plain": [
              "'macarrão'"
            ],
            "application/vnd.google.colaboratory.intrinsic+json": {
              "type": "string"
            }
          },
          "metadata": {},
          "execution_count": 98
        }
      ]
    },
    {
      "cell_type": "code",
      "source": [
        "lista_de_compras[-4:-1]"
      ],
      "metadata": {
        "colab": {
          "base_uri": "https://localhost:8080/"
        },
        "id": "rM8THw2zgsYT",
        "outputId": "bfa4d379-ad67-4d1b-b725-dde3de329d7a"
      },
      "execution_count": 99,
      "outputs": [
        {
          "output_type": "execute_result",
          "data": {
            "text/plain": [
              "['feijão', 'macarrão', 'arroz']"
            ]
          },
          "metadata": {},
          "execution_count": 99
        }
      ]
    },
    {
      "cell_type": "code",
      "source": [
        "lista_de_compras[-1:-4]"
      ],
      "metadata": {
        "colab": {
          "base_uri": "https://localhost:8080/"
        },
        "id": "9zRRp8NGhCVf",
        "outputId": "b3858709-3f72-4277-f0bf-0151bf976b5d"
      },
      "execution_count": 100,
      "outputs": [
        {
          "output_type": "execute_result",
          "data": {
            "text/plain": [
              "[]"
            ]
          },
          "metadata": {},
          "execution_count": 100
        }
      ]
    },
    {
      "cell_type": "code",
      "source": [
        "lista_de_compras[-4:3]"
      ],
      "metadata": {
        "colab": {
          "base_uri": "https://localhost:8080/"
        },
        "id": "so5wcLTuhMIl",
        "outputId": "90fda0ff-d4e6-4e92-f403-fb142f18e9e1"
      },
      "execution_count": 101,
      "outputs": [
        {
          "output_type": "execute_result",
          "data": {
            "text/plain": [
              "['feijão']"
            ]
          },
          "metadata": {},
          "execution_count": 101
        }
      ]
    },
    {
      "cell_type": "code",
      "source": [
        "lista_de_compras[-5:4]"
      ],
      "metadata": {
        "colab": {
          "base_uri": "https://localhost:8080/"
        },
        "id": "uAySaZ_uhQgv",
        "outputId": "4d6fbd87-ce22-45f7-d3ab-c967171664d5"
      },
      "execution_count": 103,
      "outputs": [
        {
          "output_type": "execute_result",
          "data": {
            "text/plain": [
              "['arroz', 'feijão', 'macarrão']"
            ]
          },
          "metadata": {},
          "execution_count": 103
        }
      ]
    },
    {
      "cell_type": "code",
      "source": [
        "lista_de_compras[1:6]"
      ],
      "metadata": {
        "colab": {
          "base_uri": "https://localhost:8080/"
        },
        "id": "eX96rmFhhccU",
        "outputId": "58a691ce-5c3e-49c7-e6fb-904c237d3821"
      },
      "execution_count": 104,
      "outputs": [
        {
          "output_type": "execute_result",
          "data": {
            "text/plain": [
              "['arroz', 'feijão', 'macarrão', 'arroz', 'abacate']"
            ]
          },
          "metadata": {},
          "execution_count": 104
        }
      ]
    },
    {
      "cell_type": "code",
      "source": [
        "lista_de_compras[1:6:2]"
      ],
      "metadata": {
        "colab": {
          "base_uri": "https://localhost:8080/"
        },
        "id": "8UWxOVlth7Zm",
        "outputId": "361a0166-2ae0-458f-9a0f-cdcced8fe333"
      },
      "execution_count": 105,
      "outputs": [
        {
          "output_type": "execute_result",
          "data": {
            "text/plain": [
              "['arroz', 'macarrão', 'abacate']"
            ]
          },
          "metadata": {},
          "execution_count": 105
        }
      ]
    },
    {
      "cell_type": "code",
      "source": [
        "lista_de_compras"
      ],
      "metadata": {
        "colab": {
          "base_uri": "https://localhost:8080/"
        },
        "id": "dZTOCWOTh-lH",
        "outputId": "3ed40a6d-d7a5-44bd-a3e4-e64ae4f2f557"
      },
      "execution_count": 106,
      "outputs": [
        {
          "output_type": "execute_result",
          "data": {
            "text/plain": [
              "['batata', 'arroz', 'feijão', 'macarrão', 'arroz', 'abacate']"
            ]
          },
          "metadata": {},
          "execution_count": 106
        }
      ]
    },
    {
      "cell_type": "markdown",
      "source": [
        "## Técnicas de Loop"
      ],
      "metadata": {
        "id": "-WRHlr2Gxgd_"
      }
    },
    {
      "cell_type": "code",
      "source": [
        "for i, x in enumerate(lista_de_compras): \n",
        "  print(i, x)"
      ],
      "metadata": {
        "colab": {
          "base_uri": "https://localhost:8080/"
        },
        "id": "YmBXcff7iZhp",
        "outputId": "f3892243-0482-4a78-e6c3-ca291c083185"
      },
      "execution_count": 108,
      "outputs": [
        {
          "output_type": "stream",
          "name": "stdout",
          "text": [
            "0 batata\n",
            "1 arroz\n",
            "2 feijão\n",
            "3 macarrão\n",
            "4 arroz\n",
            "5 abacate\n"
          ]
        }
      ]
    },
    {
      "cell_type": "code",
      "source": [
        "pessoas"
      ],
      "metadata": {
        "colab": {
          "base_uri": "https://localhost:8080/"
        },
        "id": "k6VrJGjvidby",
        "outputId": "08f6e6d8-6b8c-49b9-e538-df73976c64ff"
      },
      "execution_count": 109,
      "outputs": [
        {
          "output_type": "execute_result",
          "data": {
            "text/plain": [
              "[{'nome': ['Fernando', 'Nakagawa'],\n",
              "  'rua': 'Rua Belém 844',\n",
              "  'telefone': '3333333'},\n",
              " {'nome': ['Fernando', 'Nakagawa'],\n",
              "  'rua': 'Rua Belém 844',\n",
              "  'telefone': '3333333'}]"
            ]
          },
          "metadata": {},
          "execution_count": 109
        }
      ]
    },
    {
      "cell_type": "code",
      "source": [
        "for k, v in pessoa.items():\n",
        "  print(k, \"|\", v)"
      ],
      "metadata": {
        "colab": {
          "base_uri": "https://localhost:8080/"
        },
        "id": "ynJ6tsGJi06y",
        "outputId": "573bbd6d-3d3c-427e-d1b2-c9db3e909fbf"
      },
      "execution_count": 112,
      "outputs": [
        {
          "output_type": "stream",
          "name": "stdout",
          "text": [
            "nome | ['Fernando', 'Nakagawa']\n",
            "rua | Rua Belém 844\n",
            "telefone | 3333333\n"
          ]
        }
      ]
    },
    {
      "cell_type": "code",
      "source": [
        "lista_de_compras"
      ],
      "metadata": {
        "colab": {
          "base_uri": "https://localhost:8080/"
        },
        "id": "fXGfQ7QCi6ZL",
        "outputId": "8abbeefe-86ed-4c53-ee87-43ed7760d578"
      },
      "execution_count": 113,
      "outputs": [
        {
          "output_type": "execute_result",
          "data": {
            "text/plain": [
              "['batata', 'arroz', 'feijão', 'macarrão', 'arroz', 'abacate']"
            ]
          },
          "metadata": {},
          "execution_count": 113
        }
      ]
    },
    {
      "cell_type": "code",
      "source": [
        "lista_de_pessoas = [\"Fernando\", \"Iago\", \"Henrique\", \"Rogerio\", \"Isadora\", \"Angélica\", \"Camila\"]\n",
        "\n",
        "for item, pessoa in zip(lista_de_compras, lista_de_pessoas):\n",
        "  print(f\"{pessoa} irá trazer {item}\")"
      ],
      "metadata": {
        "colab": {
          "base_uri": "https://localhost:8080/"
        },
        "id": "_IWWUKSgjWH6",
        "outputId": "843e5354-33d2-4f93-a8b7-315edacc64e9"
      },
      "execution_count": 117,
      "outputs": [
        {
          "output_type": "stream",
          "name": "stdout",
          "text": [
            "Fernando irá trazer batata\n",
            "Iago irá trazer arroz\n",
            "Henrique irá trazer feijão\n",
            "Rogerio irá trazer macarrão\n",
            "Isadora irá trazer arroz\n",
            "Angélica irá trazer abacate\n"
          ]
        }
      ]
    },
    {
      "cell_type": "markdown",
      "source": [
        "## List Comprehensions"
      ],
      "metadata": {
        "id": "0mz5KEZ2x09z"
      }
    },
    {
      "cell_type": "code",
      "source": [
        "fruits = [\"apple\", \"banana\", \"cherry\", \"kiwi\", \"mango\"]\n",
        "\n",
        "newlist = [x for x in fruits if \"a\" in x]\n",
        "\n",
        "print(newlist)"
      ],
      "metadata": {
        "colab": {
          "base_uri": "https://localhost:8080/"
        },
        "id": "WPoJd1-dj2PL",
        "outputId": "d90a8499-dcf3-4d16-df7b-a557d9b72e85"
      },
      "execution_count": 118,
      "outputs": [
        {
          "output_type": "stream",
          "name": "stdout",
          "text": [
            "['apple', 'banana', 'mango']\n"
          ]
        }
      ]
    },
    {
      "cell_type": "code",
      "source": [
        "newlist2 = []\n",
        "for x in fruits:\n",
        "  if \"a\" in x:\n",
        "    newlist2.append(x)\n",
        "newlist2"
      ],
      "metadata": {
        "colab": {
          "base_uri": "https://localhost:8080/"
        },
        "id": "d4D7IA0-kuk4",
        "outputId": "66cd30d9-daeb-43d8-ba3b-45a303fb1fd8"
      },
      "execution_count": 119,
      "outputs": [
        {
          "output_type": "execute_result",
          "data": {
            "text/plain": [
              "['apple', 'banana', 'mango']"
            ]
          },
          "metadata": {},
          "execution_count": 119
        }
      ]
    },
    {
      "cell_type": "code",
      "source": [
        "numeros = [0,1,2,3,4,5,6]\n",
        "lista_numeros = [n for n in numeros if n%2 == 1]\n",
        "lista_numeros"
      ],
      "metadata": {
        "colab": {
          "base_uri": "https://localhost:8080/"
        },
        "id": "fg2XiNIYlHCn",
        "outputId": "f235fd31-904d-4bb6-9a13-64ad103e1913"
      },
      "execution_count": 122,
      "outputs": [
        {
          "output_type": "execute_result",
          "data": {
            "text/plain": [
              "[1, 3, 5]"
            ]
          },
          "metadata": {},
          "execution_count": 122
        }
      ]
    },
    {
      "cell_type": "code",
      "source": [
        ""
      ],
      "metadata": {
        "id": "Ovya0sZllmQ4"
      },
      "execution_count": null,
      "outputs": []
    }
  ]
}