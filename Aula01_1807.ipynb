{
  "nbformat": 4,
  "nbformat_minor": 0,
  "metadata": {
    "colab": {
      "name": "Aula01_1807.ipynb",
      "provenance": [],
      "mount_file_id": "1h5PSt61vulfuxhudt2ihIrqy5gS2AEDI",
      "authorship_tag": "ABX9TyNKv4U+bIHVk/mmVpKabhu2",
      "include_colab_link": true
    },
    "kernelspec": {
      "name": "python3",
      "display_name": "Python 3"
    },
    "language_info": {
      "name": "python"
    }
  },
  "cells": [
    {
      "cell_type": "markdown",
      "metadata": {
        "id": "view-in-github",
        "colab_type": "text"
      },
      "source": [
        "<a href=\"https://colab.research.google.com/github/fernandonakagawa/Python_TCS_100h/blob/main/Aula01_1807.ipynb\" target=\"_parent\"><img src=\"https://colab.research.google.com/assets/colab-badge.svg\" alt=\"Open In Colab\"/></a>"
      ]
    },
    {
      "cell_type": "markdown",
      "source": [
        "# Aula de Python\n",
        "\n",
        "18/07\n",
        "\n"
      ],
      "metadata": {
        "id": "cS7NnmC4QDc_"
      }
    },
    {
      "cell_type": "code",
      "execution_count": 8,
      "metadata": {
        "colab": {
          "base_uri": "https://localhost:8080/",
          "height": 53
        },
        "id": "5GdJ4FxTCaXv",
        "outputId": "89d47f23-bebc-4c74-b9d2-fc128183080f"
      },
      "outputs": [
        {
          "output_type": "stream",
          "name": "stdout",
          "text": [
            "Bom dia\n"
          ]
        },
        {
          "output_type": "execute_result",
          "data": {
            "text/plain": [
              "'\\nComentário\\nde bloco\\n'"
            ],
            "application/vnd.google.colaboratory.intrinsic+json": {
              "type": "string"
            }
          },
          "metadata": {},
          "execution_count": 8
        }
      ],
      "source": [
        "a = 10\n",
        "print(\"Bom dia\")\n",
        "# Comentário de linha\n",
        "\"\"\"\n",
        "Comentário\n",
        "de bloco\n",
        "\"\"\"\n"
      ]
    },
    {
      "cell_type": "code",
      "source": [
        "a = \"Boa tarde\"\n",
        "print( type(a) )\n",
        "texto = 'Boa noite'\n",
        "numero_real = 3.14\n",
        "booleana = True"
      ],
      "metadata": {
        "colab": {
          "base_uri": "https://localhost:8080/"
        },
        "id": "aEAihezFNheA",
        "outputId": "d47b936d-51fc-4bf5-b2c0-cc9baf5d8841"
      },
      "execution_count": 9,
      "outputs": [
        {
          "output_type": "stream",
          "name": "stdout",
          "text": [
            "<class 'str'>\n"
          ]
        }
      ]
    },
    {
      "cell_type": "code",
      "source": [
        "inteiro_grande = 999999999999999999999999999999999999999999999999999965567876665887699999999999 + 1\n",
        "print(inteiro_grande)"
      ],
      "metadata": {
        "colab": {
          "base_uri": "https://localhost:8080/"
        },
        "id": "Z8qElFihQAYL",
        "outputId": "cdfc44c9-657c-45ef-d7e4-57a0dc9ecdf8"
      },
      "execution_count": 11,
      "outputs": [
        {
          "output_type": "stream",
          "name": "stdout",
          "text": [
            "999999999999999999999999999999999999999999999999999965567876665887700000000000\n"
          ]
        }
      ]
    },
    {
      "cell_type": "code",
      "source": [
        "nome = input(\"Digite o seu nome: \")\n",
        "print(\"Olá \" + nome)\n",
        "print(f\"Olá {nome}\")"
      ],
      "metadata": {
        "colab": {
          "base_uri": "https://localhost:8080/"
        },
        "id": "SOiobKyeg12w",
        "outputId": "5fc072c3-04c2-4da2-a5de-1329a865cc1a"
      },
      "execution_count": 13,
      "outputs": [
        {
          "output_type": "stream",
          "name": "stdout",
          "text": [
            "Digite o seu nome: Fernando\n",
            "Olá Fernando\n",
            "Olá Fernando\n"
          ]
        }
      ]
    },
    {
      "cell_type": "code",
      "source": [
        "numero = input(\"Digite um número: \")\n",
        "print(f\"O dobro de {numero} é {numero * 2}! \")\n",
        "#Está incorreto"
      ],
      "metadata": {
        "colab": {
          "base_uri": "https://localhost:8080/"
        },
        "id": "bW3xWoOuhNl-",
        "outputId": "ef829c40-6589-40de-f64e-a59c56213b63"
      },
      "execution_count": 15,
      "outputs": [
        {
          "output_type": "stream",
          "name": "stdout",
          "text": [
            "Digite um número: 2\n",
            "O dobro de 2 é 22! \n"
          ]
        }
      ]
    },
    {
      "cell_type": "code",
      "source": [
        "numero = int(input(\"Digite um número: \"))\n",
        "print(f\"O dobro de {numero} é {numero * 2}! \")"
      ],
      "metadata": {
        "colab": {
          "base_uri": "https://localhost:8080/"
        },
        "id": "vv_K9VO8hjc5",
        "outputId": "3a2e8d38-f608-4e01-b97d-8f89d1081773"
      },
      "execution_count": 18,
      "outputs": [
        {
          "output_type": "stream",
          "name": "stdout",
          "text": [
            "Digite um número: 2\n",
            "O dobro de 2 é 4! \n"
          ]
        }
      ]
    },
    {
      "cell_type": "code",
      "source": [
        ""
      ],
      "metadata": {
        "id": "ay503gQah-l2"
      },
      "execution_count": null,
      "outputs": []
    }
  ]
}